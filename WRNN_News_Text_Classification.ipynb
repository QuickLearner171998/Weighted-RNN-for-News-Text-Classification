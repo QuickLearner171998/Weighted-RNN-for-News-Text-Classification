{
  "nbformat": 4,
  "nbformat_minor": 0,
  "metadata": {
    "colab": {
      "name": "WRNN-News_Text_Classification.ipynb",
      "provenance": [],
      "collapsed_sections": [],
      "include_colab_link": true
    },
    "kernelspec": {
      "name": "python3",
      "display_name": "Python 3"
    },
    "accelerator": "GPU"
  },
  "cells": [
    {
      "cell_type": "markdown",
      "metadata": {
        "id": "view-in-github",
        "colab_type": "text"
      },
      "source": [
        "<a href=\"https://colab.research.google.com/github/QuickLearner171998/Weighted-RNN-for-News-Text-Classification/blob/master/WRNN_News_Text_Classification.ipynb\" target=\"_parent\"><img src=\"https://colab.research.google.com/assets/colab-badge.svg\" alt=\"Open In Colab\"/></a>"
      ]
    },
    {
      "cell_type": "markdown",
      "metadata": {
        "id": "0V6VsSotwNhy",
        "colab_type": "text"
      },
      "source": [
        "# Imports\n"
      ]
    },
    {
      "cell_type": "code",
      "metadata": {
        "id": "_F5vE8urN7n9",
        "colab_type": "code",
        "outputId": "aee598d5-d043-474f-b26e-633cc00a9302",
        "colab": {
          "base_uri": "https://localhost:8080/",
          "height": 126
        }
      },
      "source": [
        "from google.colab import drive\n",
        "drive.mount('/content/drive/', force_remount=True)"
      ],
      "execution_count": 1,
      "outputs": [
        {
          "output_type": "stream",
          "text": [
            "Go to this URL in a browser: https://accounts.google.com/o/oauth2/auth?client_id=947318989803-6bn6qk8qdgf4n4g3pfee6491hc0brc4i.apps.googleusercontent.com&redirect_uri=urn%3aietf%3awg%3aoauth%3a2.0%3aoob&response_type=code&scope=email%20https%3a%2f%2fwww.googleapis.com%2fauth%2fdocs.test%20https%3a%2f%2fwww.googleapis.com%2fauth%2fdrive%20https%3a%2f%2fwww.googleapis.com%2fauth%2fdrive.photos.readonly%20https%3a%2f%2fwww.googleapis.com%2fauth%2fpeopleapi.readonly\n",
            "\n",
            "Enter your authorization code:\n",
            "··········\n",
            "Mounted at /content/drive/\n"
          ],
          "name": "stdout"
        }
      ]
    },
    {
      "cell_type": "code",
      "metadata": {
        "id": "0CmxHdbUDQpU",
        "colab_type": "code",
        "colab": {}
      },
      "source": [
        "% cd \"/content/drive/My Drive/nnfl_project/\""
      ],
      "execution_count": 0,
      "outputs": []
    },
    {
      "cell_type": "code",
      "metadata": {
        "id": "c8zYf1TVwM5J",
        "colab_type": "code",
        "colab": {}
      },
      "source": [
        "%tensorflow_version 1.x\n",
        "from sklearn.datasets import fetch_20newsgroups\n",
        "from keras.utils import to_categorical\n",
        "import os\n",
        "import glob\n",
        "import numpy as np\n",
        "import pickle\n",
        "from tqdm import tqdm\n",
        "from keras.layers import Activation, Dense, Embedding, Flatten, LSTM, Input, Reshape, Conv1D\n",
        "from keras.models import Sequential\n",
        "from keras.regularizers import l1_l2\n",
        "from keras.callbacks import ModelCheckpoint, EarlyStopping\n",
        "from keras.preprocessing.text import Tokenizer\n",
        "from keras.preprocessing.sequence import pad_sequences\n",
        "from keras.metrics import categorical_accuracy\n",
        "from keras.models import load_model, Model\n",
        "from keras.optimizers import Adam\n",
        "\n",
        "\n",
        "PATH = '/content/drive/My Drive/nnfl_project/'\n",
        "DATA_PATH = '/content/drive/My Drive/nnfl_project/data'\n",
        "GLOVE_PATH = '/content/drive/My Drive/glove.840B.300d.txt'"
      ],
      "execution_count": 0,
      "outputs": []
    },
    {
      "cell_type": "code",
      "metadata": {
        "id": "o8x0nRb9BJUx",
        "colab_type": "code",
        "colab": {}
      },
      "source": [
        "def clean_data(docs):\n",
        "  pass\n",
        "\n",
        "def text_length_selection(docs, theta = 0.85):\n",
        "  \"\"\" \n",
        "  Input-\n",
        "    doc : newsgroups_train.data - list of strings \n",
        "    theta - threshold - 0.85(as in the paper)\n",
        "  Output-\n",
        "    sl\n",
        "  \"\"\"\n",
        "  # list having number of words in each document.\n",
        "  DL = [len(docs[i].split()) for i in range(len(docs))]\n",
        "  DNum =len(DL)\n",
        "  sort_DL = sorted(DL)\n",
        "  for SL in set(sort_DL):\n",
        "    thresh = sort_DL.index(SL)/DNum\n",
        "    if(thresh>=theta):\n",
        "      return SL\n",
        "\n",
        "def tokenize_sequences(texts, sl):\n",
        "\n",
        "  tokenizer = Tokenizer(oov_token='<UNK>')\n",
        "  tokenizer.fit_on_texts(texts)\n",
        "\n",
        "  sequences = tokenizer.texts_to_sequences(texts)\n",
        "  sequences = pad_sequences(sequences, maxlen=sl)\n",
        "\n",
        "  return tokenizer, sequences\n",
        "\n",
        "def get_data(data_path):\n",
        "  newsgroups_data = fetch_20newsgroups(data_path, subset='all')\n",
        "  labels = newsgroups_data.target\n",
        "  texts = newsgroups_data.data\n",
        "  return labels, texts\n",
        "\n",
        "def get_epoch_frm_model_file(save_path):\n",
        "  return int(save_path[:save_path.index('_')])\n",
        "  # return int(save_path.split('_')[2])\n",
        "\n",
        "def return_last_saved_model(paths):\n",
        "  last_epoch_prev = -1\n",
        "  ret_path = \"\"\n",
        "  for path in paths:\n",
        "    last_epoch = get_epoch_frm_model_file(path)\n",
        "    if(last_epoch >= last_epoch_prev):\n",
        "      last_epoch_prev = last_epoch\n",
        "      ret_path = path\n",
        "  return ret_path\n"
      ],
      "execution_count": 0,
      "outputs": []
    },
    {
      "cell_type": "code",
      "metadata": {
        "id": "HMOXVhdlpBUQ",
        "colab_type": "code",
        "colab": {}
      },
      "source": [
        "def get_embedding_matrix(tokenizer, path, embedding_dim):\n",
        "    \"\"\"\n",
        "    :param path: path to the glove embeddings file\n",
        "    :param tokenizer: tokenizer fitted on the documents\n",
        "    :param vocab_size: vocabulary size \n",
        "    :return: an embedding matrix: a nn.Embeddings\n",
        "    \"\"\"\n",
        "    # Load the GloVe vectors into a dictionary, keeping only words in vocab\n",
        "    # embedding_dim = 300\n",
        "    # glove_path = \"/content/drive/My Drive/glove.840B.300d.txt\"\n",
        "    glove_path = path\n",
        "    glove_vectors = {}\n",
        "    glove_file = open(glove_path, 'r')\n",
        "    for line in tqdm(glove_file):\n",
        "        split_line = line.rstrip().split()\n",
        "        word = split_line[0]\n",
        "        if len(split_line) != (embedding_dim + 1) or word not in tokenizer.word_index:\n",
        "            continue\n",
        "        assert (len(split_line) == embedding_dim + 1)\n",
        "        vector = np.array([float(x) for x in split_line[1:]], dtype=\"float32\")\n",
        "        assert len(vector) == embedding_dim\n",
        "        glove_vectors[word] = vector\n",
        "\n",
        "    glove_file.close()\n",
        "\n",
        "    print(\"Number of pre-trained word vectors loaded: \", len(glove_vectors))\n",
        "\n",
        "    # Calculate mean and stdev of embeddings\n",
        "    all_embeddings = np.array(list(glove_vectors.values()))\n",
        "    embeddings_mean = float(np.mean(all_embeddings))\n",
        "    embeddings_stdev = float(np.std(all_embeddings))\n",
        "\n",
        "    vocab_size = len(tokenizer.word_index)\n",
        "    # Randomly initialize an embedding matrix of (vocab_size, embedding_dim) shape\n",
        "    # with a similar distribution as the pretrained embeddings for words in vocab.\n",
        "    embedding_matrix = np.random.normal(embeddings_mean, embeddings_stdev, (vocab_size, embedding_dim))\n",
        "\n",
        "    for i, word in enumerate(tokenizer.word_index):\n",
        "        if word in glove_vectors:\n",
        "            embedding_matrix[i] = glove_vectors[word]\n",
        "\n",
        "    return embedding_matrix"
      ],
      "execution_count": 0,
      "outputs": []
    },
    {
      "cell_type": "code",
      "metadata": {
        "id": "-zXGi21mt7Sj",
        "colab_type": "code",
        "colab": {}
      },
      "source": [
        "# in paper\n",
        "embed_dim = 300 \n",
        "hidden_dim  = 128\n",
        "batch_size  = 128\n",
        "epochs = 100\n",
        "init_epoch = 0\n",
        "sl = 300\n"
      ],
      "execution_count": 0,
      "outputs": []
    },
    {
      "cell_type": "code",
      "metadata": {
        "id": "as34xea2_7YH",
        "colab_type": "code",
        "colab": {}
      },
      "source": [
        "\n",
        "save_embedding_matrix_path = PATH + 'embedding_matrix.pkl'\n",
        "\n",
        "labels, texts = get_data(DATA_PATH)\n",
        "tokenizer, tokenized_seq = tokenize_sequences(texts, sl)\n",
        "vocab_size = len(tokenizer.word_index)"
      ],
      "execution_count": 0,
      "outputs": []
    },
    {
      "cell_type": "code",
      "metadata": {
        "id": "grGp8eLoj1IK",
        "colab_type": "code",
        "outputId": "26bdac47-1162-4298-d077-122eb330c715",
        "colab": {
          "base_uri": "https://localhost:8080/",
          "height": 52
        }
      },
      "source": [
        "if(glob.glob(save_embedding_matrix_path)):\n",
        "  print('Embedding matrix found. Loading ...')\n",
        "  with open(save_embedding_matrix_path, 'rb') as f:\n",
        "    embedding_matrix = pickle.load(f)\n",
        "\n",
        "  print('Done.')\n",
        "\n",
        "else:\n",
        "  embedding_matrix = get_embedding_matrix(tokenizer, GLOVE_PATH, embed_dim)\n",
        "  with open(save_embedding_matrix_path, 'wb+') as f:\n",
        "    pickle.dump(embedding_matrix, f)\n"
      ],
      "execution_count": 7,
      "outputs": [
        {
          "output_type": "stream",
          "text": [
            "Embedding matrix found. Loading ...\n",
            "Done.\n"
          ],
          "name": "stdout"
        }
      ]
    },
    {
      "cell_type": "code",
      "metadata": {
        "id": "7Vp-99TfO3TO",
        "colab_type": "code",
        "colab": {}
      },
      "source": [
        "# convert labels to one hot\n",
        "labels = to_categorical(np.asarray(labels))\n",
        "output_dim = labels.shape[1]"
      ],
      "execution_count": 0,
      "outputs": []
    },
    {
      "cell_type": "code",
      "metadata": {
        "id": "fKJRdWgJt8MM",
        "colab_type": "code",
        "outputId": "3cc82f95-956c-477b-9e51-a5bfb077e6dc",
        "colab": {
          "base_uri": "https://localhost:8080/",
          "height": 70
        }
      },
      "source": [
        "print(tokenized_seq.shape)\n",
        "print(labels.shape)\n",
        "vocab_size"
      ],
      "execution_count": 9,
      "outputs": [
        {
          "output_type": "stream",
          "text": [
            "(18846, 300)\n",
            "(18846, 20)\n"
          ],
          "name": "stdout"
        },
        {
          "output_type": "execute_result",
          "data": {
            "text/plain": [
              "179210"
            ]
          },
          "metadata": {
            "tags": []
          },
          "execution_count": 9
        }
      ]
    },
    {
      "cell_type": "code",
      "metadata": {
        "id": "_OJ5L_OiCj1P",
        "colab_type": "code",
        "colab": {}
      },
      "source": [
        "# inp = Input(shape=(sl,))\n",
        "# embed = Embedding(input_dim=vocab_size, output_dim=embed_dim, weights=[embedding_matrix], input_length=sl, trainable=False)(inp)\n",
        "# # print(embed.shape)\n",
        "# lstm = LSTM(hidden_dim,return_sequences=True)(embed)\n",
        "# # print(lstm.shape)\n",
        "# tensors = []\n",
        "# for i in range(sl):\n",
        "#   w_m = Lambda(lambda x: x[:, i, :], output_shape=(hidden_dim,))(lstm)\n",
        "#   # w_m = Lambda(lambda x: x[:, i, :], output_shape=(sl,))(lstm)\n",
        "#   w_i = Dense(1, activation='relu')(w_m)\n",
        "#   prod = multiply([w_m, w_i])\n",
        "#   tensors.append(prod)\n",
        "\n",
        "# wd = add(tensors)\n",
        "# # dense1 = Dense(1,activation='relu',activity_regularizer=l1_l2(0.01))(lstm)\n",
        "# # print(dense1.shape)\n",
        "# # f = Flatten()(wd)\n",
        "# dense2 = Dense(hidden_dim, activation='relu' ,activity_regularizer=l1_l2(0.01))(wd)\n",
        "# out = Dense(output_dim, activation='softmax')(dense2)\n",
        "# model = Model(input = inp, outputs = out)\n",
        "# model.compile(loss='categorical_crossentropy', optimizer=Adam(lr=0.01),metrics=['accuracy'])"
      ],
      "execution_count": 0,
      "outputs": []
    },
    {
      "cell_type": "code",
      "metadata": {
        "id": "zgUfbF1AySbh",
        "colab_type": "code",
        "colab": {}
      },
      "source": [
        "\n",
        "# # create model\n",
        "\n",
        "# inp = Input(shape= (sl,))\n",
        "# embed = Embedding(input_dim=vocab_size, output_dim=embed_dim, weights= [embedding_matrix], input_length=sl, trainable = False )(inp)\n",
        "# lstm = LSTM(hidden_dim,return_sequences=True,recurrent_dropout=0.2,dropout=0.2)(embed) # o/p 300x128\n",
        "# # Note o/p of a rnn cel or lstm cell gives prob of each word - (300,)\n",
        "# # conv 1d inp shape - (128,300) -- reshape needed\n",
        "# f1 = Flatten()(lstm)\n",
        "# r2 = Reshape((hidden_dim,sl))(f1)\n",
        "# conv1d = Conv1D(hidden_dim,1,activation='relu' )(r2)\n",
        "# f = Flatten()(conv1d)\n",
        "# d = Dense(hidden_dim,activation='relu')(f)\n",
        "# out = Dense(output_dim, activation='softmax', activity_regularizer=l1_l2(0.01,0.01))(d)\n",
        "# model = Model(input = inp, outputs = out)\n",
        "# model.summary()\n"
      ],
      "execution_count": 0,
      "outputs": []
    },
    {
      "cell_type": "code",
      "metadata": {
        "id": "KP9vvafJUfRp",
        "colab_type": "code",
        "outputId": "0e3bface-b817-45d1-c412-2c3db5047b37",
        "colab": {
          "base_uri": "https://localhost:8080/",
          "height": 540
        }
      },
      "source": [
        "inp = Input(shape= (sl,))\n",
        "embed = Embedding(input_dim=vocab_size, output_dim=embed_dim, weights= [embedding_matrix], input_length=sl, trainable = True )(inp)\n",
        "lstm = LSTM(hidden_dim,return_sequences=True,recurrent_dropout=0.2,dropout=0.2)(embed) # o/p 300x128\n",
        "f1 = Flatten()(lstm)\n",
        "r2 = Reshape((hidden_dim,embed_dim))(f1)\n",
        "conv1d = Conv1D(1, 1, activation='relu' )(r2)\n",
        "f = Flatten()(conv1d)\n",
        "d = Dense(hidden_dim,activation='relu')(f)\n",
        "out = Dense(output_dim, activation='softmax', activity_regularizer=l1_l2(0.01,0.01))(d)\n",
        "model = Model(input = inp, outputs = out)\n",
        "model.summary()"
      ],
      "execution_count": 13,
      "outputs": [
        {
          "output_type": "stream",
          "text": [
            "Model: \"model_3\"\n",
            "_________________________________________________________________\n",
            "Layer (type)                 Output Shape              Param #   \n",
            "=================================================================\n",
            "input_3 (InputLayer)         (None, 300)               0         \n",
            "_________________________________________________________________\n",
            "embedding_3 (Embedding)      (None, 300, 300)          53763000  \n",
            "_________________________________________________________________\n",
            "lstm_3 (LSTM)                (None, 300, 128)          219648    \n",
            "_________________________________________________________________\n",
            "flatten_5 (Flatten)          (None, 38400)             0         \n",
            "_________________________________________________________________\n",
            "reshape_3 (Reshape)          (None, 128, 300)          0         \n",
            "_________________________________________________________________\n",
            "conv1d_3 (Conv1D)            (None, 128, 1)            301       \n",
            "_________________________________________________________________\n",
            "flatten_6 (Flatten)          (None, 128)               0         \n",
            "_________________________________________________________________\n",
            "dense_5 (Dense)              (None, 128)               16512     \n",
            "_________________________________________________________________\n",
            "dense_6 (Dense)              (None, 20)                2580      \n",
            "=================================================================\n",
            "Total params: 54,002,041\n",
            "Trainable params: 54,002,041\n",
            "Non-trainable params: 0\n",
            "_________________________________________________________________\n"
          ],
          "name": "stdout"
        },
        {
          "output_type": "stream",
          "text": [
            "/usr/local/lib/python3.6/dist-packages/ipykernel_launcher.py:10: UserWarning: Update your `Model` call to the Keras 2 API: `Model(outputs=Tensor(\"de..., inputs=Tensor(\"in...)`\n",
            "  # Remove the CWD from sys.path while we load stuff.\n"
          ],
          "name": "stderr"
        }
      ]
    },
    {
      "cell_type": "code",
      "metadata": {
        "id": "ZFiKp7Drzt6G",
        "colab_type": "code",
        "outputId": "e85ef57b-9e98-4c1d-f652-b540c8219fa2",
        "colab": {
          "base_uri": "https://localhost:8080/",
          "height": 1000
        }
      },
      "source": [
        "model.compile(loss='categorical_crossentropy', optimizer=Adam(lr=0.005),metrics=['categorical_accuracy'])\n",
        "\n",
        "\n",
        "# check if a saved_model exists\n",
        "if(glob.glob('*.hdf5')):\n",
        "  print(\"loading model\")\n",
        "  load_path = return_last_saved_model(glob.glob('*.hdf5'))\n",
        "  # model=load_model(load_path)\n",
        "  model.load_weights(load_path)\n",
        "  init_epoch = get_epoch_frm_model_file(load_path)\n",
        "\n",
        "chk_pth = \"{epoch:02d}_.hdf5\"\n",
        "\n",
        "# early stopping\n",
        "earlyStop = EarlyStopping(monitor='val_categorical_accuracy', mode='auto', verbose=1,patience=5)\n",
        "checkpoint = ModelCheckpoint(chk_pth,monitor='val_categorical_accuracy', verbose=1, save_weights_only=True, save_best_only='False',mode = 'auto', period=2)\n",
        "\n",
        "print(\"START TRAINING\")\n",
        "\n",
        "history = model.fit(tokenized_seq,labels,epochs=init_epoch+epochs, batch_size=batch_size, validation_split=0.1,shuffle = True, callbacks=[checkpoint,earlyStop], initial_epoch=init_epoch)\n",
        "print(\"Training fininshed....Saving Model\")\n",
        "save_path = \"{}_epochs-model_weights.hdf5\".format(init_epoch+epochs)\n",
        "model.save_weights(save_path)\n",
        "\n"
      ],
      "execution_count": 19,
      "outputs": [
        {
          "output_type": "stream",
          "text": [
            "loading model\n",
            "START TRAINING\n",
            "Train on 16961 samples, validate on 1885 samples\n",
            "Epoch 21/120\n",
            "16961/16961 [==============================] - 78s 5ms/step - loss: 2.2725 - categorical_accuracy: 0.9988 - val_loss: 2.6550 - val_categorical_accuracy: 0.8154\n",
            "Epoch 22/120\n",
            "16961/16961 [==============================] - 76s 4ms/step - loss: 2.2843 - categorical_accuracy: 0.9976 - val_loss: 2.6606 - val_categorical_accuracy: 0.8143\n",
            "\n",
            "Epoch 00022: val_categorical_accuracy improved from -inf to 0.81432, saving model to 22_.hdf5\n",
            "Epoch 23/120\n",
            "16961/16961 [==============================] - 76s 5ms/step - loss: 2.2858 - categorical_accuracy: 0.9959 - val_loss: 2.6305 - val_categorical_accuracy: 0.8302\n",
            "Epoch 24/120\n",
            "16961/16961 [==============================] - 76s 4ms/step - loss: 2.2830 - categorical_accuracy: 0.9965 - val_loss: 2.6243 - val_categorical_accuracy: 0.8302\n",
            "\n",
            "Epoch 00024: val_categorical_accuracy improved from 0.81432 to 0.83024, saving model to 24_.hdf5\n",
            "Epoch 25/120\n",
            "16961/16961 [==============================] - 76s 4ms/step - loss: 2.2806 - categorical_accuracy: 0.9971 - val_loss: 2.6212 - val_categorical_accuracy: 0.8324\n",
            "Epoch 26/120\n",
            "16961/16961 [==============================] - 76s 4ms/step - loss: 2.2754 - categorical_accuracy: 0.9980 - val_loss: 2.6085 - val_categorical_accuracy: 0.8382\n",
            "\n",
            "Epoch 00026: val_categorical_accuracy improved from 0.83024 to 0.83820, saving model to 26_.hdf5\n",
            "Epoch 27/120\n",
            "16961/16961 [==============================] - 76s 4ms/step - loss: 2.2724 - categorical_accuracy: 0.9979 - val_loss: 2.6018 - val_categorical_accuracy: 0.8408\n",
            "Epoch 28/120\n",
            "16961/16961 [==============================] - 76s 4ms/step - loss: 2.2697 - categorical_accuracy: 0.9989 - val_loss: 2.5943 - val_categorical_accuracy: 0.8424\n",
            "\n",
            "Epoch 00028: val_categorical_accuracy improved from 0.83820 to 0.84244, saving model to 28_.hdf5\n",
            "Epoch 29/120\n",
            "16961/16961 [==============================] - 75s 4ms/step - loss: 2.2673 - categorical_accuracy: 0.9989 - val_loss: 2.5995 - val_categorical_accuracy: 0.8424\n",
            "Epoch 30/120\n",
            "16961/16961 [==============================] - 74s 4ms/step - loss: 2.2646 - categorical_accuracy: 0.9994 - val_loss: 2.5836 - val_categorical_accuracy: 0.8467\n",
            "\n",
            "Epoch 00030: val_categorical_accuracy improved from 0.84244 to 0.84668, saving model to 30_.hdf5\n",
            "Epoch 31/120\n",
            "16961/16961 [==============================] - 74s 4ms/step - loss: 2.2635 - categorical_accuracy: 0.9995 - val_loss: 2.5835 - val_categorical_accuracy: 0.8477\n",
            "Epoch 32/120\n",
            "16961/16961 [==============================] - 74s 4ms/step - loss: 2.2639 - categorical_accuracy: 0.9993 - val_loss: 2.5688 - val_categorical_accuracy: 0.8584\n",
            "\n",
            "Epoch 00032: val_categorical_accuracy improved from 0.84668 to 0.85836, saving model to 32_.hdf5\n",
            "Epoch 33/120\n",
            "16961/16961 [==============================] - 74s 4ms/step - loss: 2.2627 - categorical_accuracy: 0.9993 - val_loss: 2.5578 - val_categorical_accuracy: 0.8626\n",
            "Epoch 34/120\n",
            "16961/16961 [==============================] - 73s 4ms/step - loss: 2.2616 - categorical_accuracy: 0.9995 - val_loss: 2.5577 - val_categorical_accuracy: 0.8552\n",
            "\n",
            "Epoch 00034: val_categorical_accuracy did not improve from 0.85836\n",
            "Epoch 35/120\n",
            "16961/16961 [==============================] - 74s 4ms/step - loss: 2.2636 - categorical_accuracy: 0.9992 - val_loss: 2.5598 - val_categorical_accuracy: 0.8525\n",
            "Epoch 36/120\n",
            "16961/16961 [==============================] - 74s 4ms/step - loss: 2.2638 - categorical_accuracy: 0.9993 - val_loss: 2.5638 - val_categorical_accuracy: 0.8562\n",
            "\n",
            "Epoch 00036: val_categorical_accuracy did not improve from 0.85836\n",
            "Epoch 37/120\n",
            "16961/16961 [==============================] - 74s 4ms/step - loss: 2.2631 - categorical_accuracy: 0.9994 - val_loss: 2.5638 - val_categorical_accuracy: 0.8589\n",
            "Epoch 38/120\n",
            "16961/16961 [==============================] - 74s 4ms/step - loss: 2.2636 - categorical_accuracy: 0.9992 - val_loss: 2.5847 - val_categorical_accuracy: 0.8525\n",
            "\n",
            "Epoch 00038: val_categorical_accuracy did not improve from 0.85836\n",
            "Epoch 00038: early stopping\n",
            "Training fininshed....Saving Model\n"
          ],
          "name": "stdout"
        }
      ]
    },
    {
      "cell_type": "code",
      "metadata": {
        "id": "MWOLU1mYnV29",
        "colab_type": "code",
        "colab": {
          "base_uri": "https://localhost:8080/",
          "height": 295
        },
        "outputId": "5d261388-0002-48bc-ebdb-dd76d8167376"
      },
      "source": [
        "# plot\n",
        "# plot model\n",
        "import matplotlib.pyplot as plt\n",
        "plt.plot(history.history[\"categorical_accuracy\"])\n",
        "plt.plot(history.history[\"val_categorical_accuracy\"])\n",
        "plt.title('model acc')\n",
        "plt.ylabel('accuracy')\n",
        "plt.xlabel('epoch')\n",
        "plt.legend(['train', 'val'], loc='upper left')\n",
        "plt.show()\n"
      ],
      "execution_count": 20,
      "outputs": [
        {
          "output_type": "display_data",
          "data": {
            "image/png": "[encoded data removed]",
            "text/plain": [
              "<Figure size 432x288 with 1 Axes>"
            ]
          },
          "metadata": {
            "tags": []
          }
        }
      ]
    },
    {
      "cell_type": "code",
      "metadata": {
        "id": "XqzU6aH1N39z",
        "colab_type": "code",
        "colab": {
          "base_uri": "https://localhost:8080/",
          "height": 34
        },
        "outputId": "494dd887-540e-402f-f3fc-09d022967ce7"
      },
      "source": [
        "history.history.keys()"
      ],
      "execution_count": 21,
      "outputs": [
        {
          "output_type": "execute_result",
          "data": {
            "text/plain": [
              "dict_keys(['val_loss', 'val_categorical_accuracy', 'loss', 'categorical_accuracy'])"
            ]
          },
          "metadata": {
            "tags": []
          },
          "execution_count": 21
        }
      ]
    },
    {
      "cell_type": "code",
      "metadata": {
        "id": "INwST7tLHuoX",
        "colab_type": "code",
        "colab": {
          "base_uri": "https://localhost:8080/",
          "height": 295
        },
        "outputId": "e29e35e8-a4aa-4e05-97ed-6c7abe4e4f9c"
      },
      "source": [
        "# plot\n",
        "# plot model\n",
        "import matplotlib.pyplot as plt\n",
        "plt.plot(history.history[\"loss\"])\n",
        "plt.plot(history.history[\"val_loss\"])\n",
        "plt.title('model loss')\n",
        "plt.ylabel('loss')\n",
        "plt.xlabel('epochs')\n",
        "plt.legend(['train', 'val'], loc='upper left')\n",
        "plt.show()\n"
      ],
      "execution_count": 22,
      "outputs": [
        {
          "output_type": "display_data",
          "data": {
            "image/png": "[encoded data removed]",
            "text/plain": [
              "<Figure size 432x288 with 1 Axes>"
            ]
          },
          "metadata": {
            "tags": []
          }
        }
      ]
    },
    {
      "cell_type": "code",
      "metadata": {
        "id": "R-AaMZxUOWY5",
        "colab_type": "code",
        "colab": {}
      },
      "source": [
        ""
      ],
      "execution_count": 0,
      "outputs": []
    }
  ]
}