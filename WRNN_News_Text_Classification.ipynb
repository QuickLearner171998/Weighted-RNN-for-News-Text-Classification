{
  "nbformat": 4,
  "nbformat_minor": 0,
  "metadata": {
    "colab": {
      "name": "WRNN-News_Text_Classification.ipynb",
      "provenance": [],
      "collapsed_sections": [],
      "toc_visible": true
    },
    "kernelspec": {
      "name": "python3",
      "display_name": "Python 3"
    },
    "accelerator": "GPU"
  },
  "cells": [
    {
      "cell_type": "code",
      "metadata": {
        "id": "_F5vE8urN7n9",
        "colab_type": "code",
        "outputId": "5727e78c-a0de-4254-abe5-c427b6c787c6",
        "colab": {
          "base_uri": "https://localhost:8080/",
          "height": 122
        }
      },
      "source": [
        "from google.colab import drive\n",
        "drive.mount('/content/drive/', force_remount=True)"
      ],
      "execution_count": 0,
      "outputs": [
        {
          "output_type": "stream",
          "text": [
            "Go to this URL in a browser: https://accounts.google.com/o/oauth2/auth?client_id=947318989803-6bn6qk8qdgf4n4g3pfee6491hc0brc4i.apps.googleusercontent.com&redirect_uri=urn%3aietf%3awg%3aoauth%3a2.0%3aoob&response_type=code&scope=email%20https%3a%2f%2fwww.googleapis.com%2fauth%2fdocs.test%20https%3a%2f%2fwww.googleapis.com%2fauth%2fdrive%20https%3a%2f%2fwww.googleapis.com%2fauth%2fdrive.photos.readonly%20https%3a%2f%2fwww.googleapis.com%2fauth%2fpeopleapi.readonly\n",
            "\n",
            "Enter your authorization code:\n",
            "··········\n",
            "Mounted at /content/drive/\n"
          ],
          "name": "stdout"
        }
      ]
    },
    {
      "cell_type": "code",
      "metadata": {
        "id": "0CmxHdbUDQpU",
        "colab_type": "code",
        "outputId": "fb715430-f89b-4662-de14-271d92a52d0e",
        "colab": {
          "base_uri": "https://localhost:8080/",
          "height": 34
        }
      },
      "source": [
        "% cd \"/content/drive/My Drive/nnfl_project/\""
      ],
      "execution_count": 0,
      "outputs": [
        {
          "output_type": "stream",
          "text": [
            "/content/drive/My Drive/nnfl_project\n"
          ],
          "name": "stdout"
        }
      ]
    },
    {
      "cell_type": "markdown",
      "metadata": {
        "id": "0V6VsSotwNhy",
        "colab_type": "text"
      },
      "source": [
        "# Imports\n"
      ]
    },
    {
      "cell_type": "code",
      "metadata": {
        "id": "c8zYf1TVwM5J",
        "colab_type": "code",
        "outputId": "02a6ac3a-0780-44f9-fe67-ef7951c72642",
        "colab": {
          "base_uri": "https://localhost:8080/",
          "height": 51
        }
      },
      "source": [
        "%tensorflow_version 1.x\n",
        "\n",
        "from sklearn.metrics import classification_report, confusion_matrix\n",
        "from sklearn.datasets import fetch_20newsgroups\n",
        "from keras.utils import to_categorical\n",
        "import os\n",
        "import glob\n",
        "import numpy as np\n",
        "import pickle\n",
        "import time\n",
        "import matplotlib.pyplot as plt\n",
        "from tqdm import tqdm\n",
        "\n",
        "from keras.layers import *\n",
        "#Input,Activation, Dense, Embedding, Flatten, LSTM, Conv1D,MaxPooling1D,Dropout,Bidirectional,Reshape,MaxPooling1D,GlobalMaxPooling1D, Dropout,Permute,TimeDistributed,BatchNormalization\n",
        "from keras.optimizers import Adam\n",
        "from keras.models import Sequential, Model\n",
        "from keras.regularizers import l1_l2\n",
        "from keras.callbacks import ModelCheckpoint, EarlyStopping, ReduceLROnPlateau\n",
        "from keras.preprocessing.text import Tokenizer\n",
        "from keras.preprocessing.sequence import pad_sequences\n",
        "from keras.metrics import categorical_accuracy\n",
        "from keras.models import load_model\n",
        "from keras import regularizers\n",
        "from keras.utils.vis_utils import plot_model\n",
        "\n",
        "from gensim.models import Word2Vec,KeyedVectors\n",
        "from gensim.test.utils import datapath, get_tmpfile\n",
        "\n",
        "PATH = '/content/drive/My Drive/nnfl_project/'\n",
        "DATA_PATH = '/content/drive/My Drive/nnfl_project/data'\n",
        "GLOVE_PATH = '/content/drive/My Drive/glove.840B.300d.txt'"
      ],
      "execution_count": 0,
      "outputs": [
        {
          "output_type": "stream",
          "text": [
            "TensorFlow 1.x selected.\n"
          ],
          "name": "stdout"
        },
        {
          "output_type": "stream",
          "text": [
            "Using TensorFlow backend.\n"
          ],
          "name": "stderr"
        }
      ]
    },
    {
      "cell_type": "markdown",
      "metadata": {
        "id": "OefAWNV2FNtj",
        "colab_type": "text"
      },
      "source": [
        "# Helper Functions"
      ]
    },
    {
      "cell_type": "code",
      "metadata": {
        "id": "o8x0nRb9BJUx",
        "colab_type": "code",
        "colab": {}
      },
      "source": [
        "def evaluate(model,y_texts, y_labels, batch_size):\n",
        "  loss, acc = model.evaluate(y_texts,y_labels,batch_size=batch_size,verbose=1)\n",
        "  # print(\"Accuracy of the model\",acc)\n",
        "  y_pred = model.predict(y_texts, batch_size=batch_size)\n",
        "  y_pred_max_ind = np.argmax(y_pred,axis=1)\n",
        "  y_true_max_ind = np.argmax(y_labels,axis=1)\n",
        "  cf = (classification_report(y_true_max_ind,y_pred_max_ind))\n",
        "  confusion_mat = confusion_matrix(y_true_max_ind, y_pred_max_ind)\n",
        "\n",
        "  print(\"\\n Model Accuracy : \",acc)\n",
        "  print(\"\\n Confusion Matrix: \\n\", confusion_mat)\n",
        "  print(\"\\nClassification Report\\n \",cf)\n",
        "\n",
        "# model_op_folder = 'new_conv1d_GMP_split'\n",
        "def get_callbacks():\n",
        "\n",
        "  chk_pth = (\"{epoch:02d}_{val_categorical_accuracy:.2f}.h5\")\n",
        "  # early stopping\n",
        "  earlyStop = EarlyStopping(monitor='val_loss', mode='auto', verbose=1, patience=2)\n",
        "  checkpoint = ModelCheckpoint(chk_pth,monitor='val_categorical_accuracy', verbose=1, save_weights_only=True, save_best_only='True',mode = 'auto', period=2)\n",
        "\n",
        "  # reduce_lr = ReduceLROnPlateau(monitor='val_loss', factor=0.2, patience=2, min_lr=0.001, verbose = 1)\n",
        "  cb = [checkpoint,earlyStop]\n",
        "  return cb\n",
        "\n",
        "def run_model(model, train_tokenized_seq, train_labels, epochs, batch_size, vsplit, init_epoch=0):\n",
        "\n",
        "  model.compile(loss='categorical_crossentropy', optimizer=Adam(lr=0.01),metrics=['categorical_accuracy'])\n",
        "\n",
        "  # check if a saved_model exists\n",
        "  # if(glob.glob('*.h5')):\n",
        "  #   print(\"loading model\")\n",
        "  #   load_path = return_last_saved_model(glob.glob('*.h5'))\n",
        "  #   # model = load_model(load_path)\n",
        "  #   model.load_weights(load_path)\n",
        "  #   init_epoch = get_epoch_frm_model_file(load_path)\n",
        "\n",
        "  print(\"START TRAINING\")\n",
        "\n",
        "  start = time.time()\n",
        "  # history = model.fit(train_tokenized_seq,train_labels,epochs = init_epoch+epochs, batch_size=batch_size, validation_data=(test_tokenized_seq, test_labels), callbacks=[checkpoint,earlyStop], initial_epoch=init_epoch)\n",
        "  history = model.fit(train_tokenized_seq,train_labels,epochs = init_epoch+epochs, batch_size=batch_size, validation_split=vsplit, callbacks=get_callbacks(), initial_epoch=init_epoch)\n",
        "  end =  time.time()\n",
        "  print(\"Training fininshed\")\n",
        "  # save_path = \"{}_epochs-model.h5\".format(init_epoch+epochs)\n",
        "  # model.save(save_path)\n",
        "  print(\"Average Time per epoch: \", (end-start)/len(history.history['loss']))\n",
        "  return history\n",
        "\n",
        "# plot model\n",
        "\n",
        "def training_plots(history, model_name, model):  \n",
        "  plt.plot(history.history[\"categorical_accuracy\"])\n",
        "  plt.plot(history.history[\"val_categorical_accuracy\"])\n",
        "  plt.title('model acc')\n",
        "  plt.ylabel('accuracy')\n",
        "  plt.xlabel('epoch')\n",
        "  plt.legend(['train', 'val'], loc='upper left')\n",
        "  plt.show()\n",
        "\n",
        "  plt.plot(history.history[\"loss\"])\n",
        "  plt.plot(history.history[\"val_loss\"])\n",
        "  plt.title('model loss')\n",
        "  plt.ylabel('loss')\n",
        "  plt.xlabel('epochs')\n",
        "  plt.legend(['train', 'val'], loc='upper left')\n",
        "  plt.show()\n",
        "\n",
        "  plot_model(model,to_file=model_name,show_shapes=True)\n",
        "\n",
        "def tokenize_sequences(texts, sl, tokenizer):\n",
        "  sequences = tokenizer.texts_to_sequences(texts)\n",
        "  sequences = pad_sequences(sequences, maxlen=sl)\n",
        "\n",
        "  return sequences\n",
        "\n",
        "def get_data(data_path):\n",
        "  # newsgroups_data_train = fetch_20newsgroups(data_path,subset='train')\n",
        "  # train_labels = newsgroups_data_train.target\n",
        "  # train_texts = newsgroups_data_train.data\n",
        "\n",
        "  # newsgroups_data_test = fetch_20newsgroups(data_path,subset='test')\n",
        "  # test_labels = newsgroups_data_test.target\n",
        "  # test_texts = newsgroups_data_test.data\n",
        "  # return train_texts,train_labels, test_texts, test_labels\n",
        "  newsgroups_data = fetch_20newsgroups(data_path, subset='all')\n",
        "  labels = newsgroups_data.target\n",
        "  texts = newsgroups_data.data\n",
        "\n",
        "  from sklearn.model_selection import train_test_split\n",
        "\n",
        "  train_texts, test_texts, train_labels, test_labels = train_test_split(texts, labels, test_size=0.1, random_state=42)\n",
        "\n",
        "  return train_texts, train_labels, test_texts, test_labels\n",
        "\n",
        "def get_epoch_frm_model_file(save_path):\n",
        "  return int(save_path[:save_path.index('_')])\n",
        "  # return int(save_path.split('_')[2])\n",
        "\n",
        "def return_last_saved_model(paths):\n",
        "  last_epoch_prev = -1\n",
        "  ret_path = \"\"\n",
        "  for path in paths:\n",
        "    last_epoch = get_epoch_frm_model_file(path)\n",
        "    if(last_epoch >= last_epoch_prev):\n",
        "      last_epoch_prev = last_epoch\n",
        "      ret_path = path\n",
        "  return ret_path\n",
        "\n",
        "def get_embedding_matrix(word2ix, glove_path, embedding_dim):\n",
        "    \"\"\"\n",
        "    :param path: path to the glove embeddings file\n",
        "    :param tokenizer: tokenizer fitted on the documents\n",
        "    :param vocab_size: vocabulary size \n",
        "    :return: an embedding matrix: a nn.Embeddings\n",
        "    \"\"\"\n",
        "    glove_vectors = {}\n",
        "    glove_file = open(glove_path, 'r')\n",
        "    for line in tqdm(glove_file):\n",
        "        split_line = line.rstrip().split()\n",
        "        word = split_line[0]\n",
        "        if len(split_line) != (embedding_dim + 1) or word not in word2ix:\n",
        "            continue\n",
        "        assert (len(split_line) == embedding_dim + 1)\n",
        "        vector = np.array([float(x) for x in split_line[1:]], dtype=\"float32\")\n",
        "        assert len(vector) == embedding_dim\n",
        "        glove_vectors[word] = vector\n",
        "\n",
        "    glove_file.close()\n",
        "\n",
        "    print(\"Number of pre-trained word vectors loaded: \", len(glove_vectors))\n",
        "\n",
        "    # Calculate mean and stdev of embeddings\n",
        "    all_embeddings = np.array(list(glove_vectors.values()))\n",
        "    embeddings_mean = float(np.mean(all_embeddings))\n",
        "    embeddings_stdev = float(np.std(all_embeddings))\n",
        "\n",
        "    vocab_size = len(word2ix)\n",
        "    # Randomly initialize an embedding matrix of (vocab_size, embedding_dim) shape\n",
        "    # with a similar distribution as the pretrained embeddings for words in vocab.\n",
        "    embedding_matrix = np.random.normal(embeddings_mean, embeddings_stdev, (vocab_size, embedding_dim))\n",
        "\n",
        "    for i, word in enumerate(word2ix):\n",
        "        if word in glove_vectors:\n",
        "            embedding_matrix[i] = glove_vectors[word]\n",
        "\n",
        "    return embedding_matrix\n",
        "\n",
        "# load embedding as a dict\n",
        "# the following functions are for word2vec embeddings\n",
        "def load_embedding(filename):\n",
        "    # load embedding into memory, skip first line\n",
        "    file = open(filename,'r')\n",
        "    lines = file.readlines()[1:]\n",
        "    file.close()\n",
        "    # create a map of words to vectors\n",
        "    embedding = dict()\n",
        "    for line in lines:\n",
        "        parts = line.split()\n",
        "        # key is string word, value is numpy array for vector\n",
        "        embedding[parts[0]] = np.asarray(parts[1:], dtype='float32')\n",
        "    return embedding\n",
        "\n",
        "# create a weight matrix for the Embedding layer from a loaded embedding\n",
        "def get_weight_matrix(embedding, vocab,embed_dim_w):\n",
        "    # total vocabulary size plus 0 for unknown words\n",
        "    vocab_size = len(vocab) + 1\n",
        "    # define weight matrix dimensions with all 0\n",
        "    weight_matrix = np.zeros((vocab_size, embed_dim_w))\n",
        "    # step vocab, store vectors using the Tokenizer's integer mapping\n",
        "    for word, i in vocab.items():\n",
        "        if word in embedding:\n",
        "            weight_matrix[i] = embedding.get(word)\n",
        "    return weight_matrix\n",
        "\n",
        "def get_w2v_matrix(vocab, embed_dim_w):\n",
        "  # load embedding from file\n",
        "  raw_embedding = load_embedding('word2vec_200.txt')\n",
        "  # get vectors in the right order\n",
        "  return(get_weight_matrix(raw_embedding, vocab,embed_dim_w))\n",
        "\n",
        "def prepare_for_word_to_vec(texts):\n",
        "  words_list = []\n",
        "  for text in texts:\n",
        "    tokens = word_tokenize(text)\n",
        "    words = [word for word in tokens if word.isalpha()]\n",
        "    words_list.append(words)\n",
        "  return words_list\n"
      ],
      "execution_count": 0,
      "outputs": []
    },
    {
      "cell_type": "markdown",
      "metadata": {
        "id": "_QvTnP_RFR3m",
        "colab_type": "text"
      },
      "source": [
        "# Configs"
      ]
    },
    {
      "cell_type": "code",
      "metadata": {
        "id": "-zXGi21mt7Sj",
        "colab_type": "code",
        "colab": {}
      },
      "source": [
        "# in paper\n",
        "vocab_size = 40439\n",
        "embed_dim = 300 \n",
        "embed_dim_w = 200\n",
        "hidden_dim  = 128\n",
        "batch_size  = 128\n",
        "epochs = 50\n",
        "init_epoch = 0\n",
        "sl = 300\n",
        "vsplit = 0.05"
      ],
      "execution_count": 0,
      "outputs": []
    },
    {
      "cell_type": "markdown",
      "metadata": {
        "id": "cSlUU4X_FVeb",
        "colab_type": "text"
      },
      "source": [
        "# Process Data"
      ]
    },
    {
      "cell_type": "code",
      "metadata": {
        "id": "as34xea2_7YH",
        "colab_type": "code",
        "colab": {}
      },
      "source": [
        "# save_embedding_matrix_path = PATH + 'embedding_matrix.pkl'\n",
        "train_texts,train_labels, test_texts, test_labels = get_data(DATA_PATH)\n",
        "\n",
        "# Should fit_to_texts complete or only train-  https://stackoverflow.com/questions/54891464/is-it-better-to-keras-fit-to-text-on-the-entire-x-data-or-just-the-train-data\n",
        "\n",
        "tokenizer = Tokenizer(oov_token='<UNK>', num_words=vocab_size+1)\n",
        "# fit only on train\n",
        "tokenizer.fit_on_texts(train_texts)\n",
        "\n",
        "# word2ix = truncated vocabulary or original vocabulary\n",
        "word2ix = list(tokenizer.word_index.keys())[:vocab_size+1]\n",
        "word2ix = {k:tokenizer.word_index[k] for k in word2ix}\n",
        "\n",
        "train_tokenized_seq = tokenize_sequences(train_texts, sl, tokenizer)\n",
        "test_tokenized_seq = tokenize_sequences(test_texts, sl, tokenizer)\n",
        "# vocab_size = len(tokenizer.word_index)# +1 for OOV\n",
        "\n",
        "train_labels = to_categorical(np.asarray(train_labels))\n",
        "test_labels = to_categorical(np.asarray(test_labels))\n",
        "output_dim = train_labels.shape[1]\n"
      ],
      "execution_count": 0,
      "outputs": []
    },
    {
      "cell_type": "markdown",
      "metadata": {
        "id": "Ql_Q4mRiqBMk",
        "colab_type": "text"
      },
      "source": [
        "# W2V model"
      ]
    },
    {
      "cell_type": "code",
      "metadata": {
        "id": "x5QZ03K_qD3J",
        "colab_type": "code",
        "colab": {}
      },
      "source": [
        "# word2vec mpdel\n",
        "path = get_tmpfile(PATH+'word2vec_200.txt')\n",
        "if(glob.glob('word2vec_200.txt')):\n",
        "  print(\"loading word2vec model\")\n",
        "  model_w = KeyedVectors.load_word2vec_format(path)\n",
        "else:\n",
        "  import nltk\n",
        "  nltk.download('punkt')\n",
        "  from nltk.tokenize import word_tokenize\n",
        "  w_train = prepare_for_word_to_vec(train_texts)\n",
        "  w_test = prepare_for_word_to_vec(test_texts)\n",
        "  model_w = Word2Vec(w_train+w_test,size=embed_dim_w,sg=1,iter = 15)\n",
        "\n",
        "\n",
        "# load weights\n",
        "if(glob.glob('w2v_weights_200.pkl')):\n",
        "  print(\"loading w2v weights\")\n",
        "  w2v_weights = np.load('w2v_weights_200.pkl', allow_pickle=True)\n",
        "  # vocab_size_w=vocab_size+1\n",
        "\n",
        "else:\n",
        "  # get weights\n",
        "  w2v_weights = get_w2v_matrix(tokenizer.word_index,embed_dim_w)\n",
        "  # save weights\n",
        "  pth = PATH+'w2v_weights_200.pkl'\n",
        "  with open(pth, 'wb+') as f:\n",
        "      pickle.dump(w2v_weights, f)\n",
        "\n",
        "vocab_size_w=vocab_size+1\n",
        "\n",
        "\n",
        "w2v_weights.shape\n",
        "print(vocab_size_w)\n"
      ],
      "execution_count": 0,
      "outputs": []
    },
    {
      "cell_type": "markdown",
      "metadata": {
        "id": "JQkufQxFqF1R",
        "colab_type": "text"
      },
      "source": [
        "# Glove"
      ]
    },
    {
      "cell_type": "code",
      "metadata": {
        "id": "grGp8eLoj1IK",
        "colab_type": "code",
        "outputId": "46196192-e7b5-4cb2-b45c-772ef3444e80",
        "colab": {
          "base_uri": "https://localhost:8080/",
          "height": 51
        }
      },
      "source": [
        "save_embedding_matrix_path = PATH + 'embedding_matrix_truncated_new_split.pkl'\n",
        "\n",
        "if(glob.glob(save_embedding_matrix_path)):\n",
        "  print('Embedding matrix found. Loading ...')\n",
        "  with open(save_embedding_matrix_path, 'rb') as f:\n",
        "    embedding_matrix = pickle.load(f)\n",
        "\n",
        "  print('Done.')\n",
        "\n",
        "else:\n",
        "  embedding_matrix = get_embedding_matrix(word2ix, GLOVE_PATH, embed_dim)\n",
        "  with open(save_embedding_matrix_path, 'wb+') as f:\n",
        "    pickle.dump(embedding_matrix, f)\n"
      ],
      "execution_count": 0,
      "outputs": [
        {
          "output_type": "stream",
          "text": [
            "Embedding matrix found. Loading ...\n",
            "Done.\n"
          ],
          "name": "stdout"
        }
      ]
    },
    {
      "cell_type": "code",
      "metadata": {
        "id": "1SMWdnN1x2UY",
        "colab_type": "code",
        "outputId": "42cb2a3d-7def-4466-8575-c629feb22b17",
        "colab": {
          "base_uri": "https://localhost:8080/",
          "height": 51
        }
      },
      "source": [
        "save_embedding_matrix_path = PATH + 'embedding_matrix_w2vec.pkl'\n",
        "\n",
        "if(glob.glob(save_embedding_matrix_path)):\n",
        "  print('Embedding matrix found. Loading ...')\n",
        "  with open(save_embedding_matrix_path, 'rb') as f:\n",
        "    embedding_matrix = pickle.load(f)\n",
        "\n",
        "  print('Done.')\n",
        "\n",
        "else:\n",
        "  embedding_matrix = get_w2v_matrix(tokenizer.word_index, embed_dim_w)\n",
        "  with open(save_embedding_matrix_path, 'wb+') as f:\n",
        "    pickle.dump(embedding_matrix, f)\n"
      ],
      "execution_count": 0,
      "outputs": [
        {
          "output_type": "stream",
          "text": [
            "Embedding matrix found. Loading ...\n",
            "Done.\n"
          ],
          "name": "stdout"
        }
      ]
    },
    {
      "cell_type": "code",
      "metadata": {
        "id": "fKJRdWgJt8MM",
        "colab_type": "code",
        "outputId": "0e49f975-4ea8-47d5-c500-1679b2ba19b5",
        "colab": {
          "base_uri": "https://localhost:8080/",
          "height": 119
        }
      },
      "source": [
        "print(train_tokenized_seq.shape)\n",
        "print(train_labels.shape)\n",
        "\n",
        "print(test_tokenized_seq.shape)\n",
        "print(test_labels.shape)\n",
        "\n",
        "print(embedding_matrix.shape)\n",
        "print(vocab_size)"
      ],
      "execution_count": 0,
      "outputs": [
        {
          "output_type": "stream",
          "text": [
            "(16961, 300)\n",
            "(16961, 20)\n",
            "(1885, 300)\n",
            "(1885, 20)\n",
            "(40440, 300)\n",
            "40439\n"
          ],
          "name": "stdout"
        }
      ]
    },
    {
      "cell_type": "markdown",
      "metadata": {
        "id": "FzOx9UXS6Zjh",
        "colab_type": "text"
      },
      "source": [
        "# Models"
      ]
    },
    {
      "cell_type": "markdown",
      "metadata": {
        "id": "lvngan2mK2jt",
        "colab_type": "text"
      },
      "source": [
        "## New Architecture"
      ]
    },
    {
      "cell_type": "code",
      "metadata": {
        "id": "Orn8Ly2uCz8g",
        "colab_type": "code",
        "outputId": "60d49d9d-91e8-421f-86ce-7fd5da5a5e50",
        "colab": {
          "base_uri": "https://localhost:8080/",
          "height": 1000
        }
      },
      "source": [
        "import keras.backend as K\n",
        "inp = Input(shape=(sl,))\n",
        "embed = Embedding(input_dim=vocab_size+1, output_dim=embed_dim, \n",
        "                  weights=[embedding_matrix], input_length=sl,\n",
        "                  trainable=True)(inp)\n",
        "lstm = LSTM(hidden_dim, return_sequences=True, recurrent_dropout=0.2, \n",
        "            dropout=0.2)(embed)\n",
        "wis = TimeDistributed(Dense(1, activation='sigmoid'))(lstm)\n",
        "def repeat(x):\n",
        "  return K.repeat_elements(x, rep=hidden_dim, axis=-1)\n",
        "wis = Lambda(repeat)(wis)\n",
        "wd = Multiply()([lstm, wis])\n",
        "def sum_along_axis(x):\n",
        "  return K.sum(x, axis=1)\n",
        "wd = Lambda(sum_along_axis)(wd)\n",
        "d = Dense(hidden_dim, activation='relu', kernel_regularizer=regularizers.l2(0.01))(wd)\n",
        "d = Dropout(0.2)(d)\n",
        "out = Dense(output_dim, activation='softmax')(d)\n",
        "model_wrnn = Model(inputs = inp, outputs = out)\n",
        "model_wrnn.summary()\n",
        "\n",
        "# training\n",
        "history = run_model(model_wrnn, train_tokenized_seq, train_labels, epochs, batch_size, vsplit)\n",
        "training_plots(history, 'wrnn.png', model_wrnn)\n",
        "\n",
        "# evaluation\n",
        "print(\"Evaluating...\")\n",
        "evaluate(model_wrnn, test_tokenized_seq, test_labels, batch_size)"
      ],
      "execution_count": 0,
      "outputs": [
        {
          "output_type": "stream",
          "text": [
            "Model: \"model_2\"\n",
            "__________________________________________________________________________________________________\n",
            "Layer (type)                    Output Shape         Param #     Connected to                     \n",
            "==================================================================================================\n",
            "input_2 (InputLayer)            (None, 300)          0                                            \n",
            "__________________________________________________________________________________________________\n",
            "embedding_2 (Embedding)         (None, 300, 300)     12132000    input_2[0][0]                    \n",
            "__________________________________________________________________________________________________\n",
            "lstm_2 (LSTM)                   (None, 300, 128)     219648      embedding_2[0][0]                \n",
            "__________________________________________________________________________________________________\n",
            "time_distributed_1 (TimeDistrib (None, 300, 1)       129         lstm_2[0][0]                     \n",
            "__________________________________________________________________________________________________\n",
            "lambda_1 (Lambda)               (None, 300, 128)     0           time_distributed_1[0][0]         \n",
            "__________________________________________________________________________________________________\n",
            "multiply_1 (Multiply)           (None, 300, 128)     0           lstm_2[0][0]                     \n",
            "                                                                 lambda_1[0][0]                   \n",
            "__________________________________________________________________________________________________\n",
            "lambda_2 (Lambda)               (None, 128)          0           multiply_1[0][0]                 \n",
            "__________________________________________________________________________________________________\n",
            "dense_4 (Dense)                 (None, 128)          16512       lambda_2[0][0]                   \n",
            "__________________________________________________________________________________________________\n",
            "dropout_2 (Dropout)             (None, 128)          0           dense_4[0][0]                    \n",
            "__________________________________________________________________________________________________\n",
            "dense_5 (Dense)                 (None, 20)           2580        dropout_2[0][0]                  \n",
            "==================================================================================================\n",
            "Total params: 12,370,869\n",
            "Trainable params: 12,370,869\n",
            "Non-trainable params: 0\n",
            "__________________________________________________________________________________________________\n",
            "START TRAINING\n",
            "Train on 16112 samples, validate on 849 samples\n",
            "Epoch 1/50\n",
            "16112/16112 [==============================] - 49s 3ms/step - loss: 4.4400 - categorical_accuracy: 0.0516 - val_loss: 3.5149 - val_categorical_accuracy: 0.0518\n",
            "Epoch 2/50\n",
            "16112/16112 [==============================] - 49s 3ms/step - loss: 3.3169 - categorical_accuracy: 0.0501 - val_loss: 3.1744 - val_categorical_accuracy: 0.0459\n",
            "\n",
            "Epoch 00002: val_categorical_accuracy improved from -inf to 0.04594, saving model to 02_0.05.h5\n",
            "Epoch 3/50\n",
            "16112/16112 [==============================] - 49s 3ms/step - loss: 3.0996 - categorical_accuracy: 0.0509 - val_loss: 3.0574 - val_categorical_accuracy: 0.0648\n",
            "Epoch 4/50\n",
            "16112/16112 [==============================] - 49s 3ms/step - loss: 3.0366 - categorical_accuracy: 0.0498 - val_loss: 3.0208 - val_categorical_accuracy: 0.0318\n",
            "\n",
            "Epoch 00004: val_categorical_accuracy did not improve from 0.04594\n",
            "Epoch 5/50\n",
            "16112/16112 [==============================] - 49s 3ms/step - loss: 3.0037 - categorical_accuracy: 0.0542 - val_loss: 3.0015 - val_categorical_accuracy: 0.0506\n",
            "Epoch 6/50\n",
            "16112/16112 [==============================] - 50s 3ms/step - loss: 2.9606 - categorical_accuracy: 0.0644 - val_loss: 2.9081 - val_categorical_accuracy: 0.0872\n",
            "\n",
            "Epoch 00006: val_categorical_accuracy improved from 0.04594 to 0.08716, saving model to 06_0.09.h5\n",
            "Epoch 7/50\n",
            "16112/16112 [==============================] - 49s 3ms/step - loss: 2.8494 - categorical_accuracy: 0.1051 - val_loss: 2.7905 - val_categorical_accuracy: 0.1461\n",
            "Epoch 8/50\n",
            "16112/16112 [==============================] - 49s 3ms/step - loss: 2.7157 - categorical_accuracy: 0.1563 - val_loss: 2.6283 - val_categorical_accuracy: 0.1649\n",
            "\n",
            "Epoch 00008: val_categorical_accuracy improved from 0.08716 to 0.16490, saving model to 08_0.16.h5\n",
            "Epoch 9/50\n",
            "16112/16112 [==============================] - 49s 3ms/step - loss: 2.3053 - categorical_accuracy: 0.2845 - val_loss: 1.6598 - val_categorical_accuracy: 0.5336\n",
            "Epoch 10/50\n",
            "16112/16112 [==============================] - 49s 3ms/step - loss: 1.1864 - categorical_accuracy: 0.6461 - val_loss: 0.9079 - val_categorical_accuracy: 0.7644\n",
            "\n",
            "Epoch 00010: val_categorical_accuracy improved from 0.16490 to 0.76443, saving model to 10_0.76.h5\n",
            "Epoch 11/50\n",
            "16112/16112 [==============================] - 49s 3ms/step - loss: 0.6210 - categorical_accuracy: 0.8363 - val_loss: 0.7882 - val_categorical_accuracy: 0.8092\n",
            "Epoch 12/50\n",
            "16112/16112 [==============================] - 50s 3ms/step - loss: 0.3936 - categorical_accuracy: 0.9058 - val_loss: 0.8117 - val_categorical_accuracy: 0.8386\n",
            "\n",
            "Epoch 00012: val_categorical_accuracy improved from 0.76443 to 0.83863, saving model to 12_0.84.h5\n",
            "Epoch 13/50\n",
            "16112/16112 [==============================] - 50s 3ms/step - loss: 0.2962 - categorical_accuracy: 0.9353 - val_loss: 0.8137 - val_categorical_accuracy: 0.8398\n",
            "Epoch 00013: early stopping\n",
            "Training fininshed\n",
            "Average Time per epoch:  49.459650406470665\n"
          ],
          "name": "stdout"
        },
        {
          "output_type": "display_data",
          "data": {
            "image/png": "[encoded data removed]",
            "text/plain": [
              "<Figure size 432x288 with 1 Axes>"
            ]
          },
          "metadata": {
            "tags": [],
            "needs_background": "light"
          }
        },
        {
          "output_type": "display_data",
          "data": {
            "image/png": "[encoded data removed]",
            "text/plain": [
              "<Figure size 432x288 with 1 Axes>"
            ]
          },
          "metadata": {
            "tags": [],
            "needs_background": "light"
          }
        },
        {
          "output_type": "stream",
          "text": [
            "Evaluating...\n",
            "1885/1885 [==============================] - 3s 1ms/step\n",
            "\n",
            " Model Accuracy :  0.844031810760498\n",
            "\n",
            " Confusion Matrix: \n",
            " [[59  0  0  0  0  0  0  0  1  0  0  1  0  0  0  7  0  0  2  3]\n",
            " [ 0 81  3  1  6  3  1  1  0  1  0  0  3  0  2  0  0  0  0  0]\n",
            " [ 0  7 87  7  0  1  3  4  0  0  0  0  1  0  1  0  0  0  0  0]\n",
            " [ 0  4  4 67  2  1  5  0  0  0  0  0  2  0  0  0  0  1  0  0]\n",
            " [ 0  3  2  1 93  0  1  2  0  0  0  0  1  0  0  0  0  0  1  0]\n",
            " [ 0 11  2  3  3 77  0  0  0  0  0  0  2  2  0  0  0  0  0  0]\n",
            " [ 0  2  3  7  1  1 68  6  1  2  1  0  4  0  0  0  1  0  1  0]\n",
            " [ 0  1  0  0  0  0  2 94  1  0  0  0  2  2  0  0  1  0  0  0]\n",
            " [ 0  0  0  0  1  0  1  2 80  0  1  0  1  0  0  0  0  0  0  0]\n",
            " [ 0  0  1  0  0  0  0  1  0 98  1  0  1  1  0  0  0  0  1  0]\n",
            " [ 0  0  0  0  0  0  1  1  0  1 91  0  0  0  0  0  0  0  1  0]\n",
            " [ 0  1  1  0  0  1  1  0  0  0  0 96  0  0  0  2  1  1  1  0]\n",
            " [ 0  8  3  3  3  1  2  1  0  1  1  0 84  2  0  0  0  0  0  0]\n",
            " [ 0  1  2  0  0  1  0  5  0  1  0  0  1 87  0  0  1  0  0  0]\n",
            " [ 0  3  1  0  0  0  1  0  0  3  0  1  0  1 63  0  0  0  1  0]\n",
            " [ 1  0  0  1  0  0  0  0  0  0  0  0  0  0  0 96  0  0  0  1]\n",
            " [ 2  0  1  0  0  0  0  0  0  0  0  0  0  2  0  1 81  0  4  2]\n",
            " [ 0  0  0  0  0  0  0  0  0  0  0  0  2  0  0  0  0 86  2  0]\n",
            " [ 0  0  0  0  1  0  1  2  0  1  1  1  0  0  0  3  3  2 63  1]\n",
            " [ 9  0  0  0  0  0  1  3  0  0  0  0  1  0  0 18  1  0  2 40]]\n",
            "\n",
            "Classification Report\n",
            "                precision    recall  f1-score   support\n",
            "\n",
            "           0       0.83      0.81      0.82        73\n",
            "           1       0.66      0.79      0.72       102\n",
            "           2       0.79      0.78      0.79       111\n",
            "           3       0.74      0.78      0.76        86\n",
            "           4       0.85      0.89      0.87       104\n",
            "           5       0.90      0.77      0.83       100\n",
            "           6       0.77      0.69      0.73        98\n",
            "           7       0.77      0.91      0.84       103\n",
            "           8       0.96      0.93      0.95        86\n",
            "           9       0.91      0.94      0.92       104\n",
            "          10       0.95      0.96      0.95        95\n",
            "          11       0.97      0.91      0.94       105\n",
            "          12       0.80      0.77      0.79       109\n",
            "          13       0.90      0.88      0.89        99\n",
            "          14       0.95      0.85      0.90        74\n",
            "          15       0.76      0.97      0.85        99\n",
            "          16       0.91      0.87      0.89        93\n",
            "          17       0.96      0.96      0.96        90\n",
            "          18       0.80      0.80      0.80        79\n",
            "          19       0.85      0.53      0.66        75\n",
            "\n",
            "    accuracy                           0.84      1885\n",
            "   macro avg       0.85      0.84      0.84      1885\n",
            "weighted avg       0.85      0.84      0.84      1885\n",
            "\n"
          ],
          "name": "stdout"
        }
      ]
    },
    {
      "cell_type": "markdown",
      "metadata": {
        "id": "gXLIFdnj0HYz",
        "colab_type": "text"
      },
      "source": [
        "## WRNN (with LSTM unit)"
      ]
    },
    {
      "cell_type": "code",
      "metadata": {
        "id": "LHlUe2k2izJ_",
        "colab_type": "code",
        "outputId": "06b7ba67-b646-4f76-e664-caf16ad477db",
        "colab": {
          "base_uri": "https://localhost:8080/",
          "height": 1000
        }
      },
      "source": [
        " # architecture \n",
        "inp = Input(shape=(sl,))\n",
        "embed = Embedding(input_dim=vocab_size+1, output_dim=embed_dim, weights=[embedding_matrix], input_length=sl, trainable=True)(inp)\n",
        "lstm = LSTM(hidden_dim, return_sequences=True, recurrent_dropout=0.2, dropout=0.2)(embed) # o/p 300x128\n",
        "# Note o/p of a rnn cel or lstm cell gives prob of each word - (300,)\n",
        "# conv 1d inp shape - (128,300) -- reshape needed\n",
        "# r2 = Reshape((hidden_dim, sl))(lstm)\n",
        "conv1d = Conv1D(128,1, activation='relu')(lstm)\n",
        "gp = GlobalMaxPooling1D()(conv1d)\n",
        "d = Dense(hidden_dim, activation='relu')(gp)\n",
        "d = Dropout(0.1)(d)\n",
        "out = Dense(output_dim, activation='softmax', activity_regularizer=l1_l2(0.01,0.01))(d)\n",
        "model_wrnn = Model(input = inp, outputs = out)\n",
        "model_wrnn.summary()\n",
        "\n",
        "# training\n",
        "history = run_model(model_wrnn, train_tokenized_seq, train_labels, epochs, batch_size, vsplit)\n",
        "training_plots(history, 'wrnn.png', model_wrnn)\n",
        "\n",
        "# evaluation\n",
        "print(\"Evaluating...\")\n",
        "evaluate(model_wrnn, test_tokenized_seq, test_labels, batch_size)"
      ],
      "execution_count": 0,
      "outputs": [
        {
          "output_type": "stream",
          "text": [
            "WARNING:tensorflow:From /tensorflow-1.15.2/python3.6/tensorflow_core/python/ops/resource_variable_ops.py:1630: calling BaseResourceVariable.__init__ (from tensorflow.python.ops.resource_variable_ops) with constraint is deprecated and will be removed in a future version.\n",
            "Instructions for updating:\n",
            "If using Keras pass *_constraint arguments to layers.\n"
          ],
          "name": "stdout"
        },
        {
          "output_type": "stream",
          "text": [
            "/usr/local/lib/python3.6/dist-packages/ipykernel_launcher.py:12: UserWarning: Update your `Model` call to the Keras 2 API: `Model(outputs=Tensor(\"de..., inputs=Tensor(\"in...)`\n",
            "  if sys.path[0] == '':\n"
          ],
          "name": "stderr"
        },
        {
          "output_type": "stream",
          "text": [
            "Model: \"model_1\"\n",
            "_________________________________________________________________\n",
            "Layer (type)                 Output Shape              Param #   \n",
            "=================================================================\n",
            "input_1 (InputLayer)         (None, 300)               0         \n",
            "_________________________________________________________________\n",
            "embedding_1 (Embedding)      (None, 300, 300)          12132000  \n",
            "_________________________________________________________________\n",
            "lstm_1 (LSTM)                (None, 300, 128)          219648    \n",
            "_________________________________________________________________\n",
            "conv1d_1 (Conv1D)            (None, 300, 128)          16512     \n",
            "_________________________________________________________________\n",
            "global_max_pooling1d_1 (Glob (None, 128)               0         \n",
            "_________________________________________________________________\n",
            "dense_1 (Dense)              (None, 128)               16512     \n",
            "_________________________________________________________________\n",
            "dropout_1 (Dropout)          (None, 128)               0         \n",
            "_________________________________________________________________\n",
            "dense_2 (Dense)              (None, 20)                2580      \n",
            "=================================================================\n",
            "Total params: 12,387,252\n",
            "Trainable params: 12,387,252\n",
            "Non-trainable params: 0\n",
            "_________________________________________________________________\n",
            "START TRAINING\n",
            "WARNING:tensorflow:From /usr/local/lib/python3.6/dist-packages/keras/backend/tensorflow_backend.py:422: The name tf.global_variables is deprecated. Please use tf.compat.v1.global_variables instead.\n",
            "\n",
            "Train on 16112 samples, validate on 849 samples\n",
            "Epoch 1/50\n",
            "16112/16112 [==============================] - 55s 3ms/step - loss: 3.7561 - categorical_accuracy: 0.2868 - val_loss: 2.8488 - val_categorical_accuracy: 0.6431\n",
            "Epoch 2/50\n",
            "16112/16112 [==============================] - 48s 3ms/step - loss: 2.7422 - categorical_accuracy: 0.7370 - val_loss: 2.5863 - val_categorical_accuracy: 0.8033\n",
            "\n",
            "Epoch 00002: val_categorical_accuracy improved from -inf to 0.80330, saving model to 02_0.80.h5\n",
            "Epoch 3/50\n",
            "16112/16112 [==============================] - 49s 3ms/step - loss: 2.5141 - categorical_accuracy: 0.8697 - val_loss: 2.5470 - val_categorical_accuracy: 0.8139\n",
            "Epoch 4/50\n",
            "16112/16112 [==============================] - 49s 3ms/step - loss: 2.4254 - categorical_accuracy: 0.9298 - val_loss: 2.4884 - val_categorical_accuracy: 0.8634\n",
            "\n",
            "Epoch 00004: val_categorical_accuracy improved from 0.80330 to 0.86337, saving model to 04_0.86.h5\n",
            "Epoch 5/50\n",
            "16112/16112 [==============================] - 49s 3ms/step - loss: 2.3767 - categorical_accuracy: 0.9633 - val_loss: 2.4870 - val_categorical_accuracy: 0.8645\n",
            "Epoch 6/50\n",
            "16112/16112 [==============================] - 49s 3ms/step - loss: 2.3541 - categorical_accuracy: 0.9756 - val_loss: 2.4900 - val_categorical_accuracy: 0.8598\n",
            "\n",
            "Epoch 00006: val_categorical_accuracy did not improve from 0.86337\n",
            "Epoch 7/50\n",
            "16112/16112 [==============================] - 48s 3ms/step - loss: 2.3432 - categorical_accuracy: 0.9842 - val_loss: 2.4815 - val_categorical_accuracy: 0.8634\n",
            "Epoch 8/50\n",
            "16112/16112 [==============================] - 49s 3ms/step - loss: 2.3321 - categorical_accuracy: 0.9881 - val_loss: 2.4848 - val_categorical_accuracy: 0.8610\n",
            "\n",
            "Epoch 00008: val_categorical_accuracy did not improve from 0.86337\n",
            "Epoch 9/50\n",
            "16112/16112 [==============================] - 49s 3ms/step - loss: 2.3270 - categorical_accuracy: 0.9906 - val_loss: 2.4662 - val_categorical_accuracy: 0.8716\n",
            "Epoch 10/50\n",
            "16112/16112 [==============================] - 49s 3ms/step - loss: 2.3227 - categorical_accuracy: 0.9916 - val_loss: 2.4497 - val_categorical_accuracy: 0.8916\n",
            "\n",
            "Epoch 00010: val_categorical_accuracy improved from 0.86337 to 0.89164, saving model to 10_0.89.h5\n",
            "Epoch 11/50\n",
            "16112/16112 [==============================] - 49s 3ms/step - loss: 2.3183 - categorical_accuracy: 0.9929 - val_loss: 2.4706 - val_categorical_accuracy: 0.8810\n",
            "Epoch 12/50\n",
            "16112/16112 [==============================] - 49s 3ms/step - loss: 2.3150 - categorical_accuracy: 0.9942 - val_loss: 2.4527 - val_categorical_accuracy: 0.8881\n",
            "\n",
            "Epoch 00012: val_categorical_accuracy did not improve from 0.89164\n",
            "Epoch 00012: early stopping\n",
            "Training fininshed\n",
            "Average Time per epoch:  49.39644116163254\n"
          ],
          "name": "stdout"
        },
        {
          "output_type": "display_data",
          "data": {
            "image/png": "[encoded data removed]",
            "text/plain": [
              "<Figure size 432x288 with 1 Axes>"
            ]
          },
          "metadata": {
            "tags": [],
            "needs_background": "light"
          }
        },
        {
          "output_type": "display_data",
          "data": {
            "image/png": "[encoded data removed]",
            "text/plain": [
              "<Figure size 432x288 with 1 Axes>"
            ]
          },
          "metadata": {
            "tags": [],
            "needs_background": "light"
          }
        },
        {
          "output_type": "stream",
          "text": [
            "Evaluating...\n",
            "1885/1885 [==============================] - 3s 1ms/step\n",
            "\n",
            " Model Accuracy :  0.8610079288482666\n",
            "\n",
            " Confusion Matrix: \n",
            " [[ 63   0   0   0   0   0   0   0   0   0   0   1   0   0   0   3   1   1\n",
            "    1   3]\n",
            " [  0  79  10   4   0   2   1   1   0   0   0   1   1   0   2   1   0   0\n",
            "    0   0]\n",
            " [  0   2  86  18   0   3   1   0   0   0   0   1   0   0   0   0   0   0\n",
            "    0   0]\n",
            " [  0   3   4  71   2   0   3   1   0   0   0   0   2   0   0   0   0   0\n",
            "    0   0]\n",
            " [  0   0   0  10  88   1   2   0   0   1   0   0   1   0   1   0   0   0\n",
            "    0   0]\n",
            " [  0   3   3   1   1  86   1   2   1   1   0   0   0   0   0   0   1   0\n",
            "    0   0]\n",
            " [  0   1   0   7   3   0  77   4   3   1   0   1   1   0   0   0   0   0\n",
            "    0   0]\n",
            " [  0   1   0   0   0   0   4  95   2   0   0   0   1   0   0   0   0   0\n",
            "    0   0]\n",
            " [  0   0   0   0   0   0   2   0  82   1   0   0   1   0   0   0   0   0\n",
            "    0   0]\n",
            " [  0   0   0   0   0   0   0   1   0 102   0   0   0   0   0   1   0   0\n",
            "    0   0]\n",
            " [  0   0   0   0   0   0   0   0   0   4  91   0   0   0   0   0   0   0\n",
            "    0   0]\n",
            " [  0   0   0   1   0   0   0   1   1   0   0  94   3   0   1   1   0   0\n",
            "    3   0]\n",
            " [  0   1   1   7   1   1   2   2   5   0   0   0  85   1   3   0   0   0\n",
            "    0   0]\n",
            " [  0   0   1   1   0   0   0   1   1   1   0   0   3  88   1   0   2   0\n",
            "    0   0]\n",
            " [  0   0   0   0   0   0   0   0   0   1   0   0   0   2  68   2   0   0\n",
            "    1   0]\n",
            " [  3   0   0   0   0   0   0   0   0   1   0   0   0   0   0  86   0   1\n",
            "    4   4]\n",
            " [  0   0   1   0   0   1   0   0   3   1   0   0   0   0   0   0  83   1\n",
            "    1   2]\n",
            " [  1   0   0   0   0   0   0   0   0   2   0   0   0   1   1   1   0  81\n",
            "    3   0]\n",
            " [  0   0   0   0   0   0   0   1   0   1   0   1   0   0   2   2   6   0\n",
            "   66   0]\n",
            " [  8   0   1   0   0   0   1   3   0   0   0   0   0   0   0   7   2   0\n",
            "    1  52]]\n",
            "\n",
            "Classification Report\n",
            "                precision    recall  f1-score   support\n",
            "\n",
            "           0       0.84      0.86      0.85        73\n",
            "           1       0.88      0.77      0.82       102\n",
            "           2       0.80      0.77      0.79       111\n",
            "           3       0.59      0.83      0.69        86\n",
            "           4       0.93      0.85      0.88       104\n",
            "           5       0.91      0.86      0.89       100\n",
            "           6       0.82      0.79      0.80        98\n",
            "           7       0.85      0.92      0.88       103\n",
            "           8       0.84      0.95      0.89        86\n",
            "           9       0.87      0.98      0.92       104\n",
            "          10       1.00      0.96      0.98        95\n",
            "          11       0.95      0.90      0.92       105\n",
            "          12       0.87      0.78      0.82       109\n",
            "          13       0.96      0.89      0.92        99\n",
            "          14       0.86      0.92      0.89        74\n",
            "          15       0.83      0.87      0.85        99\n",
            "          16       0.87      0.89      0.88        93\n",
            "          17       0.96      0.90      0.93        90\n",
            "          18       0.82      0.84      0.83        79\n",
            "          19       0.85      0.69      0.76        75\n",
            "\n",
            "    accuracy                           0.86      1885\n",
            "   macro avg       0.87      0.86      0.86      1885\n",
            "weighted avg       0.87      0.86      0.86      1885\n",
            "\n"
          ],
          "name": "stdout"
        }
      ]
    },
    {
      "cell_type": "markdown",
      "metadata": {
        "id": "-VAspm57zATT",
        "colab_type": "text"
      },
      "source": [
        "## WRNN (with GRU unit)"
      ]
    },
    {
      "cell_type": "code",
      "metadata": {
        "id": "PcbtznfpymnN",
        "colab_type": "code",
        "outputId": "fd494714-bc99-4217-9bec-8625751ea3f4",
        "colab": {
          "base_uri": "https://localhost:8080/",
          "height": 1000
        }
      },
      "source": [
        "# architecture \n",
        "inp = Input(shape=(sl,))\n",
        "embed = Embedding(input_dim=vocab_size+1, output_dim=embed_dim, weights= [embedding_matrix], input_length=sl, trainable = True )(inp)\n",
        "lstm = GRU(hidden_dim, return_sequences=True, dropout=0.2)(embed) # o/p 300x128\n",
        "# Note o/p of a rnn cel or lstm cell gives prob of each word - (300,)\n",
        "# conv 1d inp shape - (128,300) -- reshape needed\n",
        "# r2 = Reshape((hidden_dim, sl))(lstm)\n",
        "conv1d = Conv1D(128,1, activation='relu')(lstm)\n",
        "gp = GlobalMaxPooling1D()(conv1d)\n",
        "d = Dense(hidden_dim, activation='relu')(gp)\n",
        "d = Dropout(0.1)(d)\n",
        "out = Dense(output_dim, activation='softmax', activity_regularizer=l1_l2(0.01,0.01))(d)\n",
        "model_wrnn = Model(input = inp, outputs = out)\n",
        "model_wrnn.summary()\n",
        "\n",
        "# training\n",
        "history = run_model(model_wrnn, train_tokenized_seq, train_labels, epochs, batch_size, vsplit)\n",
        "\n",
        "# evaluation\n",
        "print(\"Evaluating...\")\n",
        "evaluate(model_wrnn, test_tokenized_seq, test_labels, batch_size)\n",
        "# plot curves\n",
        "training_plots(history, 'wrnn.png', model_wrnn)"
      ],
      "execution_count": 0,
      "outputs": [
        {
          "output_type": "stream",
          "text": [
            "/usr/local/lib/python3.6/dist-packages/ipykernel_launcher.py:12: UserWarning: Update your `Model` call to the Keras 2 API: `Model(outputs=Tensor(\"de..., inputs=Tensor(\"in...)`\n",
            "  if sys.path[0] == '':\n"
          ],
          "name": "stderr"
        },
        {
          "output_type": "stream",
          "text": [
            "Model: \"model_9\"\n",
            "_________________________________________________________________\n",
            "Layer (type)                 Output Shape              Param #   \n",
            "=================================================================\n",
            "input_10 (InputLayer)        (None, 300)               0         \n",
            "_________________________________________________________________\n",
            "embedding_10 (Embedding)     (None, 300, 300)          12132000  \n",
            "_________________________________________________________________\n",
            "gru_3 (GRU)                  (None, 300, 128)          164736    \n",
            "_________________________________________________________________\n",
            "conv1d_9 (Conv1D)            (None, 300, 128)          16512     \n",
            "_________________________________________________________________\n",
            "global_max_pooling1d_9 (Glob (None, 128)               0         \n",
            "_________________________________________________________________\n",
            "dense_17 (Dense)             (None, 128)               16512     \n",
            "_________________________________________________________________\n",
            "dropout_8 (Dropout)          (None, 128)               0         \n",
            "_________________________________________________________________\n",
            "dense_18 (Dense)             (None, 20)                2580      \n",
            "=================================================================\n",
            "Total params: 12,332,340\n",
            "Trainable params: 12,332,340\n",
            "Non-trainable params: 0\n",
            "_________________________________________________________________\n",
            "START TRAINING\n",
            "Train on 10748 samples, validate on 566 samples\n",
            "Epoch 1/10\n",
            "10748/10748 [==============================] - 37s 3ms/step - loss: 3.8849 - categorical_accuracy: 0.2470 - val_loss: 2.9285 - val_categorical_accuracy: 0.6095\n",
            "Epoch 2/10\n",
            "10748/10748 [==============================] - 36s 3ms/step - loss: 2.7763 - categorical_accuracy: 0.7294 - val_loss: 2.6080 - val_categorical_accuracy: 0.7933\n",
            "\n",
            "Epoch 00002: val_categorical_accuracy improved from -inf to 0.79329, saving model to 02_0.79.h5\n",
            "Epoch 3/10\n",
            "10748/10748 [==============================] - 36s 3ms/step - loss: 2.4981 - categorical_accuracy: 0.8879 - val_loss: 2.5378 - val_categorical_accuracy: 0.8216\n",
            "Epoch 4/10\n",
            "10748/10748 [==============================] - 36s 3ms/step - loss: 2.4089 - categorical_accuracy: 0.9464 - val_loss: 2.5050 - val_categorical_accuracy: 0.8339\n",
            "\n",
            "Epoch 00004: val_categorical_accuracy improved from 0.79329 to 0.83392, saving model to 04_0.83.h5\n",
            "Epoch 5/10\n",
            "10748/10748 [==============================] - 36s 3ms/step - loss: 2.3697 - categorical_accuracy: 0.9710 - val_loss: 2.4737 - val_categorical_accuracy: 0.8339\n",
            "Epoch 6/10\n",
            "10748/10748 [==============================] - 36s 3ms/step - loss: 2.3473 - categorical_accuracy: 0.9837 - val_loss: 2.4418 - val_categorical_accuracy: 0.8498\n",
            "\n",
            "Epoch 00006: val_categorical_accuracy improved from 0.83392 to 0.84982, saving model to 06_0.85.h5\n",
            "Epoch 7/10\n",
            "10748/10748 [==============================] - 36s 3ms/step - loss: 2.3326 - categorical_accuracy: 0.9905 - val_loss: 2.4451 - val_categorical_accuracy: 0.8640\n",
            "Epoch 8/10\n",
            "10748/10748 [==============================] - 36s 3ms/step - loss: 2.3257 - categorical_accuracy: 0.9931 - val_loss: 2.4492 - val_categorical_accuracy: 0.8463\n",
            "\n",
            "Epoch 00008: val_categorical_accuracy did not improve from 0.84982\n",
            "Epoch 9/10\n",
            "10748/10748 [==============================] - 36s 3ms/step - loss: 2.3201 - categorical_accuracy: 0.9959 - val_loss: 2.4434 - val_categorical_accuracy: 0.8551\n",
            "Epoch 10/10\n",
            "10748/10748 [==============================] - 36s 3ms/step - loss: 2.3147 - categorical_accuracy: 0.9967 - val_loss: 2.4151 - val_categorical_accuracy: 0.8746\n",
            "\n",
            "Epoch 00010: val_categorical_accuracy improved from 0.84982 to 0.87456, saving model to 10_0.87.h5\n",
            "Training fininshed\n"
          ],
          "name": "stdout"
        },
        {
          "output_type": "display_data",
          "data": {
            "image/png": "[encoded data removed]",
            "text/plain": [
              "<Figure size 432x288 with 1 Axes>"
            ]
          },
          "metadata": {
            "tags": [],
            "needs_background": "light"
          }
        },
        {
          "output_type": "display_data",
          "data": {
            "image/png": "[encoded data removed]",
            "text/plain": [
              "<Figure size 432x288 with 1 Axes>"
            ]
          },
          "metadata": {
            "tags": [],
            "needs_background": "light"
          }
        },
        {
          "output_type": "stream",
          "text": [
            "Evaluating...\n",
            "7532/7532 [==============================] - 12s 2ms/step\n",
            "\n",
            " Model Accuracy :  0.7867764234542847\n",
            "\n",
            " Confusion Matrix: \n",
            " [[212   0   2   1   0   2   2   4   2   5   3   2   4   5   5  34   1   0\n",
            "    4  31]\n",
            " [  2 260  16  23   9  30   8   8   3   1   0   4  13   9   2   0   0   0\n",
            "    1   0]\n",
            " [  0  17 273  40  13   8   1   2   8   2   0   3   5   5   8   2   3   0\n",
            "    2   2]\n",
            " [  0  12  16 308  14   2  18   2   1   1   0   0  16   1   0   0   1   0\n",
            "    0   0]\n",
            " [  0   6   6  33 303   0   7   7   0   0   0   0  21   0   1   0   0   1\n",
            "    0   0]\n",
            " [  0  33  23   1   4 322   7   0   0   0   0   0   1   3   0   0   1   0\n",
            "    0   0]\n",
            " [  0   2   4  16   9   1 326   6   3   0   2   0  17   2   2   0   0   0\n",
            "    0   0]\n",
            " [  0   4   5   5   2   0  11 334   8   0   0   0  23   1   0   1   0   0\n",
            "    2   0]\n",
            " [  0   1   2   2   4   0   9  15 358   1   0   2   3   1   0   0   0   0\n",
            "    0   0]\n",
            " [  0   0   1   1   0   1   9   3   1 342  22   1   4   6   1   0   0   0\n",
            "    2   3]\n",
            " [  0   0   0   0   0   0   4   1   0  16 372   0   2   3   1   0   0   0\n",
            "    0   0]\n",
            " [  0   0   1   3   1   0   4   0   0   1   1 343  14   2   4   0   6   0\n",
            "   13   3]\n",
            " [  1   3   9  32   9   2  25   6   3   1   1   7 269  20   1   0   3   0\n",
            "    0   1]\n",
            " [  4   6   2   2   1   5  19  13   2   3   7   0  13 297   2   7   1   3\n",
            "    7   2]\n",
            " [  2   3   2   2   2   1   2   1   0   0   1   0   7   6 354   1   3   1\n",
            "    6   0]\n",
            " [ 18   2   0   0   0   0   1   4   0   1   0   1   1   7   1 334   2   1\n",
            "    0  25]\n",
            " [  0   0   1   1   1   0   0   4   2   0   0   7   0   1   4   0 320   1\n",
            "   12  10]\n",
            " [ 20   0   0   0   0   3   0   2   0   4   3   2   0  14   1   7   6 295\n",
            "   13   6]\n",
            " [  4   0   3   1   0   0   3   3   3   0   2   5   1   7   3   4 100   7\n",
            "  159   5]\n",
            " [ 31   0   0   0   1   1   0   8   0   6   0   0   0   5   3  23  19   0\n",
            "    9 145]]\n",
            "\n",
            "Classification Report\n",
            "                precision    recall  f1-score   support\n",
            "\n",
            "           0       0.72      0.66      0.69       319\n",
            "           1       0.74      0.67      0.70       389\n",
            "           2       0.75      0.69      0.72       394\n",
            "           3       0.65      0.79      0.71       392\n",
            "           4       0.81      0.79      0.80       385\n",
            "           5       0.85      0.82      0.83       395\n",
            "           6       0.71      0.84      0.77       390\n",
            "           7       0.79      0.84      0.82       396\n",
            "           8       0.91      0.90      0.90       398\n",
            "           9       0.89      0.86      0.88       397\n",
            "          10       0.90      0.93      0.92       399\n",
            "          11       0.91      0.87      0.89       396\n",
            "          12       0.65      0.68      0.67       393\n",
            "          13       0.75      0.75      0.75       396\n",
            "          14       0.90      0.90      0.90       394\n",
            "          15       0.81      0.84      0.82       398\n",
            "          16       0.69      0.88      0.77       364\n",
            "          17       0.95      0.78      0.86       376\n",
            "          18       0.69      0.51      0.59       310\n",
            "          19       0.62      0.58      0.60       251\n",
            "\n",
            "    accuracy                           0.79      7532\n",
            "   macro avg       0.79      0.78      0.78      7532\n",
            "weighted avg       0.79      0.79      0.79      7532\n",
            "\n"
          ],
          "name": "stdout"
        }
      ]
    },
    {
      "cell_type": "markdown",
      "metadata": {
        "id": "EDQCVLzrhobu",
        "colab_type": "text"
      },
      "source": [
        "## w2v"
      ]
    },
    {
      "cell_type": "code",
      "metadata": {
        "id": "asjCZPhL6MnI",
        "colab_type": "code",
        "colab": {}
      },
      "source": [
        "# # W2V \n",
        "\n",
        "\n",
        "# inp = Input(shape= (sl,))\n",
        "# embed = Embedding(input_dim=vocab_size_w, output_dim=embed_dim_w, weights= [w2v_weights], input_length=sl, trainable = True )(inp)\n",
        "# # embed = Embedding(input_dim=vocab_size, output_dim=embed_dim_w,  input_length=sl, trainable = True )(inp)\n",
        "# # embed = Embedding(input_dim=vocab_size, output_dim=embed_dim, input_length=sl )(inp)\n",
        "# lstm = LSTM(hidden_dim,return_sequences=True,recurrent_dropout=0.2,dropout=0.2)(embed) # o/p 300x128\n",
        "# # Note o/p of a rnn cel or lstm cell gives prob of each word - (300,)\n",
        "# # conv 1d inp shape - (128,300) -- reshape needed\n",
        "# f1 = Flatten()(lstm)\n",
        "# r2 = Reshape((hidden_dim,sl))(f1)\n",
        "# conv1d = Conv1D(128,1, activation='relu' )(r2)\n",
        "# gp = GlobalMaxPooling1D()(conv1d)\n",
        "# # dense = Dense(1,activation='relu')(conv1d)\n",
        "# # f = Flatten()(gp)\n",
        "# d = Dense(hidden_dim,activation='relu')(gp)\n",
        "# out = Dense(output_dim, activation='softmax', activity_regularizer=l1_l2(0.01,0.01))(d)\n",
        "# model = Model(input = inp, outputs = out)\n",
        "# model.summary()\n"
      ],
      "execution_count": 0,
      "outputs": []
    },
    {
      "cell_type": "code",
      "metadata": {
        "id": "Hng23UmrEo5a",
        "colab_type": "code",
        "colab": {}
      },
      "source": [
        "# # bidirectional 0.88\n",
        "\n",
        "\n",
        "# inp = Input(shape= (sl,))\n",
        "# embed = Embedding(input_dim=vocab_size, output_dim=embed_dim, weights= [embedding_matrix], input_length=sl, trainable = True )(inp)\n",
        "# # embed = Embedding(input_dim=vocab_size, output_dim=embed_dim, input_length=sl )(inp)\n",
        "# lstm = Bidirectional(LSTM(hidden_dim,return_sequences=True,recurrent_dropout=0.2,dropout=0.2))(embed) # o/p 300x256\n",
        "# # Note o/p of a rnn cel or lstm cell gives prob of each word - (300,)\n",
        "# # conv 1d inp shape - (128,300) -- reshape needed\n",
        "# f1 = Flatten()(lstm)\n",
        "# r2 = Reshape((2*hidden_dim,sl))(f1)\n",
        "# conv1d = Conv1D(hidden_dim,1, activation='relu' )(r2)\n",
        "# # gp = MaxPooling1D(32)(conv1d)\n",
        "# gp = GlobalMaxPooling1D()(conv1d)\n",
        "# # dense = Dense(1,activation='relu')(conv1d)\n",
        "# # f = Flatten()(gp)\n",
        "# d = Dense(hidden_dim,activation='relu')(gp)\n",
        "# out = Dense(output_dim, activation='softmax', activity_regularizer=l1_l2(0.01,0.01))(d)\n",
        "# model = Model(input = inp, outputs = out)\n",
        "# model.summary()\n"
      ],
      "execution_count": 0,
      "outputs": []
    },
    {
      "cell_type": "markdown",
      "metadata": {
        "id": "8GxXaNXuhqbC",
        "colab_type": "text"
      },
      "source": [
        "## 2) Simple  GRU"
      ]
    },
    {
      "cell_type": "code",
      "metadata": {
        "id": "6AJsF2y8YJuT",
        "colab_type": "code",
        "outputId": "9401c13b-a558-44b9-c1a0-6d0843a06b31",
        "colab": {
          "base_uri": "https://localhost:8080/",
          "height": 1000
        }
      },
      "source": [
        "model_gru = Sequential([Embedding(input_dim=vocab_size+1, output_dim=embed_dim, weights= [embedding_matrix], input_length=sl, trainable = True ),\n",
        "                        GRU(hidden_dim,dropout=0.2),\n",
        "                        Dense(hidden_dim,activation='relu'),\n",
        "                        Dense(output_dim,activation='softmax')])\n",
        "\n",
        "history_gru = run_model(model_gru, train_tokenized_seq, train_labels, epochs, batch_size, vsplit)\n",
        "\n",
        "print(\"Evaluating...\")\n",
        "evaluate(model_gru, test_tokenized_seq, test_labels, batch_size)\n",
        "# plot curves\n",
        "training_plots(history_gru, 'simple_gru.png', model_gru)"
      ],
      "execution_count": 0,
      "outputs": [
        {
          "output_type": "stream",
          "text": [
            "START TRAINING\n",
            "Train on 10748 samples, validate on 566 samples\n",
            "Epoch 1/10\n",
            "10748/10748 [==============================] - 25s 2ms/step - loss: 2.4259 - categorical_accuracy: 0.2733 - val_loss: 1.7328 - val_categorical_accuracy: 0.4417\n",
            "Epoch 2/10\n",
            "10748/10748 [==============================] - 25s 2ms/step - loss: 0.8983 - categorical_accuracy: 0.7125 - val_loss: 0.7239 - val_categorical_accuracy: 0.7915\n",
            "\n",
            "Epoch 00002: val_categorical_accuracy improved from -inf to 0.79152, saving model to 02_0.79.h5\n",
            "Epoch 3/10\n",
            "10748/10748 [==============================] - 25s 2ms/step - loss: 0.2312 - categorical_accuracy: 0.9281 - val_loss: 0.7695 - val_categorical_accuracy: 0.7968\n",
            "Epoch 4/10\n",
            "10748/10748 [==============================] - 25s 2ms/step - loss: 0.0774 - categorical_accuracy: 0.9765 - val_loss: 0.7449 - val_categorical_accuracy: 0.8216\n",
            "\n",
            "Epoch 00004: val_categorical_accuracy improved from 0.79152 to 0.82155, saving model to 04_0.82.h5\n",
            "Epoch 5/10\n",
            "10748/10748 [==============================] - 25s 2ms/step - loss: 0.0448 - categorical_accuracy: 0.9887 - val_loss: 0.7688 - val_categorical_accuracy: 0.8233\n",
            "Epoch 6/10\n",
            "10748/10748 [==============================] - 25s 2ms/step - loss: 0.0301 - categorical_accuracy: 0.9929 - val_loss: 0.8417 - val_categorical_accuracy: 0.8074\n",
            "\n",
            "Epoch 00006: val_categorical_accuracy did not improve from 0.82155\n",
            "Epoch 00006: early stopping\n",
            "Training fininshed\n",
            "Average Time per epoch:  15.39748456478119\n",
            "Evaluating...\n",
            "7532/7532 [==============================] - 7s 913us/step\n",
            "\n",
            " Model Accuracy :  0.7221189737319946\n",
            "\n",
            " Confusion Matrix: \n",
            " [[189   4   0   2   1   3   1   5   0   2   1   8   1   5   4  16   6   8\n",
            "   10  53]\n",
            " [  4 211  28  18  14  66   8   8   1   1   1   7   9   5   3   1   1   0\n",
            "    2   1]\n",
            " [  2   9 258  28  19  22   5   1   1   1   0   4   5   1  15  11   1   3\n",
            "    6   2]\n",
            " [  1  10  43 227  29  16  22   1   0   0   0   1  37   1   1   3   0   0\n",
            "    0   0]\n",
            " [  2  12  11  18 280  11  11   5   0   0   0   5  20   2   2   1   0   0\n",
            "    3   2]\n",
            " [  2  22  38  10   0 301   3   3   1   2   1   3   3   3   2   1   0   0\n",
            "    0   0]\n",
            " [  0   2   2  22   7   2 304  18   1   2   2   0  15   3   4   0   1   1\n",
            "    3   1]\n",
            " [  3   1   1   4   1   4   3 332  13   4   0   1  10   6   9   0   1   0\n",
            "    3   0]\n",
            " [  2   1   1   0   0   1   0  17 360   2   0   0   1   5   1   1   1   0\n",
            "    1   4]\n",
            " [  0   1   0   0   1   1   3   5   2 333  13   2   4  10   4   4   3   0\n",
            "    5   6]\n",
            " [  0   0   2   0   1   0   0   2   3  18 358   0   1   1   6   0   2   0\n",
            "    4   1]\n",
            " [  2   3   0   2   1   5   1   2   0   1   0 338  13   5   2   1   3   1\n",
            "   10   6]\n",
            " [  2   5   9  25  14  10  17  12   4   3   0   4 256   4  23   1   0   2\n",
            "    2   0]\n",
            " [ 15   8   0   7   6   8   6  19   3   6   0   3  11 254   5  11   6   0\n",
            "   14  14]\n",
            " [  4   3   1   0   2   4   5   1   0   1   0   4  14   0 343   2   4   0\n",
            "    5   1]\n",
            " [ 12   3   2   1   0   0   0   1   0   2   1   0   0   6   2 266   4   0\n",
            "   16  82]\n",
            " [  3   0   0   0   0   0   1   2   0   3   1   8   1   3   7   4 279   3\n",
            "   25  24]\n",
            " [ 10   0   1   0   0   1   1   2   1   5   3   1   0   1  10  13  13 251\n",
            "   36  27]\n",
            " [ 15   0   1   0   1   1   0   0   0   1   0   7   4   5  12   6  51   9\n",
            "  160  37]\n",
            " [ 39   0   1   0   1   2   0   5   0   1   0   2   2   6   2  18   9   6\n",
            "   18 139]]\n",
            "\n",
            "Classification Report\n",
            "                precision    recall  f1-score   support\n",
            "\n",
            "           0       0.62      0.59      0.60       319\n",
            "           1       0.72      0.54      0.62       389\n",
            "           2       0.65      0.65      0.65       394\n",
            "           3       0.62      0.58      0.60       392\n",
            "           4       0.74      0.73      0.73       385\n",
            "           5       0.66      0.76      0.71       395\n",
            "           6       0.78      0.78      0.78       390\n",
            "           7       0.75      0.84      0.79       396\n",
            "           8       0.92      0.90      0.91       398\n",
            "           9       0.86      0.84      0.85       397\n",
            "          10       0.94      0.90      0.92       399\n",
            "          11       0.85      0.85      0.85       396\n",
            "          12       0.63      0.65      0.64       393\n",
            "          13       0.78      0.64      0.70       396\n",
            "          14       0.75      0.87      0.81       394\n",
            "          15       0.74      0.67      0.70       398\n",
            "          16       0.72      0.77      0.74       364\n",
            "          17       0.88      0.67      0.76       376\n",
            "          18       0.50      0.52      0.51       310\n",
            "          19       0.35      0.55      0.43       251\n",
            "\n",
            "    accuracy                           0.72      7532\n",
            "   macro avg       0.72      0.72      0.72      7532\n",
            "weighted avg       0.73      0.72      0.72      7532\n",
            "\n"
          ],
          "name": "stdout"
        },
        {
          "output_type": "display_data",
          "data": {
            "image/png": "[encoded data removed]",
            "text/plain": [
              "<Figure size 432x288 with 1 Axes>"
            ]
          },
          "metadata": {
            "tags": [],
            "needs_background": "light"
          }
        },
        {
          "output_type": "display_data",
          "data": {
            "image/png": "[encoded data removed]",
            "text/plain": [
              "<Figure size 432x288 with 1 Axes>"
            ]
          },
          "metadata": {
            "tags": [],
            "needs_background": "light"
          }
        }
      ]
    },
    {
      "cell_type": "markdown",
      "metadata": {
        "id": "r32iako05TDd",
        "colab_type": "text"
      },
      "source": [
        "## 3) BiGRU"
      ]
    },
    {
      "cell_type": "code",
      "metadata": {
        "id": "JmbYmhnY5Skd",
        "colab_type": "code",
        "outputId": "2512dc62-4f1d-4cd5-be76-44f6a109ed9c",
        "colab": {
          "base_uri": "https://localhost:8080/",
          "height": 1000
        }
      },
      "source": [
        "model_BiGRU = Sequential([Embedding(input_dim=vocab_size+1, output_dim=embed_dim, weights= [embedding_matrix], input_length=sl, trainable = True ),\n",
        "                        Bidirectional(GRU(hidden_dim,dropout=0.2)),\n",
        "                        Dense(hidden_dim,activation='relu'),\n",
        "                        Dense(output_dim,activation='softmax')])\n",
        "\n",
        "history_bigru = run_model(model_BiGRU, train_tokenized_seq, train_labels, epochs, batch_size, vsplit)\n",
        "\n",
        "print(\"Evaluating...\")\n",
        "evaluate(model_BiGRU, test_tokenized_seq, test_labels, batch_size)\n",
        "# plot curves\n",
        "training_plots(history_bigru, 'BiGRU.png', model_BiGRU)"
      ],
      "execution_count": 0,
      "outputs": [
        {
          "output_type": "stream",
          "text": [
            "START TRAINING\n",
            "Train on 10748 samples, validate on 566 samples\n",
            "Epoch 1/10\n",
            "10748/10748 [==============================] - 50s 5ms/step - loss: 2.6817 - categorical_accuracy: 0.1807 - val_loss: 2.1036 - val_categorical_accuracy: 0.3163\n",
            "Epoch 2/10\n",
            "10748/10748 [==============================] - 49s 5ms/step - loss: 1.3289 - categorical_accuracy: 0.5591 - val_loss: 0.9143 - val_categorical_accuracy: 0.7279\n",
            "\n",
            "Epoch 00002: val_categorical_accuracy improved from -inf to 0.72792, saving model to 02_0.73.h5\n",
            "Epoch 3/10\n",
            "10748/10748 [==============================] - 49s 5ms/step - loss: 0.4534 - categorical_accuracy: 0.8584 - val_loss: 0.7164 - val_categorical_accuracy: 0.8110\n",
            "Epoch 4/10\n",
            "10748/10748 [==============================] - 49s 5ms/step - loss: 0.1938 - categorical_accuracy: 0.9387 - val_loss: 0.7809 - val_categorical_accuracy: 0.8269\n",
            "\n",
            "Epoch 00004: val_categorical_accuracy improved from 0.72792 to 0.82686, saving model to 04_0.83.h5\n",
            "Epoch 5/10\n",
            "10748/10748 [==============================] - 49s 5ms/step - loss: 0.1144 - categorical_accuracy: 0.9674 - val_loss: 0.8821 - val_categorical_accuracy: 0.7986\n",
            "Epoch 6/10\n",
            "10748/10748 [==============================] - 49s 5ms/step - loss: 0.0966 - categorical_accuracy: 0.9717 - val_loss: 0.8966 - val_categorical_accuracy: 0.8145\n",
            "\n",
            "Epoch 00006: val_categorical_accuracy did not improve from 0.82686\n",
            "Epoch 7/10\n",
            "10748/10748 [==============================] - 49s 5ms/step - loss: 0.1100 - categorical_accuracy: 0.9673 - val_loss: 0.9402 - val_categorical_accuracy: 0.8110\n",
            "Epoch 00007: early stopping\n",
            "Training fininshed\n",
            "Average Time per epoch:  49.81815225737436\n",
            "Evaluating...\n",
            "7532/7532 [==============================] - 14s 2ms/step\n",
            "\n",
            " Model Accuracy :  0.7185342311859131\n",
            "\n",
            " Confusion Matrix: \n",
            " [[222   1   0   1   3   0   0   3   1   1   4   5   2   7   6  26   4   1\n",
            "    1  31]\n",
            " [  3 264  24  17   4  25   1  11   7   0   2   4  17   1   3   1   1   0\n",
            "    3   1]\n",
            " [  2  48 229  43  11  18   8   3   4   0   2   1   7  11   3   0   0   1\n",
            "    2   1]\n",
            " [  0  23  33 252  21   3  25   4   1   2   0   0  22   1   2   2   0   0\n",
            "    1   0]\n",
            " [  1  12   6  37 272   7  14   4   3   1   1   0  18   6   3   0   0   0\n",
            "    0   0]\n",
            " [  1  31  25   9   4 303   4   2   4   0   2   2   6   1   0   0   0   0\n",
            "    1   0]\n",
            " [  0   3   8  19   8   0 311  16   1   2   1   1  13   4   1   1   0   0\n",
            "    1   0]\n",
            " [  1   4   6   3   2   1   7 323   8   4   2   0  23   2   2   1   2   0\n",
            "    5   0]\n",
            " [  7   4   0   3   1   1   2   7 362   0   0   1   5   1   0   1   1   0\n",
            "    1   1]\n",
            " [ 10   0   1   0   1   0  11   4   0 329  25   0   0   2   1   2   0   4\n",
            "    5   2]\n",
            " [  4   3   4   0   0   0   6   0   0  15 359   0   2   4   0   1   0   0\n",
            "    0   1]\n",
            " [  9   0   2   1   3   9   0   1   4   0   1 329  10   2   1   3  12   0\n",
            "    9   0]\n",
            " [  7  15  13  27  13  14  21  16  11   1   2   7 232   2   6   4   1   0\n",
            "    1   0]\n",
            " [ 10   5   7  12   9   3  16  12   5   2  19   1  12 248   7   3   3   5\n",
            "    8   9]\n",
            " [  4  10  12   2   4  11   0  10   1   1   3   6  21  12 272   0   5   4\n",
            "   14   2]\n",
            " [ 17   2   0   0   2   0   1   1   0   3   0   0   0   5   1 313   0   0\n",
            "    4  49]\n",
            " [  4   1   0   1   1   0   1   6   8   1   0   4   2   8   3   5 254   5\n",
            "   30  30]\n",
            " [ 29   0   1   0   3   0   1   2   1  11   3   0   4  10   7   9   9 242\n",
            "   23  21]\n",
            " [ 12   2   1   1   1   0   0   8   3   5   3   2   1   7   3   4  51   6\n",
            "  176  24]\n",
            " [ 55   0   0   0   0   1   1   6   1   4   2   1   1   4   1  29  13   2\n",
            "   10 120]]\n",
            "\n",
            "Classification Report\n",
            "                precision    recall  f1-score   support\n",
            "\n",
            "           0       0.56      0.70      0.62       319\n",
            "           1       0.62      0.68      0.65       389\n",
            "           2       0.62      0.58      0.60       394\n",
            "           3       0.59      0.64      0.61       392\n",
            "           4       0.75      0.71      0.73       385\n",
            "           5       0.77      0.77      0.77       395\n",
            "           6       0.72      0.80      0.76       390\n",
            "           7       0.74      0.82      0.77       396\n",
            "           8       0.85      0.91      0.88       398\n",
            "           9       0.86      0.83      0.84       397\n",
            "          10       0.83      0.90      0.87       399\n",
            "          11       0.90      0.83      0.87       396\n",
            "          12       0.58      0.59      0.59       393\n",
            "          13       0.73      0.63      0.68       396\n",
            "          14       0.84      0.69      0.76       394\n",
            "          15       0.77      0.79      0.78       398\n",
            "          16       0.71      0.70      0.71       364\n",
            "          17       0.90      0.64      0.75       376\n",
            "          18       0.60      0.57      0.58       310\n",
            "          19       0.41      0.48      0.44       251\n",
            "\n",
            "    accuracy                           0.72      7532\n",
            "   macro avg       0.72      0.71      0.71      7532\n",
            "weighted avg       0.73      0.72      0.72      7532\n",
            "\n"
          ],
          "name": "stdout"
        },
        {
          "output_type": "display_data",
          "data": {
            "image/png": "[encoded data removed]",
            "text/plain": [
              "<Figure size 432x288 with 1 Axes>"
            ]
          },
          "metadata": {
            "tags": [],
            "needs_background": "light"
          }
        },
        {
          "output_type": "display_data",
          "data": {
            "image/png": "[encoded data removed]",
            "text/plain": [
              "<Figure size 432x288 with 1 Axes>"
            ]
          },
          "metadata": {
            "tags": [],
            "needs_background": "light"
          }
        }
      ]
    },
    {
      "cell_type": "code",
      "metadata": {
        "id": "RqgTGAMW4lOb",
        "colab_type": "code",
        "colab": {}
      },
      "source": [
        ""
      ],
      "execution_count": 0,
      "outputs": []
    }
  ]
}