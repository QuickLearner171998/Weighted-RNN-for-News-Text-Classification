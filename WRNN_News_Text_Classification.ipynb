{
  "nbformat": 4,
  "nbformat_minor": 0,
  "metadata": {
    "colab": {
      "name": "WRNN-News_Text_Classification.ipynb",
      "provenance": [],
      "collapsed_sections": [
        "kDq224vDUNrN",
        "SOHXFvZ2UXXu"
      ]
    },
    "kernelspec": {
      "name": "python3",
      "display_name": "Python 3"
    },
    "accelerator": "GPU"
  },
  "cells": [
    {
      "cell_type": "code",
      "metadata": {
        "id": "_F5vE8urN7n9",
        "colab_type": "code",
        "colab": {}
      },
      "source": [
        "from google.colab import drive\n",
        "drive.mount('/content/drive/', force_remount=True)"
      ],
      "execution_count": 0,
      "outputs": []
    },
    {
      "cell_type": "code",
      "metadata": {
        "id": "0CmxHdbUDQpU",
        "colab_type": "code",
        "colab": {}
      },
      "source": [
        "% cd \"/content/drive/My Drive/nnfl_project/\""
      ],
      "execution_count": 0,
      "outputs": []
    },
    {
      "cell_type": "markdown",
      "metadata": {
        "id": "0V6VsSotwNhy",
        "colab_type": "text"
      },
      "source": [
        "# Imports\n"
      ]
    },
    {
      "cell_type": "code",
      "metadata": {
        "id": "c8zYf1TVwM5J",
        "colab_type": "code",
        "outputId": "1a20ad05-3e6d-48a8-b6e8-4d7f9f93182d",
        "colab": {
          "base_uri": "https://localhost:8080/",
          "height": 50
        }
      },
      "source": [
        "%tensorflow_version 1.x\n",
        "from sklearn.metrics import classification_report, confusion_matrix\n",
        "from sklearn.datasets import fetch_20newsgroups\n",
        "from keras.utils import to_categorical\n",
        "import os\n",
        "import glob\n",
        "import numpy as np\n",
        "import pickle\n",
        "import time\n",
        "import matplotlib.pyplot as plt\n",
        "from tqdm import tqdm\n",
        "\n",
        "from keras.layers import *\n",
        "from keras.optimizers import Adam\n",
        "from keras.models import Sequential, Model\n",
        "from keras.regularizers import l1_l2\n",
        "from keras.callbacks import ModelCheckpoint, EarlyStopping, ReduceLROnPlateau\n",
        "from keras.preprocessing.text import Tokenizer\n",
        "from keras.preprocessing.sequence import pad_sequences\n",
        "from keras.metrics import categorical_accuracy\n",
        "from keras.models import load_model\n",
        "from keras import regularizers\n",
        "from keras.utils.vis_utils import plot_model\n",
        "\n",
        "from gensim.models import Word2Vec,KeyedVectors\n",
        "from gensim.test.utils import datapath, get_tmpfile\n",
        "\n",
        "PATH = '/content/drive/My Drive/nnfl_project/'\n",
        "DATA_PATH = '/content/drive/My Drive/nnfl_project/data'\n",
        "GLOVE_PATH = '/content/drive/My Drive/glove.840B.300d.txt'\n",
        "# Change EMBED to 'word2vec' to use word2vec embeddings\n",
        "EMBED = 'glove'"
      ],
      "execution_count": 3,
      "outputs": [
        {
          "output_type": "stream",
          "text": [
            "TensorFlow 1.x selected.\n"
          ],
          "name": "stdout"
        },
        {
          "output_type": "stream",
          "text": [
            "Using TensorFlow backend.\n"
          ],
          "name": "stderr"
        }
      ]
    },
    {
      "cell_type": "markdown",
      "metadata": {
        "id": "OefAWNV2FNtj",
        "colab_type": "text"
      },
      "source": [
        "# Helper Functions"
      ]
    },
    {
      "cell_type": "code",
      "metadata": {
        "id": "o8x0nRb9BJUx",
        "colab_type": "code",
        "colab": {}
      },
      "source": [
        "def evaluate(model,y_texts, y_labels, batch_size, name):\n",
        "\n",
        "  loss, acc = model.evaluate(y_texts,y_labels,batch_size=batch_size,verbose=1)\n",
        "  y_pred = model.predict(y_texts, batch_size=batch_size)\n",
        "\n",
        "  y_pred_max_ind = np.argmax(y_pred,axis=1)\n",
        "  y_true_max_ind = np.argmax(y_labels,axis=1)\n",
        "\n",
        "  cf = (classification_report(y_true_max_ind,y_pred_max_ind))\n",
        "  confusion_mat = confusion_matrix(y_true_max_ind, y_pred_max_ind)\n",
        "\n",
        "  with open(DATA_PATH + '/' + name + '_pred', 'wb+') as f:\n",
        "    pickle.dump(y_pred_max_ind, f) \n",
        "\n",
        "  with open(DATA_PATH + '/' + name + '_gold', 'wb+') as f:\n",
        "    pickle.dump(y_true_max_ind, f)\n",
        "\n",
        "  print(\"\\n Model Accuracy : \",acc)\n",
        "  print(\"\\n Confusion Matrix: \\n\", confusion_mat)\n",
        "  print(\"\\nClassification Report\\n \",cf)\n",
        "\n",
        "def get_callbacks(patience=2):\n",
        "\n",
        "  chk_pth = (\"{epoch:02d}_{val_categorical_accuracy:.2f}.h5\")\n",
        "  # early stopping\n",
        "  earlyStop = EarlyStopping(monitor='val_loss', mode='auto', verbose=1, \n",
        "                            patience=patience)\n",
        "  checkpoint = ModelCheckpoint(chk_pth,monitor='val_categorical_accuracy', \n",
        "                               verbose=1, save_weights_only=True, \n",
        "                               save_best_only='True',mode = 'auto', period=2)\n",
        "  cb = [checkpoint, earlyStop]\n",
        "  return cb\n",
        "\n",
        "def run_model(model, train_tokenized_seq, train_labels, epochs, batch_size, vsplit, init_epoch=0, patience=2):\n",
        "\n",
        "  model.compile(loss='categorical_crossentropy', optimizer=Adam(lr=0.01),metrics=['categorical_accuracy'])\n",
        "\n",
        "  # check if a saved_model exists\n",
        "  # if(glob.glob('*.h5')):\n",
        "  #   print(\"loading model\")\n",
        "  #   load_path = return_last_saved_model(glob.glob('*.h5'))\n",
        "  #   # model = load_model(load_path)\n",
        "  #   model.load_weights(load_path)\n",
        "  #   init_epoch = get_epoch_frm_model_file(load_path)\n",
        "\n",
        "  print(\"START TRAINING\")\n",
        "\n",
        "  start = time.time()\n",
        "  history = model.fit(train_tokenized_seq,train_labels,epochs = init_epoch+epochs, batch_size=batch_size, validation_split=vsplit, callbacks=get_callbacks(patience), initial_epoch=init_epoch)\n",
        "  end =  time.time()\n",
        "  print(\"Training fininshed\")\n",
        "  # save_path = \"{}_epochs-model.h5\".format(init_epoch+epochs)\n",
        "  # model.save(save_path)\n",
        "  print(\"Average Time per epoch: \", (end-start)/len(history.history['loss']))\n",
        "  return history\n",
        "\n",
        "# plot model\n",
        "def training_plots(history, model_name, model):  \n",
        "  plt.plot(history.history[\"categorical_accuracy\"])\n",
        "  plt.plot(history.history[\"val_categorical_accuracy\"])\n",
        "  plt.title('model acc')\n",
        "  plt.ylabel('accuracy')\n",
        "  plt.xlabel('epoch')\n",
        "  plt.legend(['train', 'val'], loc='upper left')\n",
        "  plt.show()\n",
        "\n",
        "  plt.plot(history.history[\"loss\"])\n",
        "  plt.plot(history.history[\"val_loss\"])\n",
        "  plt.title('model loss')\n",
        "  plt.ylabel('loss')\n",
        "  plt.xlabel('epochs')\n",
        "  plt.legend(['train', 'val'], loc='upper left')\n",
        "  plt.show()\n",
        "\n",
        "  plot_model(model,to_file=model_name,show_shapes=True)\n",
        "\n",
        "def tokenize_sequences(texts, sl, tokenizer):\n",
        "  sequences = tokenizer.texts_to_sequences(texts)\n",
        "  sequences = pad_sequences(sequences, maxlen=sl)\n",
        "\n",
        "  return sequences\n",
        "\n",
        "def get_data(data_path):\n",
        "  newsgroups_data = fetch_20newsgroups(data_path, subset='all')\n",
        "  labels = newsgroups_data.target\n",
        "  texts = newsgroups_data.data\n",
        "\n",
        "  from sklearn.model_selection import train_test_split\n",
        "\n",
        "  train_texts, test_texts, train_labels, test_labels = train_test_split(texts, \n",
        "                                                                        labels, \n",
        "                                                                        test_size=0.1, \n",
        "                                                                        random_state=101)\n",
        "\n",
        "  return train_texts, train_labels, test_texts, test_labels\n",
        "\n",
        "def get_epoch_frm_model_file(save_path):\n",
        "  return int(save_path[:save_path.index('_')])\n",
        "\n",
        "def return_last_saved_model(paths):\n",
        "  last_epoch_prev = -1\n",
        "  ret_path = \"\"\n",
        "  for path in paths:\n",
        "    last_epoch = get_epoch_frm_model_file(path)\n",
        "    if(last_epoch >= last_epoch_prev):\n",
        "      last_epoch_prev = last_epoch\n",
        "      ret_path = path\n",
        "  return ret_path\n",
        "\n",
        "def get_embedding_matrix(word2ix, glove_path, embedding_dim):\n",
        "    \"\"\"\n",
        "    :param path: path to the glove embeddings file\n",
        "    :param tokenizer: tokenizer fitted on the documents\n",
        "    :param vocab_size: vocabulary size \n",
        "    :return: an embedding matrix: a nn.Embeddings\n",
        "    \"\"\"\n",
        "    glove_vectors = {}\n",
        "    glove_file = open(glove_path, 'r')\n",
        "    for line in tqdm(glove_file):\n",
        "        split_line = line.rstrip().split()\n",
        "        word = split_line[0]\n",
        "        if len(split_line) != (embedding_dim + 1) or word not in word2ix:\n",
        "            continue\n",
        "        assert (len(split_line) == embedding_dim + 1)\n",
        "        vector = np.array([float(x) for x in split_line[1:]], dtype=\"float32\")\n",
        "        assert len(vector) == embedding_dim\n",
        "        glove_vectors[word] = vector\n",
        "\n",
        "    glove_file.close()\n",
        "\n",
        "    print(\"Number of pre-trained word vectors loaded: \", len(glove_vectors))\n",
        "\n",
        "    # Calculate mean and stdev of embeddings\n",
        "    all_embeddings = np.array(list(glove_vectors.values()))\n",
        "    embeddings_mean = float(np.mean(all_embeddings))\n",
        "    embeddings_stdev = float(np.std(all_embeddings))\n",
        "\n",
        "    vocab_size = len(word2ix)\n",
        "    # Randomly initialize an embedding matrix of (vocab_size, embedding_dim) shape\n",
        "    # with a similar distribution as the pretrained embeddings for words in vocab.\n",
        "    embedding_matrix = np.random.normal(embeddings_mean, embeddings_stdev, (vocab_size, embedding_dim))\n",
        "\n",
        "    for i, word in enumerate(word2ix):\n",
        "        if word in glove_vectors:\n",
        "            embedding_matrix[i] = glove_vectors[word]\n",
        "\n",
        "    return embedding_matrix\n",
        "\n",
        "# the following functions are for word2vec embeddings\n",
        "def load_embedding(filename):\n",
        "    # load embedding into memory, skip first line\n",
        "    file = open(filename,'r')\n",
        "    lines = file.readlines()[1:]\n",
        "    file.close()\n",
        "    # create a map of words to vectors\n",
        "    embedding = dict()\n",
        "    for line in lines:\n",
        "        parts = line.split()\n",
        "        # key is string word, value is numpy array for vector\n",
        "        embedding[parts[0]] = np.asarray(parts[1:], dtype='float32')\n",
        "    return embedding\n",
        "\n",
        "def get_weight_matrix(embedding, vocab, embed_dim_w):\n",
        "    vocab_size = len(vocab)\n",
        "    weight_matrix = np.zeros((vocab_size, embed_dim_w))\n",
        "    for word, i in vocab.items():\n",
        "        if word in embedding:\n",
        "            weight_matrix[i] = embedding.get(word)\n",
        "    return weight_matrix\n",
        "\n",
        "def get_w2v_matrix(vocab, embed_dim_w):\n",
        "  raw_embedding = load_embedding('word2vec_200.txt')\n",
        "  return (get_weight_matrix(raw_embedding, vocab, embed_dim_w))\n",
        "\n",
        "def prepare_for_word_to_vec(texts):\n",
        "  words_list = []\n",
        "  for text in texts:\n",
        "    tokens = word_tokenize(text)\n",
        "    words = [word for word in tokens if word.isalpha()]\n",
        "    words_list.append(words)\n",
        "  return words_list\n"
      ],
      "execution_count": 0,
      "outputs": []
    },
    {
      "cell_type": "markdown",
      "metadata": {
        "id": "cSlUU4X_FVeb",
        "colab_type": "text"
      },
      "source": [
        "# Process Data"
      ]
    },
    {
      "cell_type": "code",
      "metadata": {
        "id": "-zXGi21mt7Sj",
        "colab_type": "code",
        "colab": {}
      },
      "source": [
        "# as mentioned in paper\n",
        "vocab_size = 40439\n",
        "embed_dim = 300 \n",
        "embed_dim_w = 200\n",
        "hidden_dim  = 128\n",
        "batch_size  = 128\n",
        "epochs = 50\n",
        "init_epoch = 0\n",
        "sl = 300\n",
        "vsplit = 0.05"
      ],
      "execution_count": 0,
      "outputs": []
    },
    {
      "cell_type": "code",
      "metadata": {
        "id": "as34xea2_7YH",
        "colab_type": "code",
        "colab": {}
      },
      "source": [
        "train_texts, train_labels, test_texts, test_labels = get_data(DATA_PATH)\n",
        "\n",
        "# Should fit_to_texts complete or only train-  \n",
        "# https://stackoverflow.com/questions/54891464/is-it-better-to-keras-fit-to-text-on-the-entire-x-data-or-just-the-train-data\n",
        "\n",
        "tokenizer = Tokenizer(oov_token='<UNK>', num_words=vocab_size+1)\n",
        "# fit only on train\n",
        "tokenizer.fit_on_texts(train_texts)\n",
        "\n",
        "# word2ix = truncated vocabulary or original vocabulary\n",
        "word2ix = list(tokenizer.word_index.keys())[:vocab_size+1]\n",
        "word2ix = {k:tokenizer.word_index[k] for k in word2ix}\n",
        "\n",
        "train_tokenized_seq = tokenize_sequences(train_texts, sl, tokenizer)\n",
        "test_tokenized_seq = tokenize_sequences(test_texts, sl, tokenizer)\n",
        "# vocab_size = len(tokenizer.word_index)# +1 for OOV\n",
        "\n",
        "train_labels = to_categorical(np.asarray(train_labels))\n",
        "test_labels = to_categorical(np.asarray(test_labels))\n",
        "output_dim = train_labels.shape[1]"
      ],
      "execution_count": 0,
      "outputs": []
    },
    {
      "cell_type": "markdown",
      "metadata": {
        "id": "Ql_Q4mRiqBMk",
        "colab_type": "text"
      },
      "source": [
        "# Load embeddings"
      ]
    },
    {
      "cell_type": "code",
      "metadata": {
        "id": "x5QZ03K_qD3J",
        "colab_type": "code",
        "outputId": "081d8284-b73c-4f3e-af22-de71fb61b105",
        "colab": {
          "base_uri": "https://localhost:8080/",
          "height": 121
        }
      },
      "source": [
        "# The following code is for training the word2vec algorithm on the dataset itself\n",
        "path = get_tmpfile(PATH + 'word2vec_200.txt')\n",
        "if(glob.glob('word2vec_200.txt')):\n",
        "  print(\"Loading word2vec model ...\")\n",
        "  model_w = KeyedVectors.load_word2vec_format(path)\n",
        "else:\n",
        "  import nltk\n",
        "  nltk.download('punkt')\n",
        "  from nltk.tokenize import word_tokenize\n",
        "  w_train = prepare_for_word_to_vec(train_texts)\n",
        "  w_test = prepare_for_word_to_vec(test_texts)\n",
        "  model_w = Word2Vec(w_train + w_test, size=embed_dim_w, sg=1, iter=15)\n",
        "\n",
        "# Todo: save the vectors onto disk\n",
        "\n",
        "if EMBED == 'word2vec':\n",
        "  save_embedding_matrix_path = PATH + 'embedding_matrix_word2vec.pkl'\n",
        "\n",
        "  if(glob.glob(save_embedding_matrix_path)):\n",
        "    print('Word2vec Embedding matrix found. Loading ...')\n",
        "    with open(save_embedding_matrix_path, 'rb') as f:\n",
        "      embedding_matrix = pickle.load(f)\n",
        "\n",
        "    print('Done.')\n",
        "\n",
        "  else:\n",
        "    embedding_matrix = get_w2v_matrix(word2ix, embed_dim_w)\n",
        "    with open(save_embedding_matrix_path, 'wb+') as f:\n",
        "      pickle.dump(embedding_matrix, f)\n",
        "\n",
        "elif(EMBED == 'glove'):\n",
        "  save_embedding_matrix_path = PATH + 'embedding_matrix_glove.pkl'\n",
        "\n",
        "  if(glob.glob(save_embedding_matrix_path)):\n",
        "    print('Glove Embedding matrix found. Loading ...')\n",
        "    with open(save_embedding_matrix_path, 'rb') as f:\n",
        "      embedding_matrix = pickle.load(f)\n",
        "\n",
        "    print('Done.')\n",
        "\n",
        "  else:\n",
        "    embedding_matrix = get_embedding_matrix(word2ix, GLOVE_PATH, embed_dim)\n",
        "    with open(save_embedding_matrix_path, 'wb+') as f:\n",
        "      pickle.dump(embedding_matrix, f)"
      ],
      "execution_count": 7,
      "outputs": [
        {
          "output_type": "stream",
          "text": [
            "Loading word2vec model ...\n"
          ],
          "name": "stdout"
        },
        {
          "output_type": "stream",
          "text": [
            "/usr/local/lib/python3.6/dist-packages/smart_open/smart_open_lib.py:253: UserWarning: This function is deprecated, use smart_open.open instead. See the migration notes for details: https://github.com/RaRe-Technologies/smart_open/blob/master/README.rst#migrating-to-the-new-open-function\n",
            "  'See the migration notes for details: %s' % _MIGRATION_NOTES_URL\n"
          ],
          "name": "stderr"
        },
        {
          "output_type": "stream",
          "text": [
            "Glove Embedding matrix found. Loading ...\n",
            "Done.\n"
          ],
          "name": "stdout"
        }
      ]
    },
    {
      "cell_type": "code",
      "metadata": {
        "id": "fKJRdWgJt8MM",
        "colab_type": "code",
        "outputId": "85b86d7e-8937-4089-c5a9-15c988f5e920",
        "colab": {
          "base_uri": "https://localhost:8080/",
          "height": 118
        }
      },
      "source": [
        "print(train_tokenized_seq.shape)\n",
        "print(train_labels.shape)\n",
        "\n",
        "print(test_tokenized_seq.shape)\n",
        "print(test_labels.shape)\n",
        "\n",
        "print(embedding_matrix.shape)\n",
        "print(vocab_size)"
      ],
      "execution_count": 8,
      "outputs": [
        {
          "output_type": "stream",
          "text": [
            "(16961, 300)\n",
            "(16961, 20)\n",
            "(1885, 300)\n",
            "(1885, 20)\n",
            "(40440, 300)\n",
            "40439\n"
          ],
          "name": "stdout"
        }
      ]
    },
    {
      "cell_type": "markdown",
      "metadata": {
        "id": "FzOx9UXS6Zjh",
        "colab_type": "text"
      },
      "source": [
        "# Models"
      ]
    },
    {
      "cell_type": "code",
      "metadata": {
        "id": "Orn8Ly2uCz8g",
        "colab_type": "code",
        "colab": {}
      },
      "source": [
        "emb_dim = embed_dim if EMBED == 'glove' else embed_dim_w\n",
        "import keras.backend as K\n",
        "\n",
        "def repeat(x):\n",
        "  return K.repeat_elements(x, rep=hidden_dim, axis=-1)\n",
        "\n",
        "def sum_along_axis(x):\n",
        "  return K.sum(x, axis=1)\n",
        "\n",
        "def get_wrnn(rnn='gru'):\n",
        "  inp = Input(shape=(sl,))\n",
        "  embed = Embedding(input_dim=vocab_size+1, output_dim=emb_dim, \n",
        "                    weights=[embedding_matrix], input_length=sl,\n",
        "                    trainable=True)(inp)\n",
        "  if rnn == 'gru':\n",
        "    lstm = GRU(hidden_dim, return_sequences=True, dropout=0.2)(embed)\n",
        "  else:  \n",
        "    lstm = LSTM(hidden_dim, return_sequences=True, recurrent_dropout=0.2, \n",
        "                dropout=0.2)(embed)\n",
        "  wis = TimeDistributed(Dense(1, activation='sigmoid'))(lstm)\n",
        "  wis = Lambda(repeat)(wis)\n",
        "  wd = Multiply()([lstm, wis])\n",
        "  wd = Lambda(sum_along_axis)(wd)\n",
        "  d = Dense(hidden_dim, activation='relu', kernel_regularizer=regularizers.l2(0.01))(wd)\n",
        "  d = Dropout(0.2)(d)\n",
        "  out = Dense(output_dim, activation='softmax')(d)\n",
        "  model_wrnn = Model(inputs = inp, outputs = out)\n",
        "  print(model_wrnn.summary())\n",
        "  return model_wrnn\n",
        "\n",
        "def get_gru():\n",
        "  model_gru = Sequential([Embedding(input_dim=vocab_size+1, output_dim=emb_dim, \n",
        "                                    weights=[embedding_matrix], input_length=sl, \n",
        "                                    trainable=True), \n",
        "                        GRU(hidden_dim, dropout=0.3),\n",
        "                        Dense(hidden_dim, activation='relu', kernel_regularizer=regularizers.l2(0.005)),\n",
        "                        Dropout(0.3),\n",
        "                        Dense(output_dim, activation='softmax')])\n",
        "  \n",
        "  print(model_gru.summary())\n",
        "  return model_gru\n",
        "\n",
        "def get_bigru():\n",
        "  model_BiGRU = Sequential([Embedding(input_dim=vocab_size+1, output_dim=emb_dim, \n",
        "                                      weights=[embedding_matrix], input_length=sl, \n",
        "                                      trainable=True),\n",
        "                        Bidirectional(GRU(hidden_dim, dropout=0.3)),\n",
        "                        Dense(hidden_dim, activation='relu', kernel_regularizer=regularizers.l2(0.01)),\n",
        "                        Dropout(0.3),\n",
        "                        Dense(output_dim, activation='softmax')])\n",
        "  print(model_BiGRU.summary())\n",
        "  return model_BiGRU\n",
        "\n",
        "def perform_experiment(model, name, patience=2):\n",
        "\n",
        "  # training\n",
        "  history = run_model(model, train_tokenized_seq, train_labels, epochs, \n",
        "                      batch_size, vsplit, patience=patience)\n",
        "  training_plots(history, name + '.png', model)\n",
        "\n",
        "  # evaluation\n",
        "  print(\"Evaluating...\")\n",
        "  evaluate(model, test_tokenized_seq, test_labels, batch_size, name)"
      ],
      "execution_count": 0,
      "outputs": []
    },
    {
      "cell_type": "markdown",
      "metadata": {
        "id": "-VAspm57zATT",
        "colab_type": "text"
      },
      "source": [
        "## WRNN (with GRU unit)"
      ]
    },
    {
      "cell_type": "code",
      "metadata": {
        "id": "wJVIkBQ4UDm8",
        "colab_type": "code",
        "outputId": "87bd42af-4fd0-4638-e3b7-264a8f6d80b0",
        "colab": {
          "base_uri": "https://localhost:8080/",
          "height": 1000
        }
      },
      "source": [
        "model = get_wrnn()\n",
        "perform_experiment(model, 'wrnn_gru')"
      ],
      "execution_count": 0,
      "outputs": [
        {
          "output_type": "stream",
          "text": [
            "Model: \"model_4\"\n",
            "__________________________________________________________________________________________________\n",
            "Layer (type)                    Output Shape         Param #     Connected to                     \n",
            "==================================================================================================\n",
            "input_4 (InputLayer)            (None, 300)          0                                            \n",
            "__________________________________________________________________________________________________\n",
            "embedding_5 (Embedding)         (None, 300, 300)     12132000    input_4[0][0]                    \n",
            "__________________________________________________________________________________________________\n",
            "gru_4 (GRU)                     (None, 300, 128)     164736      embedding_5[0][0]                \n",
            "__________________________________________________________________________________________________\n",
            "time_distributed_4 (TimeDistrib (None, 300, 1)       129         gru_4[0][0]                      \n",
            "__________________________________________________________________________________________________\n",
            "lambda_7 (Lambda)               (None, 300, 128)     0           time_distributed_4[0][0]         \n",
            "__________________________________________________________________________________________________\n",
            "multiply_4 (Multiply)           (None, 300, 128)     0           gru_4[0][0]                      \n",
            "                                                                 lambda_7[0][0]                   \n",
            "__________________________________________________________________________________________________\n",
            "lambda_8 (Lambda)               (None, 128)          0           multiply_4[0][0]                 \n",
            "__________________________________________________________________________________________________\n",
            "dense_13 (Dense)                (None, 128)          16512       lambda_8[0][0]                   \n",
            "__________________________________________________________________________________________________\n",
            "dropout_5 (Dropout)             (None, 128)          0           dense_13[0][0]                   \n",
            "__________________________________________________________________________________________________\n",
            "dense_14 (Dense)                (None, 20)           2580        dropout_5[0][0]                  \n",
            "==================================================================================================\n",
            "Total params: 12,315,957\n",
            "Trainable params: 12,315,957\n",
            "Non-trainable params: 0\n",
            "__________________________________________________________________________________________________\n",
            "None\n",
            "START TRAINING\n",
            "Train on 16112 samples, validate on 849 samples\n",
            "Epoch 1/50\n",
            "16112/16112 [==============================] - 39s 2ms/step - loss: 5.0069 - categorical_accuracy: 0.0480 - val_loss: 3.7881 - val_categorical_accuracy: 0.0424\n",
            "Epoch 2/50\n",
            "16112/16112 [==============================] - 39s 2ms/step - loss: 3.5411 - categorical_accuracy: 0.0535 - val_loss: 3.3488 - val_categorical_accuracy: 0.0530\n",
            "\n",
            "Epoch 00002: val_categorical_accuracy improved from -inf to 0.05300, saving model to 02_0.05.h5\n",
            "Epoch 3/50\n",
            "16112/16112 [==============================] - 41s 3ms/step - loss: 3.2376 - categorical_accuracy: 0.0567 - val_loss: 3.1331 - val_categorical_accuracy: 0.0530\n",
            "Epoch 4/50\n",
            "16112/16112 [==============================] - 41s 3ms/step - loss: 3.0763 - categorical_accuracy: 0.0759 - val_loss: 2.9610 - val_categorical_accuracy: 0.0966\n",
            "\n",
            "Epoch 00004: val_categorical_accuracy improved from 0.05300 to 0.09658, saving model to 04_0.10.h5\n",
            "Epoch 5/50\n",
            "16112/16112 [==============================] - 39s 2ms/step - loss: 2.5758 - categorical_accuracy: 0.2104 - val_loss: 1.9137 - val_categorical_accuracy: 0.4146\n",
            "Epoch 6/50\n",
            "16112/16112 [==============================] - 39s 2ms/step - loss: 1.2337 - categorical_accuracy: 0.6630 - val_loss: 0.9303 - val_categorical_accuracy: 0.7656\n",
            "\n",
            "Epoch 00006: val_categorical_accuracy improved from 0.09658 to 0.76561, saving model to 06_0.77.h5\n",
            "Epoch 7/50\n",
            "16112/16112 [==============================] - 39s 2ms/step - loss: 0.5531 - categorical_accuracy: 0.8731 - val_loss: 0.8059 - val_categorical_accuracy: 0.8139\n",
            "Epoch 8/50\n",
            "16112/16112 [==============================] - 39s 2ms/step - loss: 0.3642 - categorical_accuracy: 0.9291 - val_loss: 0.8411 - val_categorical_accuracy: 0.8351\n",
            "\n",
            "Epoch 00008: val_categorical_accuracy improved from 0.76561 to 0.83510, saving model to 08_0.84.h5\n",
            "Epoch 9/50\n",
            "16112/16112 [==============================] - 39s 2ms/step - loss: 0.2679 - categorical_accuracy: 0.9572 - val_loss: 0.8908 - val_categorical_accuracy: 0.8280\n",
            "Epoch 00009: early stopping\n",
            "Training fininshed\n",
            "Average Time per epoch:  40.01858165529039\n"
          ],
          "name": "stdout"
        },
        {
          "output_type": "display_data",
          "data": {
            "image/png": "[encoded data removed]",
            "text/plain": [
              "<Figure size 432x288 with 1 Axes>"
            ]
          },
          "metadata": {
            "tags": [],
            "needs_background": "light"
          }
        },
        {
          "output_type": "display_data",
          "data": {
            "image/png": "[encoded data removed]",
            "text/plain": [
              "<Figure size 432x288 with 1 Axes>"
            ]
          },
          "metadata": {
            "tags": [],
            "needs_background": "light"
          }
        },
        {
          "output_type": "stream",
          "text": [
            "Evaluating...\n",
            "1885/1885 [==============================] - 2s 958us/step\n",
            "\n",
            " Model Accuracy :  0.8572944402694702\n",
            "\n",
            " Confusion Matrix: \n",
            " [[ 73   0   0   0   1   0   0   0   0   1   0   2   0   1   0   4   1   1\n",
            "    0   1]\n",
            " [  0  80   2   2   3   4   0   0   0   0   0   0   1   0   1   0   0   0\n",
            "    0   0]\n",
            " [  0   7  80   9   1   2   0   0   0   0   0   0   0   0   1   0   0   0\n",
            "    0   0]\n",
            " [  0   5   1  69   6   1   3   0   0   0   0   1   0   1   0   1   0   0\n",
            "    0   0]\n",
            " [  0   1   1   1  82   1   5   0   0   0   0   1   1   0   0   0   0   0\n",
            "    0   0]\n",
            " [  0   6   3   0   1  81   0   1   0   0   1   0   0   3   0   0   0   0\n",
            "    0   0]\n",
            " [  0   0   1   3   4   0  86   4   1   0   0   0   3   0   0   0   0   0\n",
            "    0   0]\n",
            " [  0   0   0   4   3   0   4  96   2   1   0   0   2   1   1   0   0   0\n",
            "    0   0]\n",
            " [  0   0   0   1   0   0   1   0 101   1   0   0   1   1   0   0   1   0\n",
            "    0   0]\n",
            " [  0   0   1   0   1   0   1   0   0  82   0   0   2   2   0   0   0   0\n",
            "    0   1]\n",
            " [  0   1   1   0   0   2   0   0   0   0 100   0   0   0   0   0   0   0\n",
            "    0   0]\n",
            " [  0   3   0   0   0   0   0   0   0   1   0  82   0   1   1   0   0   0\n",
            "    2   0]\n",
            " [  0   5   0   7   1   0   5   0   0   0   0   1  78   0   0   0   0   0\n",
            "    0   0]\n",
            " [  0   0   0   0   0   0   2   1   0   0   0   1   1  88   0   1   0   0\n",
            "    0   1]\n",
            " [  1   6   0   0   2   0   0   1   1   0   0   0   3   0  79   1   0   0\n",
            "    2   0]\n",
            " [  1   1   0   0   1   0   1   0   0   0   0   0   0   0   0  89   0   2\n",
            "    1   0]\n",
            " [  1   0   0   0   0   0   0   1   3   0   0   0   1   1   7   0  66   1\n",
            "    5   0]\n",
            " [  2   1   0   1   1   1   0   0   0   0   0   0   0   0   0   0   0 103\n",
            "    0   0]\n",
            " [  4   0   1   0   0   0   0   0   1   2   1   1   0   3   2   0   5   0\n",
            "   57   1]\n",
            " [  6   0   0   0   0   1   0   0   1   0   1   1   0   2   0   7   3   0\n",
            "    0  44]]\n",
            "\n",
            "Classification Report\n",
            "                precision    recall  f1-score   support\n",
            "\n",
            "           0       0.83      0.86      0.84        85\n",
            "           1       0.69      0.86      0.77        93\n",
            "           2       0.88      0.80      0.84       100\n",
            "           3       0.71      0.78      0.75        88\n",
            "           4       0.77      0.88      0.82        93\n",
            "           5       0.87      0.84      0.86        96\n",
            "           6       0.80      0.84      0.82       102\n",
            "           7       0.92      0.84      0.88       114\n",
            "           8       0.92      0.94      0.93       107\n",
            "           9       0.93      0.91      0.92        90\n",
            "          10       0.97      0.96      0.97       104\n",
            "          11       0.91      0.91      0.91        90\n",
            "          12       0.84      0.80      0.82        97\n",
            "          13       0.85      0.93      0.88        95\n",
            "          14       0.86      0.82      0.84        96\n",
            "          15       0.86      0.93      0.89        96\n",
            "          16       0.87      0.77      0.81        86\n",
            "          17       0.96      0.94      0.95       109\n",
            "          18       0.85      0.73      0.79        78\n",
            "          19       0.92      0.67      0.77        66\n",
            "\n",
            "    accuracy                           0.86      1885\n",
            "   macro avg       0.86      0.85      0.85      1885\n",
            "weighted avg       0.86      0.86      0.86      1885\n",
            "\n"
          ],
          "name": "stdout"
        }
      ]
    },
    {
      "cell_type": "markdown",
      "metadata": {
        "id": "J_rR1bkSQ24D",
        "colab_type": "text"
      },
      "source": [
        "## WRNN (with LSTM unit)"
      ]
    },
    {
      "cell_type": "code",
      "metadata": {
        "id": "vfOcWzV3Q15w",
        "colab_type": "code",
        "outputId": "8b6c1ab6-67d8-4920-cdf7-bbc6f0af404c",
        "colab": {
          "base_uri": "https://localhost:8080/",
          "height": 1000
        }
      },
      "source": [
        "model = get_wrnn(rnn='lstm')\n",
        "perform_experiment(model, 'wrnn_lstm')"
      ],
      "execution_count": 10,
      "outputs": [
        {
          "output_type": "stream",
          "text": [
            "WARNING:tensorflow:From /tensorflow-1.15.2/python3.6/tensorflow_core/python/ops/resource_variable_ops.py:1630: calling BaseResourceVariable.__init__ (from tensorflow.python.ops.resource_variable_ops) with constraint is deprecated and will be removed in a future version.\n",
            "Instructions for updating:\n",
            "If using Keras pass *_constraint arguments to layers.\n",
            "Model: \"model_1\"\n",
            "__________________________________________________________________________________________________\n",
            "Layer (type)                    Output Shape         Param #     Connected to                     \n",
            "==================================================================================================\n",
            "input_1 (InputLayer)            (None, 300)          0                                            \n",
            "__________________________________________________________________________________________________\n",
            "embedding_1 (Embedding)         (None, 300, 300)     12132000    input_1[0][0]                    \n",
            "__________________________________________________________________________________________________\n",
            "lstm_1 (LSTM)                   (None, 300, 128)     219648      embedding_1[0][0]                \n",
            "__________________________________________________________________________________________________\n",
            "time_distributed_1 (TimeDistrib (None, 300, 1)       129         lstm_1[0][0]                     \n",
            "__________________________________________________________________________________________________\n",
            "lambda_1 (Lambda)               (None, 300, 128)     0           time_distributed_1[0][0]         \n",
            "__________________________________________________________________________________________________\n",
            "multiply_1 (Multiply)           (None, 300, 128)     0           lstm_1[0][0]                     \n",
            "                                                                 lambda_1[0][0]                   \n",
            "__________________________________________________________________________________________________\n",
            "lambda_2 (Lambda)               (None, 128)          0           multiply_1[0][0]                 \n",
            "__________________________________________________________________________________________________\n",
            "dense_2 (Dense)                 (None, 128)          16512       lambda_2[0][0]                   \n",
            "__________________________________________________________________________________________________\n",
            "dropout_1 (Dropout)             (None, 128)          0           dense_2[0][0]                    \n",
            "__________________________________________________________________________________________________\n",
            "dense_3 (Dense)                 (None, 20)           2580        dropout_1[0][0]                  \n",
            "==================================================================================================\n",
            "Total params: 12,370,869\n",
            "Trainable params: 12,370,869\n",
            "Non-trainable params: 0\n",
            "__________________________________________________________________________________________________\n",
            "None\n",
            "START TRAINING\n",
            "WARNING:tensorflow:From /usr/local/lib/python3.6/dist-packages/keras/backend/tensorflow_backend.py:422: The name tf.global_variables is deprecated. Please use tf.compat.v1.global_variables instead.\n",
            "\n",
            "Train on 16112 samples, validate on 849 samples\n",
            "Epoch 1/50\n",
            "16112/16112 [==============================] - 36s 2ms/step - loss: 4.1416 - categorical_accuracy: 0.0515 - val_loss: 3.3559 - val_categorical_accuracy: 0.0483\n",
            "Epoch 2/50\n",
            "16112/16112 [==============================] - 35s 2ms/step - loss: 3.1912 - categorical_accuracy: 0.0539 - val_loss: 3.0857 - val_categorical_accuracy: 0.0530\n",
            "\n",
            "Epoch 00002: val_categorical_accuracy improved from -inf to 0.05300, saving model to 02_0.05.h5\n",
            "Epoch 3/50\n",
            "16112/16112 [==============================] - 35s 2ms/step - loss: 3.0418 - categorical_accuracy: 0.0576 - val_loss: 3.0127 - val_categorical_accuracy: 0.0506\n",
            "Epoch 4/50\n",
            "16112/16112 [==============================] - 35s 2ms/step - loss: 2.9967 - categorical_accuracy: 0.0557 - val_loss: 2.9948 - val_categorical_accuracy: 0.0612\n",
            "\n",
            "Epoch 00004: val_categorical_accuracy improved from 0.05300 to 0.06125, saving model to 04_0.06.h5\n",
            "Epoch 5/50\n",
            "16112/16112 [==============================] - 35s 2ms/step - loss: 2.9811 - categorical_accuracy: 0.0600 - val_loss: 2.9748 - val_categorical_accuracy: 0.0813\n",
            "Epoch 6/50\n",
            "16112/16112 [==============================] - 34s 2ms/step - loss: 2.8567 - categorical_accuracy: 0.1070 - val_loss: 2.7240 - val_categorical_accuracy: 0.1578\n",
            "\n",
            "Epoch 00006: val_categorical_accuracy improved from 0.06125 to 0.15783, saving model to 06_0.16.h5\n",
            "Epoch 7/50\n",
            "16112/16112 [==============================] - 35s 2ms/step - loss: 2.3631 - categorical_accuracy: 0.2454 - val_loss: 1.9041 - val_categorical_accuracy: 0.4005\n",
            "Epoch 8/50\n",
            "16112/16112 [==============================] - 34s 2ms/step - loss: 1.4530 - categorical_accuracy: 0.5268 - val_loss: 1.0338 - val_categorical_accuracy: 0.6608\n",
            "\n",
            "Epoch 00008: val_categorical_accuracy improved from 0.15783 to 0.66078, saving model to 08_0.66.h5\n",
            "Epoch 9/50\n",
            "16112/16112 [==============================] - 35s 2ms/step - loss: 0.7392 - categorical_accuracy: 0.7963 - val_loss: 0.7430 - val_categorical_accuracy: 0.8127\n",
            "Epoch 10/50\n",
            "16112/16112 [==============================] - 35s 2ms/step - loss: 0.3998 - categorical_accuracy: 0.9075 - val_loss: 0.7476 - val_categorical_accuracy: 0.8304\n",
            "\n",
            "Epoch 00010: val_categorical_accuracy improved from 0.66078 to 0.83039, saving model to 10_0.83.h5\n",
            "Epoch 11/50\n",
            "16112/16112 [==============================] - 34s 2ms/step - loss: 0.2436 - categorical_accuracy: 0.9514 - val_loss: 0.7308 - val_categorical_accuracy: 0.8504\n",
            "Epoch 12/50\n",
            "16112/16112 [==============================] - 34s 2ms/step - loss: 0.1882 - categorical_accuracy: 0.9668 - val_loss: 0.8649 - val_categorical_accuracy: 0.8469\n",
            "\n",
            "Epoch 00012: val_categorical_accuracy improved from 0.83039 to 0.84688, saving model to 12_0.85.h5\n",
            "Epoch 13/50\n",
            "16112/16112 [==============================] - 34s 2ms/step - loss: 0.1563 - categorical_accuracy: 0.9752 - val_loss: 0.8123 - val_categorical_accuracy: 0.8528\n",
            "Epoch 00013: early stopping\n",
            "Training fininshed\n",
            "Average Time per epoch:  34.998885264763466\n"
          ],
          "name": "stdout"
        },
        {
          "output_type": "display_data",
          "data": {
            "image/png": "[encoded data removed]",
            "text/plain": [
              "<Figure size 432x288 with 1 Axes>"
            ]
          },
          "metadata": {
            "tags": [],
            "needs_background": "light"
          }
        },
        {
          "output_type": "display_data",
          "data": {
            "image/png": "[encoded data removed]",
            "text/plain": [
              "<Figure size 432x288 with 1 Axes>"
            ]
          },
          "metadata": {
            "tags": [],
            "needs_background": "light"
          }
        },
        {
          "output_type": "stream",
          "text": [
            "Evaluating...\n",
            "1885/1885 [==============================] - 2s 865us/step\n",
            "\n",
            " Model Accuracy :  0.8769230842590332\n",
            "\n",
            " Confusion Matrix: \n",
            " [[ 76   0   0   0   0   0   1   0   0   0   0   0   0   1   2   1   0   0\n",
            "    0   4]\n",
            " [  0  62   5   2   6   9   4   0   0   0   0   0   0   1   3   1   0   0\n",
            "    0   0]\n",
            " [  0   5  86   1   1   3   0   2   0   0   0   0   2   0   0   0   0   0\n",
            "    0   0]\n",
            " [  0   1   4  66   6   2   6   0   0   0   0   0   2   0   1   0   0   0\n",
            "    0   0]\n",
            " [  0   0   0   4  85   2   1   0   0   0   0   1   0   0   0   0   0   0\n",
            "    0   0]\n",
            " [  0   2   0   0   0  94   0   0   0   0   0   0   0   0   0   0   0   0\n",
            "    0   0]\n",
            " [  0   0   3   5   3   3  78   4   1   0   1   2   2   0   0   0   0   0\n",
            "    0   0]\n",
            " [  0   0   0   0   1   1   4  99   6   0   0   1   0   1   0   0   0   0\n",
            "    1   0]\n",
            " [  0   0   0   0   0   0   1   0 104   0   0   0   0   0   0   1   0   0\n",
            "    0   1]\n",
            " [  0   0   0   0   1   1   2   0   0  82   3   0   0   0   0   0   0   0\n",
            "    0   1]\n",
            " [  0   0   0   0   0   0   1   0   0   0 102   0   0   0   1   0   0   0\n",
            "    0   0]\n",
            " [  0   1   0   0   0   0   0   0   0   0   0  86   0   0   0   0   0   2\n",
            "    1   0]\n",
            " [  0   0   1   1   1   0   5   3   2   0   0   0  84   0   0   0   0   0\n",
            "    0   0]\n",
            " [  1   1   0   0   0   2   0   0   0   2   0   0   0  86   0   1   0   1\n",
            "    0   1]\n",
            " [  1   1   0   0   0   0   0   0   1   0   0   0   1   1  89   1   0   1\n",
            "    0   0]\n",
            " [  2   0   0   0   1   0   0   0   0   0   0   0   0   3   0  83   0   1\n",
            "    0   6]\n",
            " [  0   0   0   0   0   0   0   0   1   0   0   1   0   0   3   0  79   0\n",
            "    0   2]\n",
            " [  0   0   0   0   0   0   0   0   0   0   0   0   0   1   1   0   1 106\n",
            "    0   0]\n",
            " [  6   0   0   0   0   0   0   1   1   1   0   0   0   0   2   2   3   0\n",
            "   59   3]\n",
            " [  5   0   0   0   0   1   0   1   0   0   0   0   0   2   0   6   3   0\n",
            "    1  47]]\n",
            "\n",
            "Classification Report\n",
            "                precision    recall  f1-score   support\n",
            "\n",
            "           0       0.84      0.89      0.86        85\n",
            "           1       0.85      0.67      0.75        93\n",
            "           2       0.87      0.86      0.86       100\n",
            "           3       0.84      0.75      0.79        88\n",
            "           4       0.81      0.91      0.86        93\n",
            "           5       0.80      0.98      0.88        96\n",
            "           6       0.76      0.76      0.76       102\n",
            "           7       0.90      0.87      0.88       114\n",
            "           8       0.90      0.97      0.93       107\n",
            "           9       0.96      0.91      0.94        90\n",
            "          10       0.96      0.98      0.97       104\n",
            "          11       0.95      0.96      0.95        90\n",
            "          12       0.92      0.87      0.89        97\n",
            "          13       0.90      0.91      0.90        95\n",
            "          14       0.87      0.93      0.90        96\n",
            "          15       0.86      0.86      0.86        96\n",
            "          16       0.92      0.92      0.92        86\n",
            "          17       0.95      0.97      0.96       109\n",
            "          18       0.95      0.76      0.84        78\n",
            "          19       0.72      0.71      0.72        66\n",
            "\n",
            "    accuracy                           0.88      1885\n",
            "   macro avg       0.88      0.87      0.87      1885\n",
            "weighted avg       0.88      0.88      0.88      1885\n",
            "\n"
          ],
          "name": "stdout"
        }
      ]
    },
    {
      "cell_type": "markdown",
      "metadata": {
        "id": "kDq224vDUNrN",
        "colab_type": "text"
      },
      "source": [
        "## Simple GRU"
      ]
    },
    {
      "cell_type": "code",
      "metadata": {
        "id": "zVOCcfq7URfx",
        "colab_type": "code",
        "outputId": "f6ba2ffc-a2b2-4bf3-8e77-fc8bf554f6a4",
        "colab": {
          "base_uri": "https://localhost:8080/",
          "height": 1000
        }
      },
      "source": [
        "model = get_gru()\n",
        "perform_experiment(model, 'gru', patience=1)"
      ],
      "execution_count": 0,
      "outputs": [
        {
          "output_type": "stream",
          "text": [
            "Model: \"sequential_2\"\n",
            "_________________________________________________________________\n",
            "Layer (type)                 Output Shape              Param #   \n",
            "=================================================================\n",
            "embedding_7 (Embedding)      (None, 300, 300)          12132000  \n",
            "_________________________________________________________________\n",
            "gru_5 (GRU)                  (None, 128)               164736    \n",
            "_________________________________________________________________\n",
            "dense_18 (Dense)             (None, 128)               16512     \n",
            "_________________________________________________________________\n",
            "dropout_7 (Dropout)          (None, 128)               0         \n",
            "_________________________________________________________________\n",
            "dense_19 (Dense)             (None, 20)                2580      \n",
            "=================================================================\n",
            "Total params: 12,315,828\n",
            "Trainable params: 12,315,828\n",
            "Non-trainable params: 0\n",
            "_________________________________________________________________\n",
            "None\n",
            "START TRAINING\n",
            "Train on 16112 samples, validate on 849 samples\n",
            "Epoch 1/50\n",
            "16112/16112 [==============================] - 41s 3ms/step - loss: 2.5529 - categorical_accuracy: 0.2728 - val_loss: 1.5396 - val_categorical_accuracy: 0.5583\n",
            "Epoch 2/50\n",
            "16112/16112 [==============================] - 39s 2ms/step - loss: 1.0566 - categorical_accuracy: 0.7141 - val_loss: 0.8199 - val_categorical_accuracy: 0.7951\n",
            "\n",
            "Epoch 00002: val_categorical_accuracy improved from -inf to 0.79505, saving model to 02_0.80.h5\n",
            "Epoch 3/50\n",
            "16112/16112 [==============================] - 40s 2ms/step - loss: 0.6162 - categorical_accuracy: 0.8599 - val_loss: 0.8105 - val_categorical_accuracy: 0.8151\n",
            "Epoch 4/50\n",
            "16112/16112 [==============================] - 39s 2ms/step - loss: 0.5241 - categorical_accuracy: 0.8908 - val_loss: 0.8540 - val_categorical_accuracy: 0.8127\n",
            "\n",
            "Epoch 00004: val_categorical_accuracy improved from 0.79505 to 0.81272, saving model to 04_0.81.h5\n",
            "Epoch 00004: early stopping\n",
            "Training fininshed\n",
            "Average Time per epoch:  41.312465488910675\n"
          ],
          "name": "stdout"
        },
        {
          "output_type": "display_data",
          "data": {
            "image/png": "[encoded data removed]",
            "text/plain": [
              "<Figure size 432x288 with 1 Axes>"
            ]
          },
          "metadata": {
            "tags": [],
            "needs_background": "light"
          }
        },
        {
          "output_type": "display_data",
          "data": {
            "image/png": "[encoded data removed]",
            "text/plain": [
              "<Figure size 432x288 with 1 Axes>"
            ]
          },
          "metadata": {
            "tags": [],
            "needs_background": "light"
          }
        },
        {
          "output_type": "stream",
          "text": [
            "Evaluating...\n",
            "1885/1885 [==============================] - 2s 966us/step\n",
            "\n",
            " Model Accuracy :  0.8137931227684021\n",
            "\n",
            " Confusion Matrix: \n",
            " [[ 66   0   0   0   0   0   0   0   0   0   0   0   0   4   2   6   0   0\n",
            "    0   7]\n",
            " [  0  68   7   3   0   6   2   1   0   0   0   0   4   1   0   0   0   1\n",
            "    0   0]\n",
            " [  0   5  81   6   0   3   0   3   0   0   0   0   2   0   0   0   0   0\n",
            "    0   0]\n",
            " [  0   2   6  64   4   1   1   0   0   0   0   0   9   1   0   0   0   0\n",
            "    0   0]\n",
            " [  0   3   0  12  68   0   1   0   0   1   0   0   6   0   0   0   0   0\n",
            "    1   1]\n",
            " [  0   7   3   0   0  84   0   0   0   0   0   0   1   1   0   0   0   0\n",
            "    0   0]\n",
            " [  0   3   3   5   2   0  72   7   1   0   2   1   4   1   0   0   0   0\n",
            "    1   0]\n",
            " [  1   1   0   3   0   0   2  96   2   1   1   1   5   1   0   0   0   0\n",
            "    0   0]\n",
            " [  0   0   1   0   0   0   1   4  96   0   0   0   3   0   0   0   1   0\n",
            "    1   0]\n",
            " [  0   0   0   3   1   0   0   2   0  76   3   0   3   2   0   0   0   0\n",
            "    0   0]\n",
            " [  0   0   0   0   0   0   0   0   0   0 101   0   0   0   2   0   0   0\n",
            "    1   0]\n",
            " [  0   0   0   0   1   2   0   0   0   0   0  82   4   0   0   0   0   0\n",
            "    0   1]\n",
            " [  1   1   0   3   2   0   1   3   0   0   1   0  81   4   0   0   0   0\n",
            "    0   0]\n",
            " [  0   3   0   0   0   0   0   1   0   2   0   1   7  80   1   0   0   0\n",
            "    0   0]\n",
            " [  0   2   0   0   0   1   1   0   0   0   2   0   4   1  80   0   2   0\n",
            "    2   1]\n",
            " [  3   0   0   0   0   0   0   0   0   1   1   0   0   0   0  87   0   0\n",
            "    0   4]\n",
            " [  0   0   0   0   0   0   0   2   1   0   0   0   0   0   1   0  77   0\n",
            "    1   4]\n",
            " [  2   0   0   0   0   1   0   1   0   0   0   0   2   1   0   1   0 100\n",
            "    0   1]\n",
            " [  2   0   0   0   0   1   0   1   0   0   0   1   3   0   4   0  16   2\n",
            "   42   6]\n",
            " [  7   0   0   0   0   1   0   1   0   0   0   1   2   1   1  11   6   2\n",
            "    0  33]]\n",
            "\n",
            "Classification Report\n",
            "                precision    recall  f1-score   support\n",
            "\n",
            "           0       0.80      0.78      0.79        85\n",
            "           1       0.72      0.73      0.72        93\n",
            "           2       0.80      0.81      0.81       100\n",
            "           3       0.65      0.73      0.68        88\n",
            "           4       0.87      0.73      0.80        93\n",
            "           5       0.84      0.88      0.86        96\n",
            "           6       0.89      0.71      0.79       102\n",
            "           7       0.79      0.84      0.81       114\n",
            "           8       0.96      0.90      0.93       107\n",
            "           9       0.94      0.84      0.89        90\n",
            "          10       0.91      0.97      0.94       104\n",
            "          11       0.94      0.91      0.93        90\n",
            "          12       0.58      0.84      0.68        97\n",
            "          13       0.82      0.84      0.83        95\n",
            "          14       0.88      0.83      0.86        96\n",
            "          15       0.83      0.91      0.87        96\n",
            "          16       0.75      0.90      0.82        86\n",
            "          17       0.95      0.92      0.93       109\n",
            "          18       0.86      0.54      0.66        78\n",
            "          19       0.57      0.50      0.53        66\n",
            "\n",
            "    accuracy                           0.81      1885\n",
            "   macro avg       0.82      0.80      0.81      1885\n",
            "weighted avg       0.82      0.81      0.81      1885\n",
            "\n"
          ],
          "name": "stdout"
        }
      ]
    },
    {
      "cell_type": "markdown",
      "metadata": {
        "id": "SOHXFvZ2UXXu",
        "colab_type": "text"
      },
      "source": [
        "## BiGRU"
      ]
    },
    {
      "cell_type": "code",
      "metadata": {
        "id": "Mpc3lvJLUaVW",
        "colab_type": "code",
        "outputId": "187d61c6-e83e-493a-d998-510104268d0b",
        "colab": {
          "base_uri": "https://localhost:8080/",
          "height": 1000
        }
      },
      "source": [
        "model = get_bigru()\n",
        "perform_experiment(model, 'bigru', patience=1)"
      ],
      "execution_count": 0,
      "outputs": [
        {
          "output_type": "stream",
          "text": [
            "Model: \"sequential_3\"\n",
            "_________________________________________________________________\n",
            "Layer (type)                 Output Shape              Param #   \n",
            "=================================================================\n",
            "embedding_8 (Embedding)      (None, 300, 300)          12132000  \n",
            "_________________________________________________________________\n",
            "bidirectional_1 (Bidirection (None, 256)               329472    \n",
            "_________________________________________________________________\n",
            "dense_20 (Dense)             (None, 128)               32896     \n",
            "_________________________________________________________________\n",
            "dropout_8 (Dropout)          (None, 128)               0         \n",
            "_________________________________________________________________\n",
            "dense_21 (Dense)             (None, 20)                2580      \n",
            "=================================================================\n",
            "Total params: 12,496,948\n",
            "Trainable params: 12,496,948\n",
            "Non-trainable params: 0\n",
            "_________________________________________________________________\n",
            "None\n",
            "START TRAINING\n",
            "Train on 16112 samples, validate on 849 samples\n",
            "Epoch 1/50\n",
            "16112/16112 [==============================] - 74s 5ms/step - loss: 2.9128 - categorical_accuracy: 0.1690 - val_loss: 2.0763 - val_categorical_accuracy: 0.3557\n",
            "Epoch 2/50\n",
            "16112/16112 [==============================] - 75s 5ms/step - loss: 1.5054 - categorical_accuracy: 0.5727 - val_loss: 1.1149 - val_categorical_accuracy: 0.7291\n",
            "\n",
            "Epoch 00002: val_categorical_accuracy improved from -inf to 0.72909, saving model to 02_0.73.h5\n",
            "Epoch 3/50\n",
            "16112/16112 [==============================] - 74s 5ms/step - loss: 0.9219 - categorical_accuracy: 0.7898 - val_loss: 0.9386 - val_categorical_accuracy: 0.7974\n",
            "Epoch 4/50\n",
            "16112/16112 [==============================] - 74s 5ms/step - loss: 0.7773 - categorical_accuracy: 0.8377 - val_loss: 1.0955 - val_categorical_accuracy: 0.7727\n",
            "\n",
            "Epoch 00004: val_categorical_accuracy improved from 0.72909 to 0.77267, saving model to 04_0.77.h5\n",
            "Epoch 00004: early stopping\n",
            "Training fininshed\n",
            "Average Time per epoch:  75.65734815597534\n"
          ],
          "name": "stdout"
        },
        {
          "output_type": "display_data",
          "data": {
            "image/png": "[encoded data removed]",
            "text/plain": [
              "<Figure size 432x288 with 1 Axes>"
            ]
          },
          "metadata": {
            "tags": [],
            "needs_background": "light"
          }
        },
        {
          "output_type": "display_data",
          "data": {
            "image/png": "[encoded data removed]",
            "text/plain": [
              "<Figure size 432x288 with 1 Axes>"
            ]
          },
          "metadata": {
            "tags": [],
            "needs_background": "light"
          }
        },
        {
          "output_type": "stream",
          "text": [
            "Evaluating...\n",
            "1885/1885 [==============================] - 4s 2ms/step\n",
            "\n",
            " Model Accuracy :  0.7787798643112183\n",
            "\n",
            " Confusion Matrix: \n",
            " [[64  1  0  0  0  0  0  0  0  0  0  0  0  1  2  3  0  0  1 13]\n",
            " [ 0 68  7  7  3  3  1  1  0  1  0  0  2  0  0  0  0  0  0  0]\n",
            " [ 0  6 81 11  0  0  2  0  0  0  0  0  0  0  0  0  0  0  0  0]\n",
            " [ 0  6  6 64  5  0  4  0  0  0  0  0  3  0  0  0  0  0  0  0]\n",
            " [ 0  3  0 12 73  0  4  0  0  0  0  0  1  0  0  0  0  0  0  0]\n",
            " [ 0 10  7  0  0 76  1  0  0  0  0  0  0  0  1  1  0  0  0  0]\n",
            " [ 0  1  2  6  3  0 80  2  2  0  0  1  4  1  0  0  0  0  0  0]\n",
            " [ 0  1  0  0  0  0  1 80 12  0  0  1 15  0  0  1  3  0  0  0]\n",
            " [ 0  1  0  1  0  0  5  2 94  0  0  0  2  0  0  0  1  0  0  1]\n",
            " [ 0  6  2  0  2  2  2  1  0 71  2  0  0  0  2  0  0  0  0  0]\n",
            " [ 0  0  0  0  1  0  2  0  0  1 99  0  0  0  0  0  1  0  0  0]\n",
            " [ 0  0  2  0  0  1  0  0  0  0  0 84  0  0  0  0  2  0  1  0]\n",
            " [ 0 10  0  6 10  0  3  2  5  0  0  1 59  1  0  0  0  0  0  0]\n",
            " [ 0  5  0  0  5  0  1  1  1  1  0  0 11 67  2  0  0  0  0  1]\n",
            " [ 0 14  0  0  0  4  1  0  0  0  1  0  2  0 74  0  0  0  0  0]\n",
            " [ 1  1  0  0  1  0  0  0  0  0  0  0  0  0  0 83  0  0  1  9]\n",
            " [ 0  0  0  0  1  1  1  0  1  2  0  4  0  0  0  0 67  0  7  2]\n",
            " [ 3  1  0  0  0  0  0  1  0  0  1  0  1  0  2  1  0 95  3  1]\n",
            " [ 1  0  0  0  2  1  0  0  0  1  1  0  2  1  0  0 11  2 51  5]\n",
            " [ 6  0  0  0  0  0  0  1  0  0  0  3  1  0  0  8  7  0  2 38]]\n",
            "\n",
            "Classification Report\n",
            "                precision    recall  f1-score   support\n",
            "\n",
            "           0       0.85      0.75      0.80        85\n",
            "           1       0.51      0.73      0.60        93\n",
            "           2       0.76      0.81      0.78       100\n",
            "           3       0.60      0.73      0.66        88\n",
            "           4       0.69      0.78      0.73        93\n",
            "           5       0.86      0.79      0.83        96\n",
            "           6       0.74      0.78      0.76       102\n",
            "           7       0.88      0.70      0.78       114\n",
            "           8       0.82      0.88      0.85       107\n",
            "           9       0.92      0.79      0.85        90\n",
            "          10       0.95      0.95      0.95       104\n",
            "          11       0.89      0.93      0.91        90\n",
            "          12       0.57      0.61      0.59        97\n",
            "          13       0.94      0.71      0.81        95\n",
            "          14       0.89      0.77      0.83        96\n",
            "          15       0.86      0.86      0.86        96\n",
            "          16       0.73      0.78      0.75        86\n",
            "          17       0.98      0.87      0.92       109\n",
            "          18       0.77      0.65      0.71        78\n",
            "          19       0.54      0.58      0.56        66\n",
            "\n",
            "    accuracy                           0.78      1885\n",
            "   macro avg       0.79      0.77      0.78      1885\n",
            "weighted avg       0.80      0.78      0.78      1885\n",
            "\n"
          ],
          "name": "stdout"
        }
      ]
    },
    {
      "cell_type": "markdown",
      "metadata": {
        "id": "bIhzHj3mdKWE",
        "colab_type": "text"
      },
      "source": [
        "# Prediction"
      ]
    },
    {
      "cell_type": "code",
      "metadata": {
        "id": "4ab-wf9BdQtF",
        "colab_type": "code",
        "colab": {
          "base_uri": "https://localhost:8080/",
          "height": 874
        },
        "outputId": "1e7c2c99-2740-4faf-c6bd-0b67dc0b7cb1"
      },
      "source": [
        "import pandas as pd\n",
        "\n",
        "\n",
        "index_label_dict = {0:'alt.atheism',1:'comp.graphics',2:'comp.os.ms-windows.misc',3:'comp.sys.ibm.pc.hardware',4:'comp.sys.mac.hardware',5:'comp.windows.x'\n",
        ",6:'misc.forsale',7:'rec.autos',8:'rec.motorcycles',9:'rec.sport.baseball',10:'rec.sport.hockey',11:'sci.crypt',12:'sci.electronics'\n",
        ",13:'sci.med',14:'sci.space',15:'soc.religion.christian',16:'talk.politics.guns',17:'talk.politics.mideast',18:'talk.politics.misc'\n",
        ",19:'talk.religion.misc'}\n",
        "\n",
        "y_pred = model.predict(test_tokenized_seq, batch_size=batch_size)\n",
        "rows = []\n",
        "for i,pred in enumerate(y_pred):\n",
        "  pred_label = index_label_dict[pred.argmax()]\n",
        "  true_label = index_label_dict[test_labels[i].argmax()]\n",
        "  rows.append([true_label, pred_label, str(true_label==pred_label),test_texts[i][:100]])\n",
        "\n",
        "df = pd.DataFrame(rows, columns=['True Label', 'Predicted Label', 'True/False', 'Text'])\n",
        "pd.set_option('display.max_colwidth', 20)\n",
        "df.to_csv('test_results.csv')\n",
        "print(df[:50])\n",
        "\n"
      ],
      "execution_count": 11,
      "outputs": [
        {
          "output_type": "stream",
          "text": [
            "             True Label      Predicted Label True/False                 Text\n",
            "0    rec.sport.baseball   rec.sport.baseball       True  From: rickert@Ne...\n",
            "1   talk.politics.mi...  talk.politics.mi...       True  From: pgf5@cunix...\n",
            "2   talk.politics.mi...  talk.politics.mi...       True  From: jake@bony1...\n",
            "3    talk.politics.misc          alt.atheism      False  From: kebarnes@m...\n",
            "4   talk.politics.mi...  talk.politics.mi...       True  From: ab4z@Virgi...\n",
            "5             rec.autos            rec.autos       True  From: rjwade@rai...\n",
            "6    talk.religion.misc   talk.religion.misc       True  From: kring@efes...\n",
            "7   comp.sys.mac.har...  comp.sys.mac.har...       True  From: jaker@csug...\n",
            "8        comp.windows.x       comp.windows.x       True  From: pjaques@ca...\n",
            "9   comp.sys.mac.har...  comp.sys.mac.har...       True  From: markp@ccu1...\n",
            "10        comp.graphics        comp.graphics       True  From: full_gl@pt...\n",
            "11       comp.windows.x       comp.windows.x       True  From: steve@ecf....\n",
            "12              sci.med              sci.med       True  From: kmldorf@ut...\n",
            "13  comp.sys.mac.har...  comp.sys.mac.har...       True  From: afung@athe...\n",
            "14       comp.windows.x       comp.windows.x       True  From: bill@west....\n",
            "15  talk.politics.mi...  talk.politics.mi...       True  From: jake@bony1...\n",
            "16            sci.crypt        comp.graphics      False  From: grady@netc...\n",
            "17            rec.autos            rec.autos       True  From: rmt6r@fara...\n",
            "18   talk.politics.misc   talk.politics.misc       True  From: rick@sjsum...\n",
            "19          alt.atheism          alt.atheism       True  From: bcash@crch...\n",
            "20            sci.crypt            sci.crypt       True  From: ifarqhar@l...\n",
            "21            sci.space            sci.space       True  From: apryan@vax...\n",
            "22   talk.politics.guns   talk.politics.guns       True  From: gardner@co...\n",
            "23              sci.med              sci.med       True  Subject: Broken ...\n",
            "24  talk.politics.mi...  talk.politics.mi...       True  From: perlman@qs...\n",
            "25   talk.politics.guns   talk.politics.guns       True  From: dfo@vttoul...\n",
            "26   talk.politics.guns   talk.politics.guns       True  From: tzs@stein2...\n",
            "27      rec.motorcycles      rec.motorcycles       True  From: azw@aber.a...\n",
            "28  soc.religion.chr...  comp.sys.mac.har...      False  From: mdw33310@u...\n",
            "29   talk.politics.guns   talk.politics.guns       True  From: garry@alic...\n",
            "30   rec.sport.baseball   rec.sport.baseball       True  From: loos@cup.h...\n",
            "31   rec.sport.baseball   rec.sport.baseball       True  From: acsddc@smu...\n",
            "32     rec.sport.hockey     rec.sport.hockey       True  From: jwodzia@fa...\n",
            "33  comp.sys.mac.har...  comp.sys.mac.har...       True  From: gweil@ibea...\n",
            "34      sci.electronics      sci.electronics       True  From: rdell@cbne...\n",
            "35  comp.os.ms-windo...  comp.os.ms-windo...       True  From: bkv@donald...\n",
            "36  comp.sys.mac.har...  comp.sys.ibm.pc....      False  From: ah301@yfn....\n",
            "37            rec.autos            rec.autos       True  From: srihari@ci...\n",
            "38      rec.motorcycles      rec.motorcycles       True  From: egreen@eas...\n",
            "39            sci.crypt            sci.crypt       True  From: marc@tanda...\n",
            "40         misc.forsale         misc.forsale       True  From: Kam-Chung ...\n",
            "41  comp.os.ms-windo...  comp.os.ms-windo...       True  From: ntaib@silv...\n",
            "42        comp.graphics  comp.os.ms-windo...      False  From: john@gosha...\n",
            "43  comp.os.ms-windo...  comp.os.ms-windo...       True  From: jonni@rhi....\n",
            "44     rec.sport.hockey     rec.sport.hockey       True  From: maynard@ra...\n",
            "45   talk.politics.guns   talk.religion.misc      False  From: rcanders@n...\n",
            "46      rec.motorcycles      rec.motorcycles       True  From: rogerc@mid...\n",
            "47  comp.sys.ibm.pc....  comp.sys.ibm.pc....       True  From: gryphon@op...\n",
            "48   rec.sport.baseball   rec.sport.baseball       True  Organization: Un...\n",
            "49  soc.religion.chr...  soc.religion.chr...       True  From: nichael@bb...\n"
          ],
          "name": "stdout"
        }
      ]
    },
    {
      "cell_type": "code",
      "metadata": {
        "id": "FWxE8qMGq9u2",
        "colab_type": "code",
        "colab": {}
      },
      "source": [
        ""
      ],
      "execution_count": 0,
      "outputs": []
    }
  ]
}