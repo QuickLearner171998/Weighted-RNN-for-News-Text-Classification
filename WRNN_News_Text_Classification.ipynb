{
  "nbformat": 4,
  "nbformat_minor": 0,
  "metadata": {
    "colab": {
      "name": "WRNN-News_Text_Classification.ipynb",
      "provenance": [],
      "collapsed_sections": [],
      "include_colab_link": true
    },
    "kernelspec": {
      "name": "python3",
      "display_name": "Python 3"
    },
    "accelerator": "GPU"
  },
  "cells": [
    {
      "cell_type": "markdown",
      "metadata": {
        "id": "view-in-github",
        "colab_type": "text"
      },
      "source": [
        "<a href=\"https://colab.research.google.com/github/QuickLearner171998/Weighted-RNN-for-News-Text-Classification/blob/master/WRNN_News_Text_Classification.ipynb\" target=\"_parent\"><img src=\"https://colab.research.google.com/assets/colab-badge.svg\" alt=\"Open In Colab\"/></a>"
      ]
    },
    {
      "cell_type": "code",
      "metadata": {
        "id": "_F5vE8urN7n9",
        "colab_type": "code",
        "outputId": "087b436d-d356-404d-c7d5-8a209d044229",
        "colab": {
          "base_uri": "https://localhost:8080/",
          "height": 34
        }
      },
      "source": [
        "from google.colab import drive\n",
        "drive.mount('/content/drive/', force_remount=True)"
      ],
      "execution_count": 1,
      "outputs": [
        {
          "output_type": "stream",
          "text": [
            "Mounted at /content/drive/\n"
          ],
          "name": "stdout"
        }
      ]
    },
    {
      "cell_type": "code",
      "metadata": {
        "id": "0CmxHdbUDQpU",
        "colab_type": "code",
        "colab": {
          "base_uri": "https://localhost:8080/",
          "height": 34
        },
        "outputId": "0544f31d-ad7c-400a-c33f-6fef32b70cb0"
      },
      "source": [
        "% cd \"/content/drive/My Drive/nnfl_project/\""
      ],
      "execution_count": 2,
      "outputs": [
        {
          "output_type": "stream",
          "text": [
            "/content/drive/My Drive/nnfl_project\n"
          ],
          "name": "stdout"
        }
      ]
    },
    {
      "cell_type": "markdown",
      "metadata": {
        "id": "0V6VsSotwNhy",
        "colab_type": "text"
      },
      "source": [
        "# Imports\n"
      ]
    },
    {
      "cell_type": "code",
      "metadata": {
        "id": "c8zYf1TVwM5J",
        "colab_type": "code",
        "outputId": "8ca82d13-5247-4ba0-a630-0a8746b77348",
        "colab": {
          "base_uri": "https://localhost:8080/",
          "height": 52
        }
      },
      "source": [
        "%tensorflow_version 1.x\n",
        "from sklearn.datasets import fetch_20newsgroups\n",
        "from keras.utils import to_categorical\n",
        "import os\n",
        "import glob\n",
        "import numpy as np\n",
        "import pickle\n",
        "from tqdm import tqdm\n",
        "from keras.layers import Activation, Dense, Embedding, Flatten, LSTM, Input, Reshape, Conv1D,Permute,GlobalMaxPooling1D\n",
        "from keras.models import Sequential\n",
        "from keras.regularizers import l1_l2\n",
        "from keras.callbacks import ModelCheckpoint, EarlyStopping\n",
        "from keras.preprocessing.text import Tokenizer\n",
        "from keras.preprocessing.sequence import pad_sequences\n",
        "from keras.metrics import categorical_accuracy\n",
        "from keras.models import load_model, Model\n",
        "from keras.optimizers import Adam\n",
        "from keras.utils.vis_utils import plot_model\n",
        "\n",
        "PATH = '/content/drive/My Drive/nnfl_project/'\n",
        "DATA_PATH = '/content/drive/My Drive/nnfl_project/data'\n",
        "GLOVE_PATH = '/content/drive/My Drive/glove.840B.300d.txt'"
      ],
      "execution_count": 3,
      "outputs": [
        {
          "output_type": "stream",
          "text": [
            "TensorFlow 1.x selected.\n"
          ],
          "name": "stdout"
        },
        {
          "output_type": "stream",
          "text": [
            "Using TensorFlow backend.\n"
          ],
          "name": "stderr"
        }
      ]
    },
    {
      "cell_type": "code",
      "metadata": {
        "id": "o8x0nRb9BJUx",
        "colab_type": "code",
        "colab": {}
      },
      "source": [
        "def clean_data(docs):\n",
        "  pass\n",
        "\n",
        "def text_length_selection(docs, theta = 0.85):\n",
        "  \"\"\" \n",
        "  Input-\n",
        "    doc : newsgroups_train.data - list of strings \n",
        "    theta - threshold - 0.85(as in the paper)\n",
        "  Output-\n",
        "    sl\n",
        "  \"\"\"\n",
        "  # list having number of words in each document.\n",
        "  DL = [len(docs[i].split()) for i in range(len(docs))]\n",
        "  DNum =len(DL)\n",
        "  sort_DL = sorted(DL)\n",
        "  for SL in set(sort_DL):\n",
        "    thresh = sort_DL.index(SL)/DNum\n",
        "    if(thresh>=theta):\n",
        "      return SL\n",
        "\n",
        "def tokenize_sequences(texts, sl):\n",
        "\n",
        "  tokenizer = Tokenizer(oov_token='<UNK>')\n",
        "  tokenizer.fit_on_texts(texts)\n",
        "\n",
        "  sequences = tokenizer.texts_to_sequences(texts)\n",
        "  sequences = pad_sequences(sequences, maxlen=sl)\n",
        "\n",
        "  return tokenizer, sequences\n",
        "\n",
        "def get_data(data_path):\n",
        "  newsgroups_data = fetch_20newsgroups(data_path, subset='all')\n",
        "  labels = newsgroups_data.target\n",
        "  texts = newsgroups_data.data\n",
        "  return labels, texts\n",
        "\n",
        "def get_epoch_frm_model_file(save_path):\n",
        "  return int(save_path[:save_path.index('_')])\n",
        "  # return int(save_path.split('_')[2])\n",
        "\n",
        "def return_last_saved_model(paths):\n",
        "  last_epoch_prev = -1\n",
        "  ret_path = \"\"\n",
        "  for path in paths:\n",
        "    last_epoch = get_epoch_frm_model_file(path)\n",
        "    if(last_epoch >= last_epoch_prev):\n",
        "      last_epoch_prev = last_epoch\n",
        "      ret_path = path\n",
        "  return ret_path\n"
      ],
      "execution_count": 0,
      "outputs": []
    },
    {
      "cell_type": "code",
      "metadata": {
        "id": "HMOXVhdlpBUQ",
        "colab_type": "code",
        "colab": {}
      },
      "source": [
        "def get_embedding_matrix(tokenizer, path, embedding_dim):\n",
        "    \"\"\"\n",
        "    :param path: path to the glove embeddings file\n",
        "    :param tokenizer: tokenizer fitted on the documents\n",
        "    :param vocab_size: vocabulary size \n",
        "    :return: an embedding matrix: a nn.Embeddings\n",
        "    \"\"\"\n",
        "    # Load the GloVe vectors into a dictionary, keeping only words in vocab\n",
        "    # embedding_dim = 300\n",
        "    # glove_path = \"/content/drive/My Drive/glove.840B.300d.txt\"\n",
        "    glove_path = path\n",
        "    glove_vectors = {}\n",
        "    glove_file = open(glove_path, 'r')\n",
        "    for line in tqdm(glove_file):\n",
        "        split_line = line.rstrip().split()\n",
        "        word = split_line[0]\n",
        "        if len(split_line) != (embedding_dim + 1) or word not in tokenizer.word_index:\n",
        "            continue\n",
        "        assert (len(split_line) == embedding_dim + 1)\n",
        "        vector = np.array([float(x) for x in split_line[1:]], dtype=\"float32\")\n",
        "        assert len(vector) == embedding_dim\n",
        "        glove_vectors[word] = vector\n",
        "\n",
        "    glove_file.close()\n",
        "\n",
        "    print(\"Number of pre-trained word vectors loaded: \", len(glove_vectors))\n",
        "\n",
        "    # Calculate mean and stdev of embeddings\n",
        "    all_embeddings = np.array(list(glove_vectors.values()))\n",
        "    embeddings_mean = float(np.mean(all_embeddings))\n",
        "    embeddings_stdev = float(np.std(all_embeddings))\n",
        "\n",
        "    vocab_size = len(tokenizer.word_index)\n",
        "    # Randomly initialize an embedding matrix of (vocab_size, embedding_dim) shape\n",
        "    # with a similar distribution as the pretrained embeddings for words in vocab.\n",
        "    embedding_matrix = np.random.normal(embeddings_mean, embeddings_stdev, (vocab_size, embedding_dim))\n",
        "\n",
        "    for i, word in enumerate(tokenizer.word_index):\n",
        "        if word in glove_vectors:\n",
        "            embedding_matrix[i] = glove_vectors[word]\n",
        "\n",
        "    return embedding_matrix"
      ],
      "execution_count": 0,
      "outputs": []
    },
    {
      "cell_type": "code",
      "metadata": {
        "id": "-zXGi21mt7Sj",
        "colab_type": "code",
        "colab": {}
      },
      "source": [
        "# in paper\n",
        "embed_dim = 300 \n",
        "hidden_dim  = 128\n",
        "batch_size  = 128\n",
        "epochs = 100\n",
        "init_epoch = 0\n",
        "sl = 300\n"
      ],
      "execution_count": 0,
      "outputs": []
    },
    {
      "cell_type": "code",
      "metadata": {
        "id": "as34xea2_7YH",
        "colab_type": "code",
        "colab": {}
      },
      "source": [
        "\n",
        "save_embedding_matrix_path = PATH + 'embedding_matrix.pkl'\n",
        "\n",
        "labels, texts = get_data(DATA_PATH)\n",
        "tokenizer, tokenized_seq = tokenize_sequences(texts, sl)\n",
        "vocab_size = len(tokenizer.word_index)"
      ],
      "execution_count": 0,
      "outputs": []
    },
    {
      "cell_type": "code",
      "metadata": {
        "id": "grGp8eLoj1IK",
        "colab_type": "code",
        "outputId": "61eee811-8038-4eb7-c268-69c758a28132",
        "colab": {
          "base_uri": "https://localhost:8080/",
          "height": 52
        }
      },
      "source": [
        "if(glob.glob(save_embedding_matrix_path)):\n",
        "  print('Embedding matrix found. Loading ...')\n",
        "  with open(save_embedding_matrix_path, 'rb') as f:\n",
        "    embedding_matrix = pickle.load(f)\n",
        "\n",
        "  print('Done.')\n",
        "\n",
        "else:\n",
        "  embedding_matrix = get_embedding_matrix(tokenizer, GLOVE_PATH, embed_dim)\n",
        "  with open(save_embedding_matrix_path, 'wb+') as f:\n",
        "    pickle.dump(embedding_matrix, f)\n"
      ],
      "execution_count": 8,
      "outputs": [
        {
          "output_type": "stream",
          "text": [
            "Embedding matrix found. Loading ...\n",
            "Done.\n"
          ],
          "name": "stdout"
        }
      ]
    },
    {
      "cell_type": "code",
      "metadata": {
        "id": "7Vp-99TfO3TO",
        "colab_type": "code",
        "colab": {}
      },
      "source": [
        "# convert labels to one hot\n",
        "labels = to_categorical(np.asarray(labels))\n",
        "output_dim = labels.shape[1]"
      ],
      "execution_count": 0,
      "outputs": []
    },
    {
      "cell_type": "code",
      "metadata": {
        "id": "fKJRdWgJt8MM",
        "colab_type": "code",
        "outputId": "aae1181c-35bc-4b43-bdb8-7f467e184b59",
        "colab": {
          "base_uri": "https://localhost:8080/",
          "height": 70
        }
      },
      "source": [
        "print(tokenized_seq.shape)\n",
        "print(labels.shape)\n",
        "vocab_size"
      ],
      "execution_count": 10,
      "outputs": [
        {
          "output_type": "stream",
          "text": [
            "(18846, 300)\n",
            "(18846, 20)\n"
          ],
          "name": "stdout"
        },
        {
          "output_type": "execute_result",
          "data": {
            "text/plain": [
              "179210"
            ]
          },
          "metadata": {
            "tags": []
          },
          "execution_count": 10
        }
      ]
    },
    {
      "cell_type": "code",
      "metadata": {
        "id": "KP9vvafJUfRp",
        "colab_type": "code",
        "colab": {}
      },
      "source": [
        "# # model1_conv1d\n",
        "# inp = Input(shape= (sl,))\n",
        "# embed = Embedding(input_dim=vocab_size, output_dim=embed_dim, weights= [embedding_matrix], input_length=sl, trainable = True )(inp)\n",
        "# lstm = LSTM(hidden_dim,return_sequences=True,recurrent_dropout=0.2,dropout=0.2)(embed) # o/p 300x128\n",
        "# # f1 = Flatten()(lstm)\n",
        "# # r2 = Reshape((hidden_dim,embed_dim))(f1)\n",
        "# pm = Permute((2,1))(lstm) # interchange dimension --> flatten+reshape\n",
        "# conv1d = Conv1D(1, 1, activation='relu' )(pm)\n",
        "# f = Flatten()(conv1d)\n",
        "# d = Dense(hidden_dim,activation='relu')(f)\n",
        "# out = Dense(output_dim, activation='softmax', activity_regularizer=l1_l2(0.01,0.01))(d)\n",
        "# model = Model(input = inp, outputs = out)\n",
        "# model.summary()"
      ],
      "execution_count": 0,
      "outputs": []
    },
    {
      "cell_type": "code",
      "metadata": {
        "id": "zHchBchHUrIr",
        "colab_type": "code",
        "colab": {
          "base_uri": "https://localhost:8080/",
          "height": 522
        },
        "outputId": "41c2a012-2351-49a7-b82e-e8b65b1fbf2f"
      },
      "source": [
        "# better\n",
        "\n",
        "\n",
        "inp = Input(shape= (sl,))\n",
        "embed = Embedding(input_dim=vocab_size, output_dim=embed_dim, weights= [embedding_matrix], input_length=sl, trainable = True )(inp)\n",
        "# embed = Embedding(input_dim=vocab_size, output_dim=embed_dim, input_length=sl )(inp)\n",
        "lstm = LSTM(hidden_dim,return_sequences=True,recurrent_dropout=0.2,dropout=0.2)(embed) # o/p 300x128\n",
        "# Note o/p of a rnn cel or lstm cell gives prob of each word - (300,)\n",
        "#  -- reshape needed\n",
        "f1 = Flatten()(lstm)\n",
        "r2 = Reshape((hidden_dim,sl))(f1)\n",
        "conv1d = Conv1D(128,1, activation='relu' )(r2)\n",
        "gp = GlobalMaxPooling1D()(conv1d)\n",
        "# dense = Dense(1,activation='relu')(conv1d)\n",
        "# f = Flatten()(gp)\n",
        "d = Dense(hidden_dim,activation='relu')(gp)\n",
        "out = Dense(output_dim, activation='softmax', activity_regularizer=l1_l2(0.01,0.01))(d)\n",
        "model = Model(input = inp, outputs = out)\n",
        "model.summary()\n"
      ],
      "execution_count": 14,
      "outputs": [
        {
          "output_type": "stream",
          "text": [
            "Model: \"model_2\"\n",
            "_________________________________________________________________\n",
            "Layer (type)                 Output Shape              Param #   \n",
            "=================================================================\n",
            "input_2 (InputLayer)         (None, 300)               0         \n",
            "_________________________________________________________________\n",
            "embedding_2 (Embedding)      (None, 300, 300)          53763000  \n",
            "_________________________________________________________________\n",
            "lstm_2 (LSTM)                (None, 300, 128)          219648    \n",
            "_________________________________________________________________\n",
            "flatten_1 (Flatten)          (None, 38400)             0         \n",
            "_________________________________________________________________\n",
            "reshape_1 (Reshape)          (None, 128, 300)          0         \n",
            "_________________________________________________________________\n",
            "conv1d_2 (Conv1D)            (None, 128, 128)          38528     \n",
            "_________________________________________________________________\n",
            "global_max_pooling1d_2 (Glob (None, 128)               0         \n",
            "_________________________________________________________________\n",
            "dense_3 (Dense)              (None, 128)               16512     \n",
            "_________________________________________________________________\n",
            "dense_4 (Dense)              (None, 20)                2580      \n",
            "=================================================================\n",
            "Total params: 54,040,268\n",
            "Trainable params: 54,040,268\n",
            "Non-trainable params: 0\n",
            "_________________________________________________________________\n"
          ],
          "name": "stdout"
        },
        {
          "output_type": "stream",
          "text": [
            "/usr/local/lib/python3.6/dist-packages/ipykernel_launcher.py:17: UserWarning: Update your `Model` call to the Keras 2 API: `Model(outputs=Tensor(\"de..., inputs=Tensor(\"in...)`\n"
          ],
          "name": "stderr"
        }
      ]
    },
    {
      "cell_type": "code",
      "metadata": {
        "id": "ZFiKp7Drzt6G",
        "colab_type": "code",
        "outputId": "7ab3ce97-32a0-4f30-a60c-7b0b41c860df",
        "colab": {
          "base_uri": "https://localhost:8080/",
          "height": 412
        }
      },
      "source": [
        "model.compile(loss='categorical_crossentropy', optimizer=Adam(lr=0.01),metrics=['categorical_accuracy'])\n",
        "\n",
        "\n",
        "# check if a saved_model exists\n",
        "if(glob.glob('*.hdf5')):\n",
        "  print(\"loading model\")\n",
        "  load_path = return_last_saved_model(glob.glob('*.hdf5'))\n",
        "  # model=load_model(load_path)\n",
        "  model.load_weights(load_path)\n",
        "  init_epoch = get_epoch_frm_model_file(load_path)\n",
        "\n",
        "chk_pth = \"{epoch:02d}_.hdf5\"\n",
        "\n",
        "# early stopping\n",
        "earlyStop = EarlyStopping(monitor='val_categorical_accuracy', mode='auto', verbose=1,patience=5)\n",
        "checkpoint = ModelCheckpoint(chk_pth,monitor='val_categorical_accuracy', verbose=1, save_weights_only=True, save_best_only='False',mode = 'auto', period=2)\n",
        "\n",
        "print(\"START TRAINING\")\n",
        "\n",
        "history = model.fit(tokenized_seq,labels,epochs=init_epoch+epochs, batch_size=batch_size, validation_split=0.1,shuffle = True, callbacks=[checkpoint,earlyStop], initial_epoch=init_epoch)\n",
        "print(\"Training fininshed....Saving Model\")\n",
        "save_path = \"{}_epochs-model_weights.hdf5\".format(init_epoch+epochs)\n",
        "# model.save_weights(save_path)\n",
        "\n"
      ],
      "execution_count": 0,
      "outputs": [
        {
          "output_type": "stream",
          "text": [
            "START TRAINING\n",
            "Train on 16961 samples, validate on 1885 samples\n",
            "Epoch 1/100\n",
            "16961/16961 [==============================] - 76s 4ms/step - loss: 4.1170 - categorical_accuracy: 0.1163 - val_loss: 3.6289 - val_categorical_accuracy: 0.2419\n",
            "Epoch 2/100\n",
            "16961/16961 [==============================] - 74s 4ms/step - loss: 3.1842 - categorical_accuracy: 0.4729 - val_loss: 2.9274 - val_categorical_accuracy: 0.6292\n",
            "\n",
            "Epoch 00002: val_categorical_accuracy improved from -inf to 0.62918, saving model to 02_.hdf5\n",
            "Epoch 3/100\n",
            "16961/16961 [==============================] - 76s 4ms/step - loss: 2.6369 - categorical_accuracy: 0.7725 - val_loss: 2.7300 - val_categorical_accuracy: 0.7475\n",
            "Epoch 4/100\n",
            "16961/16961 [==============================] - 74s 4ms/step - loss: 2.4405 - categorical_accuracy: 0.9111 - val_loss: 2.6891 - val_categorical_accuracy: 0.7867\n",
            "\n",
            "Epoch 00004: val_categorical_accuracy improved from 0.62918 to 0.78674, saving model to 04_.hdf5\n",
            "Epoch 5/100\n",
            "16961/16961 [==============================] - 75s 4ms/step - loss: 2.3633 - categorical_accuracy: 0.9671 - val_loss: 2.6693 - val_categorical_accuracy: 0.7942\n",
            "Epoch 6/100\n",
            "16961/16961 [==============================] - 74s 4ms/step - loss: 2.3312 - categorical_accuracy: 0.9864 - val_loss: 2.6683 - val_categorical_accuracy: 0.7979\n",
            "\n",
            "Epoch 00006: val_categorical_accuracy improved from 0.78674 to 0.79788, saving model to 06_.hdf5\n",
            "Epoch 7/100\n",
            "13056/16961 [======================>.......] - ETA: 16s - loss: 2.3170 - categorical_accuracy: 0.9942"
          ],
          "name": "stdout"
        }
      ]
    },
    {
      "cell_type": "code",
      "metadata": {
        "id": "MWOLU1mYnV29",
        "colab_type": "code",
        "colab": {}
      },
      "source": [
        "# plot acc\n",
        "import matplotlib.pyplot as plt\n",
        "plt.plot(history.history[\"categorical_accuracy\"])\n",
        "plt.plot(history.history[\"val_categorical_accuracy\"])\n",
        "plt.title('model acc')\n",
        "plt.ylabel('accuracy')\n",
        "plt.xlabel('epoch')\n",
        "plt.legend(['train', 'val'], loc='upper left')\n",
        "plt.show()\n"
      ],
      "execution_count": 0,
      "outputs": []
    },
    {
      "cell_type": "code",
      "metadata": {
        "id": "INwST7tLHuoX",
        "colab_type": "code",
        "colab": {}
      },
      "source": [
        "# plot loss\n",
        "import matplotlib.pyplot as plt\n",
        "plt.plot(history.history[\"loss\"])\n",
        "plt.plot(history.history[\"val_loss\"])\n",
        "plt.title('model loss')\n",
        "plt.ylabel('loss')\n",
        "plt.xlabel('epochs')\n",
        "plt.legend(['train', 'val'], loc='upper left')\n",
        "plt.show()\n"
      ],
      "execution_count": 0,
      "outputs": []
    },
    {
      "cell_type": "code",
      "metadata": {
        "id": "R-AaMZxUOWY5",
        "colab_type": "code",
        "colab": {}
      },
      "source": [
        "# save model ploy\n",
        "plot_model(model,to_file='model2_conv1d.png',show_shapes=True)"
      ],
      "execution_count": 0,
      "outputs": []
    },
    {
      "cell_type": "code",
      "metadata": {
        "id": "CJJ7y3SXSx0I",
        "colab_type": "code",
        "colab": {}
      },
      "source": [
        ""
      ],
      "execution_count": 0,
      "outputs": []
    }
  ]
}