{
  "nbformat": 4,
  "nbformat_minor": 0,
  "metadata": {
    "colab": {
      "name": "WRNN-News_Text_Classification.ipynb",
      "provenance": [],
      "collapsed_sections": [],
      "toc_visible": true
    },
    "kernelspec": {
      "name": "python3",
      "display_name": "Python 3"
    },
    "accelerator": "GPU"
  },
  "cells": [
    {
      "cell_type": "code",
      "metadata": {
        "id": "_F5vE8urN7n9",
        "colab_type": "code",
        "outputId": "bf4bd9d7-e432-479c-a9ad-6663d0e7959d",
        "colab": {
          "base_uri": "https://localhost:8080/",
          "height": 122
        }
      },
      "source": [
        "from google.colab import drive\n",
        "drive.mount('/content/drive/', force_remount=True)"
      ],
      "execution_count": 1,
      "outputs": [
        {
          "output_type": "stream",
          "text": [
            "Go to this URL in a browser: https://accounts.google.com/o/oauth2/auth?client_id=947318989803-6bn6qk8qdgf4n4g3pfee6491hc0brc4i.apps.googleusercontent.com&redirect_uri=urn%3aietf%3awg%3aoauth%3a2.0%3aoob&response_type=code&scope=email%20https%3a%2f%2fwww.googleapis.com%2fauth%2fdocs.test%20https%3a%2f%2fwww.googleapis.com%2fauth%2fdrive%20https%3a%2f%2fwww.googleapis.com%2fauth%2fdrive.photos.readonly%20https%3a%2f%2fwww.googleapis.com%2fauth%2fpeopleapi.readonly\n",
            "\n",
            "Enter your authorization code:\n",
            "··········\n",
            "Mounted at /content/drive/\n"
          ],
          "name": "stdout"
        }
      ]
    },
    {
      "cell_type": "code",
      "metadata": {
        "id": "0CmxHdbUDQpU",
        "colab_type": "code",
        "outputId": "038ebf77-7420-4c73-d822-a06107afdd7c",
        "colab": {
          "base_uri": "https://localhost:8080/",
          "height": 34
        }
      },
      "source": [
        "% cd \"/content/drive/My Drive/nnfl_project/\""
      ],
      "execution_count": 2,
      "outputs": [
        {
          "output_type": "stream",
          "text": [
            "/content/drive/My Drive/nnfl_project\n"
          ],
          "name": "stdout"
        }
      ]
    },
    {
      "cell_type": "markdown",
      "metadata": {
        "id": "0V6VsSotwNhy",
        "colab_type": "text"
      },
      "source": [
        "# Imports\n"
      ]
    },
    {
      "cell_type": "code",
      "metadata": {
        "id": "c8zYf1TVwM5J",
        "colab_type": "code",
        "colab": {}
      },
      "source": [
        "%tensorflow_version 1.x\n",
        "from sklearn.metrics import classification_report, confusion_matrix\n",
        "from sklearn.datasets import fetch_20newsgroups\n",
        "from keras.utils import to_categorical\n",
        "import os\n",
        "import glob\n",
        "import numpy as np\n",
        "import pickle\n",
        "import time\n",
        "import matplotlib.pyplot as plt\n",
        "from tqdm import tqdm\n",
        "\n",
        "from keras.layers import *\n",
        "from keras.optimizers import Adam\n",
        "from keras.models import Sequential, Model\n",
        "from keras.regularizers import l1_l2\n",
        "from keras.callbacks import ModelCheckpoint, EarlyStopping, ReduceLROnPlateau\n",
        "from keras.preprocessing.text import Tokenizer\n",
        "from keras.preprocessing.sequence import pad_sequences\n",
        "from keras.metrics import categorical_accuracy\n",
        "from keras.models import load_model\n",
        "from keras import regularizers\n",
        "from keras.utils.vis_utils import plot_model\n",
        "\n",
        "from gensim.models import Word2Vec,KeyedVectors\n",
        "from gensim.test.utils import datapath, get_tmpfile\n",
        "\n",
        "PATH = '/content/drive/My Drive/nnfl_project/'\n",
        "DATA_PATH = '/content/drive/My Drive/nnfl_project/data'\n",
        "GLOVE_PATH = '/content/drive/My Drive/glove.840B.300d.txt'\n",
        "# Change EMBED to 'glove' to use glove embeddings\n",
        "EMBED = 'word2vec'"
      ],
      "execution_count": 0,
      "outputs": []
    },
    {
      "cell_type": "markdown",
      "metadata": {
        "id": "OefAWNV2FNtj",
        "colab_type": "text"
      },
      "source": [
        "# Helper Functions"
      ]
    },
    {
      "cell_type": "code",
      "metadata": {
        "id": "o8x0nRb9BJUx",
        "colab_type": "code",
        "colab": {}
      },
      "source": [
        "def evaluate(model,y_texts, y_labels, batch_size):\n",
        "\n",
        "  loss, acc = model.evaluate(y_texts,y_labels,batch_size=batch_size,verbose=1)\n",
        "  y_pred = model.predict(y_texts, batch_size=batch_size)\n",
        "\n",
        "  y_pred_max_ind = np.argmax(y_pred,axis=1)\n",
        "  y_true_max_ind = np.argmax(y_labels,axis=1)\n",
        "\n",
        "  cf = (classification_report(y_true_max_ind,y_pred_max_ind))\n",
        "  confusion_mat = confusion_matrix(y_true_max_ind, y_pred_max_ind)\n",
        "\n",
        "  print(\"\\n Model Accuracy : \",acc)\n",
        "  print(\"\\n Confusion Matrix: \\n\", confusion_mat)\n",
        "  print(\"\\nClassification Report\\n \",cf)\n",
        "\n",
        "def get_callbacks():\n",
        "\n",
        "  chk_pth = (\"{epoch:02d}_{val_categorical_accuracy:.2f}.h5\")\n",
        "  # early stopping\n",
        "  earlyStop = EarlyStopping(monitor='val_loss', mode='auto', verbose=1, \n",
        "                            patience=2)\n",
        "  checkpoint = ModelCheckpoint(chk_pth,monitor='val_categorical_accuracy', \n",
        "                               verbose=1, save_weights_only=True, \n",
        "                               save_best_only='True',mode = 'auto', period=2)\n",
        "  cb = [checkpoint, earlyStop]\n",
        "  return cb\n",
        "\n",
        "def run_model(model, train_tokenized_seq, train_labels, epochs, batch_size, vsplit, init_epoch=0):\n",
        "\n",
        "  model.compile(loss='categorical_crossentropy', optimizer=Adam(lr=0.01),metrics=['categorical_accuracy'])\n",
        "\n",
        "  # check if a saved_model exists\n",
        "  # if(glob.glob('*.h5')):\n",
        "  #   print(\"loading model\")\n",
        "  #   load_path = return_last_saved_model(glob.glob('*.h5'))\n",
        "  #   # model = load_model(load_path)\n",
        "  #   model.load_weights(load_path)\n",
        "  #   init_epoch = get_epoch_frm_model_file(load_path)\n",
        "\n",
        "  print(\"START TRAINING\")\n",
        "\n",
        "  start = time.time()\n",
        "  history = model.fit(train_tokenized_seq,train_labels,epochs = init_epoch+epochs, batch_size=batch_size, validation_split=vsplit, callbacks=get_callbacks(), initial_epoch=init_epoch)\n",
        "  end =  time.time()\n",
        "  print(\"Training fininshed\")\n",
        "  # save_path = \"{}_epochs-model.h5\".format(init_epoch+epochs)\n",
        "  # model.save(save_path)\n",
        "  print(\"Average Time per epoch: \", (end-start)/len(history.history['loss']))\n",
        "  return history\n",
        "\n",
        "# plot model\n",
        "def training_plots(history, model_name, model):  \n",
        "  plt.plot(history.history[\"categorical_accuracy\"])\n",
        "  plt.plot(history.history[\"val_categorical_accuracy\"])\n",
        "  plt.title('model acc')\n",
        "  plt.ylabel('accuracy')\n",
        "  plt.xlabel('epoch')\n",
        "  plt.legend(['train', 'val'], loc='upper left')\n",
        "  plt.show()\n",
        "\n",
        "  plt.plot(history.history[\"loss\"])\n",
        "  plt.plot(history.history[\"val_loss\"])\n",
        "  plt.title('model loss')\n",
        "  plt.ylabel('loss')\n",
        "  plt.xlabel('epochs')\n",
        "  plt.legend(['train', 'val'], loc='upper left')\n",
        "  plt.show()\n",
        "\n",
        "  plot_model(model,to_file=model_name,show_shapes=True)\n",
        "\n",
        "def tokenize_sequences(texts, sl, tokenizer):\n",
        "  sequences = tokenizer.texts_to_sequences(texts)\n",
        "  sequences = pad_sequences(sequences, maxlen=sl)\n",
        "\n",
        "  return sequences\n",
        "\n",
        "def get_data(data_path):\n",
        "  newsgroups_data = fetch_20newsgroups(data_path, subset='all')\n",
        "  labels = newsgroups_data.target\n",
        "  texts = newsgroups_data.data\n",
        "\n",
        "  from sklearn.model_selection import train_test_split\n",
        "\n",
        "  train_texts, test_texts, train_labels, test_labels = train_test_split(texts, \n",
        "                                                                        labels, \n",
        "                                                                        test_size=0.1, \n",
        "                                                                        random_state=42)\n",
        "\n",
        "  return train_texts, train_labels, test_texts, test_labels\n",
        "\n",
        "def get_epoch_frm_model_file(save_path):\n",
        "  return int(save_path[:save_path.index('_')])\n",
        "\n",
        "def return_last_saved_model(paths):\n",
        "  last_epoch_prev = -1\n",
        "  ret_path = \"\"\n",
        "  for path in paths:\n",
        "    last_epoch = get_epoch_frm_model_file(path)\n",
        "    if(last_epoch >= last_epoch_prev):\n",
        "      last_epoch_prev = last_epoch\n",
        "      ret_path = path\n",
        "  return ret_path\n",
        "\n",
        "def get_embedding_matrix(word2ix, glove_path, embedding_dim):\n",
        "    \"\"\"\n",
        "    :param path: path to the glove embeddings file\n",
        "    :param tokenizer: tokenizer fitted on the documents\n",
        "    :param vocab_size: vocabulary size \n",
        "    :return: an embedding matrix: a nn.Embeddings\n",
        "    \"\"\"\n",
        "    glove_vectors = {}\n",
        "    glove_file = open(glove_path, 'r')\n",
        "    for line in tqdm(glove_file):\n",
        "        split_line = line.rstrip().split()\n",
        "        word = split_line[0]\n",
        "        if len(split_line) != (embedding_dim + 1) or word not in word2ix:\n",
        "            continue\n",
        "        assert (len(split_line) == embedding_dim + 1)\n",
        "        vector = np.array([float(x) for x in split_line[1:]], dtype=\"float32\")\n",
        "        assert len(vector) == embedding_dim\n",
        "        glove_vectors[word] = vector\n",
        "\n",
        "    glove_file.close()\n",
        "\n",
        "    print(\"Number of pre-trained word vectors loaded: \", len(glove_vectors))\n",
        "\n",
        "    # Calculate mean and stdev of embeddings\n",
        "    all_embeddings = np.array(list(glove_vectors.values()))\n",
        "    embeddings_mean = float(np.mean(all_embeddings))\n",
        "    embeddings_stdev = float(np.std(all_embeddings))\n",
        "\n",
        "    vocab_size = len(word2ix)\n",
        "    # Randomly initialize an embedding matrix of (vocab_size, embedding_dim) shape\n",
        "    # with a similar distribution as the pretrained embeddings for words in vocab.\n",
        "    embedding_matrix = np.random.normal(embeddings_mean, embeddings_stdev, (vocab_size, embedding_dim))\n",
        "\n",
        "    for i, word in enumerate(word2ix):\n",
        "        if word in glove_vectors:\n",
        "            embedding_matrix[i] = glove_vectors[word]\n",
        "\n",
        "    return embedding_matrix\n",
        "\n",
        "# the following functions are for word2vec embeddings\n",
        "def load_embedding(filename):\n",
        "    # load embedding into memory, skip first line\n",
        "    file = open(filename,'r')\n",
        "    lines = file.readlines()[1:]\n",
        "    file.close()\n",
        "    # create a map of words to vectors\n",
        "    embedding = dict()\n",
        "    for line in lines:\n",
        "        parts = line.split()\n",
        "        # key is string word, value is numpy array for vector\n",
        "        embedding[parts[0]] = np.asarray(parts[1:], dtype='float32')\n",
        "    return embedding\n",
        "\n",
        "def get_weight_matrix(embedding, vocab, embed_dim_w):\n",
        "    vocab_size = len(vocab)\n",
        "    weight_matrix = np.zeros((vocab_size, embed_dim_w))\n",
        "    for word, i in vocab.items():\n",
        "        if word in embedding:\n",
        "            weight_matrix[i] = embedding.get(word)\n",
        "    return weight_matrix\n",
        "\n",
        "def get_w2v_matrix(vocab, embed_dim_w):\n",
        "  raw_embedding = load_embedding('word2vec_200.txt')\n",
        "  return (get_weight_matrix(raw_embedding, vocab, embed_dim_w))\n",
        "\n",
        "def prepare_for_word_to_vec(texts):\n",
        "  words_list = []\n",
        "  for text in texts:\n",
        "    tokens = word_tokenize(text)\n",
        "    words = [word for word in tokens if word.isalpha()]\n",
        "    words_list.append(words)\n",
        "  return words_list\n"
      ],
      "execution_count": 0,
      "outputs": []
    },
    {
      "cell_type": "markdown",
      "metadata": {
        "id": "_QvTnP_RFR3m",
        "colab_type": "text"
      },
      "source": [
        "# Configs"
      ]
    },
    {
      "cell_type": "code",
      "metadata": {
        "id": "-zXGi21mt7Sj",
        "colab_type": "code",
        "colab": {}
      },
      "source": [
        "# in paper\n",
        "vocab_size = 40439\n",
        "embed_dim = 300 \n",
        "embed_dim_w = 200\n",
        "hidden_dim  = 128\n",
        "batch_size  = 128\n",
        "epochs = 50\n",
        "init_epoch = 0\n",
        "sl = 300\n",
        "# TODO: add SL code\n",
        "vsplit = 0.05"
      ],
      "execution_count": 0,
      "outputs": []
    },
    {
      "cell_type": "markdown",
      "metadata": {
        "id": "cSlUU4X_FVeb",
        "colab_type": "text"
      },
      "source": [
        "# Process Data"
      ]
    },
    {
      "cell_type": "code",
      "metadata": {
        "id": "as34xea2_7YH",
        "colab_type": "code",
        "colab": {}
      },
      "source": [
        "train_texts,train_labels, test_texts, test_labels = get_data(DATA_PATH)\n",
        "\n",
        "# Should fit_to_texts complete or only train-  \n",
        "# https://stackoverflow.com/questions/54891464/is-it-better-to-keras-fit-to-text-on-the-entire-x-data-or-just-the-train-data\n",
        "\n",
        "tokenizer = Tokenizer(oov_token='<UNK>', num_words=vocab_size+1)\n",
        "# fit only on train\n",
        "tokenizer.fit_on_texts(train_texts)\n",
        "\n",
        "# word2ix = truncated vocabulary or original vocabulary\n",
        "word2ix = list(tokenizer.word_index.keys())[:vocab_size+1]\n",
        "word2ix = {k:tokenizer.word_index[k] for k in word2ix}\n",
        "\n",
        "train_tokenized_seq = tokenize_sequences(train_texts, sl, tokenizer)\n",
        "test_tokenized_seq = tokenize_sequences(test_texts, sl, tokenizer)\n",
        "# vocab_size = len(tokenizer.word_index)# +1 for OOV\n",
        "\n",
        "train_labels = to_categorical(np.asarray(train_labels))\n",
        "test_labels = to_categorical(np.asarray(test_labels))\n",
        "output_dim = train_labels.shape[1]"
      ],
      "execution_count": 0,
      "outputs": []
    },
    {
      "cell_type": "markdown",
      "metadata": {
        "id": "Ql_Q4mRiqBMk",
        "colab_type": "text"
      },
      "source": [
        "# Load embeddings"
      ]
    },
    {
      "cell_type": "code",
      "metadata": {
        "id": "x5QZ03K_qD3J",
        "colab_type": "code",
        "colab": {
          "base_uri": "https://localhost:8080/",
          "height": 122
        },
        "outputId": "42cda708-d6fa-40d0-9881-a7ec204cc078"
      },
      "source": [
        "# The following code is for training the word2vec algorithm on the dataset itself\n",
        "path = get_tmpfile(PATH + 'word2vec_200.txt')\n",
        "if(glob.glob('word2vec_200.txt')):\n",
        "  print(\"Loading word2vec model ...\")\n",
        "  model_w = KeyedVectors.load_word2vec_format(path)\n",
        "else:\n",
        "  import nltk\n",
        "  nltk.download('punkt')\n",
        "  from nltk.tokenize import word_tokenize\n",
        "  w_train = prepare_for_word_to_vec(train_texts)\n",
        "  w_test = prepare_for_word_to_vec(test_texts)\n",
        "  model_w = Word2Vec(w_train + w_test, size=embed_dim_w, sg=1, iter=15)\n",
        "\n",
        "# Todo: save the vectors onto disk\n",
        "\n",
        "if EMBED == 'word2vec':\n",
        "  save_embedding_matrix_path = PATH + 'embedding_matrix_word2vec.pkl'\n",
        "\n",
        "  if(glob.glob(save_embedding_matrix_path)):\n",
        "    print('Word2vec Embedding matrix found. Loading ...')\n",
        "    with open(save_embedding_matrix_path, 'rb') as f:\n",
        "      embedding_matrix = pickle.load(f)\n",
        "\n",
        "    print('Done.')\n",
        "\n",
        "  else:\n",
        "    embedding_matrix = get_w2v_matrix(word2ix, embed_dim_w)\n",
        "    with open(save_embedding_matrix_path, 'wb+') as f:\n",
        "      pickle.dump(embedding_matrix, f)\n",
        "\n",
        "elif(EMBED == 'glove'):\n",
        "  save_embedding_matrix_path = PATH + 'embedding_matrix_glove.pkl'\n",
        "\n",
        "  if(glob.glob(save_embedding_matrix_path)):\n",
        "    print('Glove Embedding matrix found. Loading ...')\n",
        "    with open(save_embedding_matrix_path, 'rb') as f:\n",
        "      embedding_matrix = pickle.load(f)\n",
        "\n",
        "    print('Done.')\n",
        "\n",
        "  else:\n",
        "    embedding_matrix = get_embedding_matrix(word2ix, GLOVE_PATH, embed_dim)\n",
        "    with open(save_embedding_matrix_path, 'wb+') as f:\n",
        "      pickle.dump(embedding_matrix, f)"
      ],
      "execution_count": 63,
      "outputs": [
        {
          "output_type": "stream",
          "text": [
            "Loading word2vec model ...\n"
          ],
          "name": "stdout"
        },
        {
          "output_type": "stream",
          "text": [
            "/usr/local/lib/python3.6/dist-packages/smart_open/smart_open_lib.py:253: UserWarning: This function is deprecated, use smart_open.open instead. See the migration notes for details: https://github.com/RaRe-Technologies/smart_open/blob/master/README.rst#migrating-to-the-new-open-function\n",
            "  'See the migration notes for details: %s' % _MIGRATION_NOTES_URL\n"
          ],
          "name": "stderr"
        },
        {
          "output_type": "stream",
          "text": [
            "Word2vec Embedding matrix found. Loading ...\n",
            "Done.\n"
          ],
          "name": "stdout"
        }
      ]
    },
    {
      "cell_type": "code",
      "metadata": {
        "id": "fKJRdWgJt8MM",
        "colab_type": "code",
        "outputId": "c356e44f-5882-411f-b467-d88fe2aef318",
        "colab": {
          "base_uri": "https://localhost:8080/",
          "height": 119
        }
      },
      "source": [
        "print(train_tokenized_seq.shape)\n",
        "print(train_labels.shape)\n",
        "\n",
        "print(test_tokenized_seq.shape)\n",
        "print(test_labels.shape)\n",
        "\n",
        "print(embedding_matrix.shape)\n",
        "print(vocab_size)"
      ],
      "execution_count": 64,
      "outputs": [
        {
          "output_type": "stream",
          "text": [
            "(16961, 300)\n",
            "(16961, 20)\n",
            "(1885, 300)\n",
            "(1885, 20)\n",
            "(40440, 200)\n",
            "40439\n"
          ],
          "name": "stdout"
        }
      ]
    },
    {
      "cell_type": "markdown",
      "metadata": {
        "id": "FzOx9UXS6Zjh",
        "colab_type": "text"
      },
      "source": [
        "# Models"
      ]
    },
    {
      "cell_type": "code",
      "metadata": {
        "id": "Orn8Ly2uCz8g",
        "colab_type": "code",
        "colab": {}
      },
      "source": [
        "import keras.backend as K\n",
        "\n",
        "def repeat(x):\n",
        "  return K.repeat_elements(x, rep=hidden_dim, axis=-1)\n",
        "\n",
        "def sum_along_axis(x):\n",
        "  return K.sum(x, axis=1)\n",
        "\n",
        "def get_wrnn(rnn='gru'):\n",
        "  inp = Input(shape=(sl,))\n",
        "  embed = Embedding(input_dim=vocab_size+1, output_dim=embed_dim_w, \n",
        "                    weights=[embedding_matrix], input_length=sl,\n",
        "                    trainable=True)(inp)\n",
        "  if rnn == 'gru':\n",
        "    lstm = GRU(hidden_dim, return_sequences=True, dropout=0.2)(embed)\n",
        "  else:  \n",
        "    lstm = LSTM(hidden_dim, return_sequences=True, recurrent_dropout=0.2, \n",
        "                dropout=0.2)(embed)\n",
        "  wis = TimeDistributed(Dense(1, activation='sigmoid'))(lstm)\n",
        "  wis = Lambda(repeat)(wis)\n",
        "  wd = Multiply()([lstm, wis])\n",
        "  wd = Lambda(sum_along_axis)(wd)\n",
        "  d = Dense(hidden_dim, activation='relu', kernel_regularizer=regularizers.l2(0.01))(wd)\n",
        "  d = Dropout(0.2)(d)\n",
        "  out = Dense(output_dim, activation='softmax')(d)\n",
        "  model_wrnn = Model(inputs = inp, outputs = out)\n",
        "  print(model_wrnn.summary())\n",
        "  return model_wrnn\n",
        "\n",
        "def get_gru():\n",
        "  model_gru = Sequential([Embedding(input_dim=vocab_size+1, output_dim=embed_dim, \n",
        "                                    weights=[embedding_matrix], input_length=sl, \n",
        "                                    trainable=True ), \n",
        "                        GRU(hidden_dim, dropout=0.2),\n",
        "                        Dense(hidden_dim, activation='relu'),\n",
        "                        Dense(output_dim, activation='softmax')])\n",
        "  \n",
        "  print(model_gru.summary())\n",
        "  return model_gru\n",
        "\n",
        "def get_bigru():\n",
        "  model_BiGRU = Sequential([Embedding(input_dim=vocab_size+1, output_dim=embed_dim, \n",
        "                                      weights=[embedding_matrix], input_length=sl, \n",
        "                                      trainable=True ),\n",
        "                        Bidirectional(GRU(hidden_dim, dropout=0.2)),\n",
        "                        Dense(hidden_dim, activation='relu'),\n",
        "                        Dense(output_dim, activation='softmax')])\n",
        "  print(model_BiGRU.summary())\n",
        "  return model_BiGRU\n",
        "\n",
        "def perform_experiment(model):\n",
        "\n",
        "  # training\n",
        "  history = run_model(model, train_tokenized_seq, train_labels, epochs, \n",
        "                      batch_size, vsplit)\n",
        "  training_plots(history, 'wrnn.png', model)\n",
        "\n",
        "  # evaluation\n",
        "  print(\"Evaluating...\")\n",
        "  evaluate(model, test_tokenized_seq, test_labels, batch_size)"
      ],
      "execution_count": 0,
      "outputs": []
    },
    {
      "cell_type": "markdown",
      "metadata": {
        "id": "-VAspm57zATT",
        "colab_type": "text"
      },
      "source": [
        "## WRNN (with GRU unit)"
      ]
    },
    {
      "cell_type": "code",
      "metadata": {
        "id": "wJVIkBQ4UDm8",
        "colab_type": "code",
        "colab": {
          "base_uri": "https://localhost:8080/",
          "height": 1000
        },
        "outputId": "7c004e80-5342-4ce0-ca11-c4d18073fd5f"
      },
      "source": [
        "model = get_wrnn()\n",
        "perform_experiment(model)"
      ],
      "execution_count": 58,
      "outputs": [
        {
          "output_type": "stream",
          "text": [
            "Model: \"model_15\"\n",
            "__________________________________________________________________________________________________\n",
            "Layer (type)                    Output Shape         Param #     Connected to                     \n",
            "==================================================================================================\n",
            "input_22 (InputLayer)           (None, 300)          0                                            \n",
            "__________________________________________________________________________________________________\n",
            "embedding_24 (Embedding)        (None, 300, 200)     8088000     input_22[0][0]                   \n",
            "__________________________________________________________________________________________________\n",
            "gru_5 (GRU)                     (None, 300, 128)     126336      embedding_24[0][0]               \n",
            "__________________________________________________________________________________________________\n",
            "time_distributed_6 (TimeDistrib (None, 300, 1)       129         gru_5[0][0]                      \n",
            "__________________________________________________________________________________________________\n",
            "lambda_11 (Lambda)              (None, 300, 128)     0           time_distributed_6[0][0]         \n",
            "__________________________________________________________________________________________________\n",
            "multiply_6 (Multiply)           (None, 300, 128)     0           gru_5[0][0]                      \n",
            "                                                                 lambda_11[0][0]                  \n",
            "__________________________________________________________________________________________________\n",
            "lambda_12 (Lambda)              (None, 128)          0           multiply_6[0][0]                 \n",
            "__________________________________________________________________________________________________\n",
            "dense_40 (Dense)                (None, 128)          16512       lambda_12[0][0]                  \n",
            "__________________________________________________________________________________________________\n",
            "dropout_10 (Dropout)            (None, 128)          0           dense_40[0][0]                   \n",
            "__________________________________________________________________________________________________\n",
            "dense_41 (Dense)                (None, 20)           2580        dropout_10[0][0]                 \n",
            "==================================================================================================\n",
            "Total params: 8,233,557\n",
            "Trainable params: 8,233,557\n",
            "Non-trainable params: 0\n",
            "__________________________________________________________________________________________________\n",
            "None\n",
            "START TRAINING\n",
            "Train on 16112 samples, validate on 849 samples\n",
            "Epoch 1/50\n",
            "16112/16112 [==============================] - 59s 4ms/step - loss: 4.5099 - categorical_accuracy: 0.0835 - val_loss: 3.2272 - val_categorical_accuracy: 0.1896\n",
            "Epoch 2/50\n",
            "16112/16112 [==============================] - 55s 3ms/step - loss: 2.1713 - categorical_accuracy: 0.4480 - val_loss: 1.1186 - val_categorical_accuracy: 0.7420\n",
            "\n",
            "Epoch 00002: val_categorical_accuracy improved from -inf to 0.74205, saving model to 02_0.74.h5\n",
            "Epoch 3/50\n",
            "16112/16112 [==============================] - 56s 3ms/step - loss: 0.6884 - categorical_accuracy: 0.8576 - val_loss: 0.6441 - val_categorical_accuracy: 0.8704\n",
            "Epoch 4/50\n",
            "16112/16112 [==============================] - 56s 3ms/step - loss: 0.2844 - categorical_accuracy: 0.9490 - val_loss: 0.6356 - val_categorical_accuracy: 0.8822\n",
            "\n",
            "Epoch 00004: val_categorical_accuracy improved from 0.74205 to 0.88221, saving model to 04_0.88.h5\n",
            "Epoch 5/50\n",
            "16112/16112 [==============================] - 55s 3ms/step - loss: 0.1839 - categorical_accuracy: 0.9731 - val_loss: 0.6501 - val_categorical_accuracy: 0.8916\n",
            "Epoch 6/50\n",
            "16112/16112 [==============================] - 55s 3ms/step - loss: 0.1549 - categorical_accuracy: 0.9799 - val_loss: 0.8112 - val_categorical_accuracy: 0.8787\n",
            "\n",
            "Epoch 00006: val_categorical_accuracy did not improve from 0.88221\n",
            "Epoch 00006: early stopping\n",
            "Training fininshed\n",
            "Average Time per epoch:  57.46484891573588\n"
          ],
          "name": "stdout"
        },
        {
          "output_type": "display_data",
          "data": {
            "image/png": "[encoded data removed]",
            "text/plain": [
              "<Figure size 432x288 with 1 Axes>"
            ]
          },
          "metadata": {
            "tags": [],
            "needs_background": "light"
          }
        },
        {
          "output_type": "display_data",
          "data": {
            "image/png": "[encoded data removed]",
            "text/plain": [
              "<Figure size 432x288 with 1 Axes>"
            ]
          },
          "metadata": {
            "tags": [],
            "needs_background": "light"
          }
        },
        {
          "output_type": "stream",
          "text": [
            "Evaluating...\n",
            "1885/1885 [==============================] - 3s 2ms/step\n",
            "\n",
            " Model Accuracy :  0.8774535655975342\n",
            "\n",
            " Confusion Matrix: \n",
            " [[67  0  0  0  0  0  0  0  0  0  0  0  0  0  0  1  0  0  2  3]\n",
            " [ 0 92  2  1  0  3  0  0  1  0  0  1  0  0  0  1  0  0  1  0]\n",
            " [ 1 12 90  6  1  0  0  0  0  0  0  0  0  1  0  0  0  0  0  0]\n",
            " [ 1  3  5 58  6  0  3  3  0  1  0  0  6  0  0  0  0  0  0  0]\n",
            " [ 0  1  2  1 97  0  0  1  0  0  0  0  2  0  0  0  0  0  0  0]\n",
            " [ 1  6  1  0  1 87  0  1  0  0  0  0  0  1  0  1  0  0  1  0]\n",
            " [ 1  3  1  5  2  0 72  6  4  0  2  1  1  0  0  0  0  0  0  0]\n",
            " [ 2  1  0  0  1  0  1 97  0  0  0  0  0  0  0  0  1  0  0  0]\n",
            " [ 0  0  0  0  1  1  0  2 79  0  0  0  0  0  0  0  2  0  0  1]\n",
            " [ 2  0  0  0  1  0  0  1  0 95  5  0  0  0  0  0  0  0  0  0]\n",
            " [ 0  0  0  0  0  0  0  1  0  0 94  0  0  0  0  0  0  0  0  0]\n",
            " [ 0  1  0  0  0  2  0  0  0  0  0 96  0  0  0  1  2  0  3  0]\n",
            " [ 0  0  1  4  2  0  0  9  0  0  3  0 87  1  0  1  0  0  0  1]\n",
            " [ 0  1  0  0  0  0  0  1  1  0  0  0  1 90  1  0  0  0  2  2]\n",
            " [ 0  0  0  0  1  0  0  0  0  0  0  0  0  1 70  2  0  0  0  0]\n",
            " [ 2  1  0  0  0  0  0  0  0  0  0  0  0  0  0 88  0  0  0  8]\n",
            " [ 0  0  1  0  0  0  0  1  0  0  0  0  0  0  0  0 88  0  2  1]\n",
            " [ 1  0  0  0  0  0  0  0  0  0  0  0  0  0  0  3  0 85  1  0]\n",
            " [ 2  0  0  0  0  0  0  1  0  0  0  0  0  1  0  0  2  1 71  1]\n",
            " [ 9  0  0  0  0  0  0  0  0  0  0  0  0  0  0  9  5  0  1 51]]\n",
            "\n",
            "Classification Report\n",
            "                precision    recall  f1-score   support\n",
            "\n",
            "           0       0.75      0.92      0.83        73\n",
            "           1       0.76      0.90      0.83       102\n",
            "           2       0.87      0.81      0.84       111\n",
            "           3       0.77      0.67      0.72        86\n",
            "           4       0.86      0.93      0.89       104\n",
            "           5       0.94      0.87      0.90       100\n",
            "           6       0.95      0.73      0.83        98\n",
            "           7       0.78      0.94      0.85       103\n",
            "           8       0.93      0.92      0.92        86\n",
            "           9       0.99      0.91      0.95       104\n",
            "          10       0.90      0.99      0.94        95\n",
            "          11       0.98      0.91      0.95       105\n",
            "          12       0.90      0.80      0.84       109\n",
            "          13       0.95      0.91      0.93        99\n",
            "          14       0.99      0.95      0.97        74\n",
            "          15       0.82      0.89      0.85        99\n",
            "          16       0.88      0.95      0.91        93\n",
            "          17       0.99      0.94      0.97        90\n",
            "          18       0.85      0.90      0.87        79\n",
            "          19       0.75      0.68      0.71        75\n",
            "\n",
            "    accuracy                           0.88      1885\n",
            "   macro avg       0.88      0.88      0.88      1885\n",
            "weighted avg       0.88      0.88      0.88      1885\n",
            "\n"
          ],
          "name": "stdout"
        }
      ]
    },
    {
      "cell_type": "markdown",
      "metadata": {
        "id": "J_rR1bkSQ24D",
        "colab_type": "text"
      },
      "source": [
        "## WRNN (with LSTM unit)"
      ]
    },
    {
      "cell_type": "code",
      "metadata": {
        "id": "vfOcWzV3Q15w",
        "colab_type": "code",
        "colab": {}
      },
      "source": [
        "model = get_wrnn(rnn='lstm')\n",
        "perform_experiment(model)"
      ],
      "execution_count": 0,
      "outputs": []
    },
    {
      "cell_type": "markdown",
      "metadata": {
        "id": "kDq224vDUNrN",
        "colab_type": "text"
      },
      "source": [
        "## Simple GRU"
      ]
    },
    {
      "cell_type": "code",
      "metadata": {
        "id": "zVOCcfq7URfx",
        "colab_type": "code",
        "colab": {}
      },
      "source": [
        "model = get_gru()\n",
        "perform_experiment(model)"
      ],
      "execution_count": 0,
      "outputs": []
    },
    {
      "cell_type": "markdown",
      "metadata": {
        "id": "SOHXFvZ2UXXu",
        "colab_type": "text"
      },
      "source": [
        "## BiGRU"
      ]
    },
    {
      "cell_type": "code",
      "metadata": {
        "id": "Mpc3lvJLUaVW",
        "colab_type": "code",
        "colab": {}
      },
      "source": [
        "model = get_bigru()\n",
        "perform_experiment(model)"
      ],
      "execution_count": 0,
      "outputs": []
    },
    {
      "cell_type": "markdown",
      "metadata": {
        "id": "ruCJayP7UwzM",
        "colab_type": "text"
      },
      "source": [
        "# Better models (not part of paper)"
      ]
    },
    {
      "cell_type": "code",
      "metadata": {
        "id": "LHlUe2k2izJ_",
        "colab_type": "code",
        "colab": {}
      },
      "source": [
        "def get_new_model(rnn='gru'):\n",
        "  inp = Input(shape=(sl,))\n",
        "  embed = Embedding(input_dim=vocab_size+1, output_dim=embed_dim, \n",
        "                    weights=[embedding_matrix], input_length=sl, trainable=True)(inp)\n",
        "  if rnn == 'gru':\n",
        "    lstm = GRU(hidden_dim, return_sequences=True, dropout=0.2)(embed)\n",
        "  else:\n",
        "    lstm = LSTM(hidden_dim, return_sequences=True, recurrent_dropout=0.2, \n",
        "                dropout=0.2)(embed)\n",
        "  conv1d = Conv1D(128, 1, activation='relu')(lstm)\n",
        "  gp = GlobalMaxPooling1D()(conv1d)\n",
        "  d = Dense(hidden_dim, activation='relu')(gp)\n",
        "  d = Dropout(0.1)(d)\n",
        "  out = Dense(output_dim, activation='softmax')(d)\n",
        "  model = Model(inputs = inp, outputs = out)\n",
        "  print(model.summary())\n",
        "  return model"
      ],
      "execution_count": 0,
      "outputs": []
    },
    {
      "cell_type": "markdown",
      "metadata": {
        "id": "2IVOC0RiU-i6",
        "colab_type": "text"
      },
      "source": [
        "## GRU + Conv1d"
      ]
    },
    {
      "cell_type": "code",
      "metadata": {
        "id": "pJoAXSruVsc9",
        "colab_type": "code",
        "colab": {}
      },
      "source": [
        "model = get_new_model()\n",
        "perform_experiment(model)"
      ],
      "execution_count": 0,
      "outputs": []
    },
    {
      "cell_type": "markdown",
      "metadata": {
        "id": "TcCwVwFKV6EN",
        "colab_type": "text"
      },
      "source": [
        "## LSTM + Conv1d"
      ]
    },
    {
      "cell_type": "code",
      "metadata": {
        "id": "PcbtznfpymnN",
        "colab_type": "code",
        "colab": {}
      },
      "source": [
        "model = get_new_model(rnn='lstm')\n",
        "perform_experiment(model)"
      ],
      "execution_count": 0,
      "outputs": []
    }
  ]
}