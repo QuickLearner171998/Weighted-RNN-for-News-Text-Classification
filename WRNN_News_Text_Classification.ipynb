{
  "nbformat": 4,
  "nbformat_minor": 0,
  "metadata": {
    "colab": {
      "name": "WRNN-News_Text_Classification.ipynb",
      "provenance": [],
      "collapsed_sections": [],
      "toc_visible": true
    },
    "kernelspec": {
      "name": "python3",
      "display_name": "Python 3"
    },
    "accelerator": "GPU"
  },
  "cells": [
    {
      "cell_type": "code",
      "metadata": {
        "id": "_F5vE8urN7n9",
        "colab_type": "code",
        "outputId": "1b192e1f-44f9-4054-b717-fea02505c8ea",
        "colab": {
          "base_uri": "https://localhost:8080/",
          "height": 122
        }
      },
      "source": [
        "from google.colab import drive\n",
        "drive.mount('/content/drive/', force_remount=True)"
      ],
      "execution_count": 1,
      "outputs": [
        {
          "output_type": "stream",
          "text": [
            "Go to this URL in a browser: https://accounts.google.com/o/oauth2/auth?client_id=947318989803-6bn6qk8qdgf4n4g3pfee6491hc0brc4i.apps.googleusercontent.com&redirect_uri=urn%3aietf%3awg%3aoauth%3a2.0%3aoob&response_type=code&scope=email%20https%3a%2f%2fwww.googleapis.com%2fauth%2fdocs.test%20https%3a%2f%2fwww.googleapis.com%2fauth%2fdrive%20https%3a%2f%2fwww.googleapis.com%2fauth%2fdrive.photos.readonly%20https%3a%2f%2fwww.googleapis.com%2fauth%2fpeopleapi.readonly\n",
            "\n",
            "Enter your authorization code:\n",
            "··········\n",
            "Mounted at /content/drive/\n"
          ],
          "name": "stdout"
        }
      ]
    },
    {
      "cell_type": "code",
      "metadata": {
        "id": "0CmxHdbUDQpU",
        "colab_type": "code",
        "outputId": "fb5ded45-b13e-4ff5-9a7c-685b1bc09282",
        "colab": {
          "base_uri": "https://localhost:8080/",
          "height": 34
        }
      },
      "source": [
        "% cd \"/content/drive/My Drive/nnfl_project/\""
      ],
      "execution_count": 2,
      "outputs": [
        {
          "output_type": "stream",
          "text": [
            "/content/drive/My Drive/nnfl_project\n"
          ],
          "name": "stdout"
        }
      ]
    },
    {
      "cell_type": "markdown",
      "metadata": {
        "id": "0V6VsSotwNhy",
        "colab_type": "text"
      },
      "source": [
        "# Imports\n"
      ]
    },
    {
      "cell_type": "code",
      "metadata": {
        "id": "c8zYf1TVwM5J",
        "colab_type": "code",
        "colab": {
          "base_uri": "https://localhost:8080/",
          "height": 51
        },
        "outputId": "34b259e8-ae7c-425c-ac40-b165a4f81296"
      },
      "source": [
        "%tensorflow_version 1.x\n",
        "\n",
        "from sklearn.metrics import classification_report, confusion_matrix\n",
        "from sklearn.datasets import fetch_20newsgroups\n",
        "from keras.utils import to_categorical\n",
        "import os\n",
        "import glob\n",
        "import numpy as np\n",
        "import pickle\n",
        "import time\n",
        "import matplotlib.pyplot as plt\n",
        "from tqdm import tqdm\n",
        "\n",
        "from keras.layers import *\n",
        "#Input,Activation, Dense, Embedding, Flatten, LSTM, Conv1D,MaxPooling1D,Dropout,Bidirectional,Reshape,MaxPooling1D,GlobalMaxPooling1D, Dropout,Permute,TimeDistributed,BatchNormalization\n",
        "from keras.optimizers import Adam\n",
        "from keras.models import Sequential, Model\n",
        "from keras.regularizers import l1_l2\n",
        "from keras.callbacks import ModelCheckpoint, EarlyStopping, ReduceLROnPlateau\n",
        "from keras.preprocessing.text import Tokenizer\n",
        "from keras.preprocessing.sequence import pad_sequences\n",
        "from keras.metrics import categorical_accuracy\n",
        "from keras.models import load_model\n",
        "from keras import regularizers\n",
        "from keras.utils.vis_utils import plot_model\n",
        "\n",
        "from gensim.models import Word2Vec,KeyedVectors\n",
        "from gensim.test.utils import datapath, get_tmpfile\n",
        "\n",
        "PATH = '/content/drive/My Drive/nnfl_project/'\n",
        "DATA_PATH = '/content/drive/My Drive/nnfl_project/data'\n",
        "GLOVE_PATH = '/content/drive/My Drive/glove.840B.300d.txt'"
      ],
      "execution_count": 3,
      "outputs": [
        {
          "output_type": "stream",
          "text": [
            "TensorFlow 1.x selected.\n"
          ],
          "name": "stdout"
        },
        {
          "output_type": "stream",
          "text": [
            "Using TensorFlow backend.\n"
          ],
          "name": "stderr"
        }
      ]
    },
    {
      "cell_type": "markdown",
      "metadata": {
        "id": "OefAWNV2FNtj",
        "colab_type": "text"
      },
      "source": [
        "# Helper Functions"
      ]
    },
    {
      "cell_type": "code",
      "metadata": {
        "id": "o8x0nRb9BJUx",
        "colab_type": "code",
        "colab": {}
      },
      "source": [
        "def evaluate(model,y_texts, y_labels, batch_size):\n",
        "  loss, acc = model.evaluate(y_texts,y_labels,batch_size=batch_size,verbose=1)\n",
        "  # print(\"Accuracy of the model\",acc)\n",
        "  y_pred = model.predict(y_texts, batch_size=batch_size)\n",
        "  y_pred_max_ind = np.argmax(y_pred,axis=1)\n",
        "  y_true_max_ind = np.argmax(y_labels,axis=1)\n",
        "  cf = (classification_report(y_true_max_ind,y_pred_max_ind))\n",
        "  confusion_mat = confusion_matrix(y_true_max_ind, y_pred_max_ind)\n",
        "\n",
        "  print(\"\\n Model Accuracy : \",acc)\n",
        "  print(\"\\n Confusion Matrix: \\n\", confusion_mat)\n",
        "  print(\"\\nClassification Report\\n \",cf)\n",
        "\n",
        "# model_op_folder = 'new_conv1d_GMP_split'\n",
        "def get_callbacks():\n",
        "\n",
        "  chk_pth = (\"{epoch:02d}_{val_categorical_accuracy:.2f}.h5\")\n",
        "  # early stopping\n",
        "  earlyStop = EarlyStopping(monitor='val_loss', mode='auto', verbose=1, patience=4)\n",
        "  checkpoint = ModelCheckpoint(chk_pth,monitor='val_categorical_accuracy', verbose=1, save_weights_only=True, save_best_only='True',mode = 'auto', period=2)\n",
        "\n",
        "  # reduce_lr = ReduceLROnPlateau(monitor='val_loss', factor=0.2, patience=2, min_lr=0.001, verbose = 1)\n",
        "  cb = [checkpoint,earlyStop]\n",
        "  return cb\n",
        "\n",
        "def run_model(model, train_tokenized_seq, train_labels, epochs, batch_size, vsplit, init_epoch=0):\n",
        "\n",
        "  model.compile(loss='categorical_crossentropy', optimizer=Adam(lr=0.01),metrics=['categorical_accuracy'])\n",
        "\n",
        "  # check if a saved_model exists\n",
        "  # if(glob.glob('*.h5')):\n",
        "  #   print(\"loading model\")\n",
        "  #   load_path = return_last_saved_model(glob.glob('*.h5'))\n",
        "  #   # model = load_model(load_path)\n",
        "  #   model.load_weights(load_path)\n",
        "  #   init_epoch = get_epoch_frm_model_file(load_path)\n",
        "\n",
        "  print(\"START TRAINING\")\n",
        "\n",
        "  start = time.time()\n",
        "  # history = model.fit(train_tokenized_seq,train_labels,epochs = init_epoch+epochs, batch_size=batch_size, validation_data=(test_tokenized_seq, test_labels), callbacks=[checkpoint,earlyStop], initial_epoch=init_epoch)\n",
        "  history = model.fit(train_tokenized_seq,train_labels,epochs = init_epoch+epochs, batch_size=batch_size, validation_split=vsplit, callbacks=get_callbacks(), initial_epoch=init_epoch)\n",
        "  end =  time.time()\n",
        "  print(\"Training fininshed\")\n",
        "  # save_path = \"{}_epochs-model.h5\".format(init_epoch+epochs)\n",
        "  # model.save(save_path)\n",
        "  print(\"Average Time per epoch: \", (end-start)/len(history.history['loss']))\n",
        "  return history\n",
        "\n",
        "# plot model\n",
        "\n",
        "def training_plots(history, model_name, model):  \n",
        "  plt.plot(history.history[\"categorical_accuracy\"])\n",
        "  plt.plot(history.history[\"val_categorical_accuracy\"])\n",
        "  plt.title('model acc')\n",
        "  plt.ylabel('accuracy')\n",
        "  plt.xlabel('epoch')\n",
        "  plt.legend(['train', 'val'], loc='upper left')\n",
        "  plt.show()\n",
        "\n",
        "  plt.plot(history.history[\"loss\"])\n",
        "  plt.plot(history.history[\"val_loss\"])\n",
        "  plt.title('model loss')\n",
        "  plt.ylabel('loss')\n",
        "  plt.xlabel('epochs')\n",
        "  plt.legend(['train', 'val'], loc='upper left')\n",
        "  plt.show()\n",
        "\n",
        "  plot_model(model,to_file=model_name,show_shapes=True)\n",
        "\n",
        "def tokenize_sequences(texts, sl, tokenizer):\n",
        "  sequences = tokenizer.texts_to_sequences(texts)\n",
        "  sequences = pad_sequences(sequences, maxlen=sl)\n",
        "\n",
        "  return sequences\n",
        "\n",
        "def get_data(data_path):\n",
        "  newsgroups_data_train = fetch_20newsgroups(data_path,subset='train')\n",
        "  train_labels = newsgroups_data_train.target\n",
        "  train_texts = newsgroups_data_train.data\n",
        "\n",
        "  newsgroups_data_test = fetch_20newsgroups(data_path,subset='test')\n",
        "  test_labels = newsgroups_data_test.target\n",
        "  test_texts = newsgroups_data_test.data\n",
        "  return train_texts,train_labels, test_texts, test_labels\n",
        "\n",
        "def get_epoch_frm_model_file(save_path):\n",
        "  return int(save_path[:save_path.index('_')])\n",
        "  # return int(save_path.split('_')[2])\n",
        "\n",
        "def return_last_saved_model(paths):\n",
        "  last_epoch_prev = -1\n",
        "  ret_path = \"\"\n",
        "  for path in paths:\n",
        "    last_epoch = get_epoch_frm_model_file(path)\n",
        "    if(last_epoch >= last_epoch_prev):\n",
        "      last_epoch_prev = last_epoch\n",
        "      ret_path = path\n",
        "  return ret_path\n",
        "\n",
        "def get_embedding_matrix(word2ix, glove_path, embedding_dim):\n",
        "    \"\"\"\n",
        "    :param path: path to the glove embeddings file\n",
        "    :param tokenizer: tokenizer fitted on the documents\n",
        "    :param vocab_size: vocabulary size \n",
        "    :return: an embedding matrix: a nn.Embeddings\n",
        "    \"\"\"\n",
        "    glove_vectors = {}\n",
        "    glove_file = open(glove_path, 'r')\n",
        "    for line in tqdm(glove_file):\n",
        "        split_line = line.rstrip().split()\n",
        "        word = split_line[0]\n",
        "        if len(split_line) != (embedding_dim + 1) or word not in word2ix:\n",
        "            continue\n",
        "        assert (len(split_line) == embedding_dim + 1)\n",
        "        vector = np.array([float(x) for x in split_line[1:]], dtype=\"float32\")\n",
        "        assert len(vector) == embedding_dim\n",
        "        glove_vectors[word] = vector\n",
        "\n",
        "    glove_file.close()\n",
        "\n",
        "    print(\"Number of pre-trained word vectors loaded: \", len(glove_vectors))\n",
        "\n",
        "    # Calculate mean and stdev of embeddings\n",
        "    all_embeddings = np.array(list(glove_vectors.values()))\n",
        "    embeddings_mean = float(np.mean(all_embeddings))\n",
        "    embeddings_stdev = float(np.std(all_embeddings))\n",
        "\n",
        "    vocab_size = len(word2ix)\n",
        "    # Randomly initialize an embedding matrix of (vocab_size, embedding_dim) shape\n",
        "    # with a similar distribution as the pretrained embeddings for words in vocab.\n",
        "    embedding_matrix = np.random.normal(embeddings_mean, embeddings_stdev, (vocab_size, embedding_dim))\n",
        "\n",
        "    for i, word in enumerate(word2ix):\n",
        "        if word in glove_vectors:\n",
        "            embedding_matrix[i] = glove_vectors[word]\n",
        "\n",
        "    return embedding_matrix\n",
        "\n",
        "# load embedding as a dict\n",
        "# the following functions are for word2vec embeddings\n",
        "def load_embedding(filename):\n",
        "    # load embedding into memory, skip first line\n",
        "    file = open(filename,'r')\n",
        "    lines = file.readlines()[1:]\n",
        "    file.close()\n",
        "    # create a map of words to vectors\n",
        "    embedding = dict()\n",
        "    for line in lines:\n",
        "        parts = line.split()\n",
        "        # key is string word, value is numpy array for vector\n",
        "        embedding[parts[0]] = np.asarray(parts[1:], dtype='float32')\n",
        "    return embedding\n",
        "\n",
        "# create a weight matrix for the Embedding layer from a loaded embedding\n",
        "def get_weight_matrix(embedding, vocab,embed_dim_w):\n",
        "    # total vocabulary size plus 0 for unknown words\n",
        "    vocab_size = len(vocab) + 1\n",
        "    # define weight matrix dimensions with all 0\n",
        "    weight_matrix = np.zeros((vocab_size, embed_dim_w))\n",
        "    # step vocab, store vectors using the Tokenizer's integer mapping\n",
        "    for word, i in vocab.items():\n",
        "        if word in embedding:\n",
        "            weight_matrix[i] = embedding.get(word)\n",
        "    return weight_matrix\n",
        "\n",
        "def get_w2v_matrix(vocab, embed_dim_w):\n",
        "  # load embedding from file\n",
        "  raw_embedding = load_embedding('word2vec_200.txt')\n",
        "  # get vectors in the right order\n",
        "  return(get_weight_matrix(raw_embedding, vocab,embed_dim_w))\n",
        "\n",
        "def prepare_for_word_to_vec(texts):\n",
        "  words_list = []\n",
        "  for text in texts:\n",
        "    tokens = word_tokenize(text)\n",
        "    words = [word for word in tokens if word.isalpha()]\n",
        "    words_list.append(words)\n",
        "  return words_list\n"
      ],
      "execution_count": 0,
      "outputs": []
    },
    {
      "cell_type": "markdown",
      "metadata": {
        "id": "_QvTnP_RFR3m",
        "colab_type": "text"
      },
      "source": [
        "# Configs"
      ]
    },
    {
      "cell_type": "code",
      "metadata": {
        "id": "-zXGi21mt7Sj",
        "colab_type": "code",
        "colab": {}
      },
      "source": [
        "# in paper\n",
        "vocab_size = 40439\n",
        "embed_dim = 300 \n",
        "embed_dim_w = 200\n",
        "hidden_dim  = 128\n",
        "batch_size  = 128\n",
        "epochs = 10\n",
        "init_epoch = 0\n",
        "sl = 300\n",
        "vsplit = 0.05"
      ],
      "execution_count": 0,
      "outputs": []
    },
    {
      "cell_type": "markdown",
      "metadata": {
        "id": "cSlUU4X_FVeb",
        "colab_type": "text"
      },
      "source": [
        "# Process Data"
      ]
    },
    {
      "cell_type": "code",
      "metadata": {
        "id": "as34xea2_7YH",
        "colab_type": "code",
        "colab": {}
      },
      "source": [
        "# save_embedding_matrix_path = PATH + 'embedding_matrix.pkl'\n",
        "train_texts,train_labels, test_texts, test_labels = get_data(DATA_PATH)\n",
        "\n",
        "# Should fit_to_texts complete or only train-  https://stackoverflow.com/questions/54891464/is-it-better-to-keras-fit-to-text-on-the-entire-x-data-or-just-the-train-data\n",
        "\n",
        "tokenizer = Tokenizer(oov_token='<UNK>', num_words=vocab_size+1)\n",
        "# fit only on train\n",
        "tokenizer.fit_on_texts(train_texts)\n",
        "\n",
        "# word2ix = truncated vocabulary or original vocabulary\n",
        "word2ix = list(tokenizer.word_index.keys())[:vocab_size+1]\n",
        "word2ix = {k:tokenizer.word_index[k] for k in word2ix}\n",
        "\n",
        "train_tokenized_seq = tokenize_sequences(train_texts, sl, tokenizer)\n",
        "test_tokenized_seq = tokenize_sequences(test_texts, sl, tokenizer)\n",
        "# vocab_size = len(tokenizer.word_index)# +1 for OOV\n",
        "\n",
        "train_labels = to_categorical(np.asarray(train_labels))\n",
        "test_labels = to_categorical(np.asarray(test_labels))\n",
        "output_dim = train_labels.shape[1]\n"
      ],
      "execution_count": 0,
      "outputs": []
    },
    {
      "cell_type": "markdown",
      "metadata": {
        "id": "Ql_Q4mRiqBMk",
        "colab_type": "text"
      },
      "source": [
        "# W2V model"
      ]
    },
    {
      "cell_type": "code",
      "metadata": {
        "id": "x5QZ03K_qD3J",
        "colab_type": "code",
        "colab": {}
      },
      "source": [
        "# word2vec mpdel\n",
        "path = get_tmpfile(PATH+'word2vec_200.txt')\n",
        "if(glob.glob('word2vec_200.txt')):\n",
        "  print(\"loading word2vec model\")\n",
        "  model_w = KeyedVectors.load_word2vec_format(path)\n",
        "else:\n",
        "  import nltk\n",
        "  nltk.download('punkt')\n",
        "  from nltk.tokenize import word_tokenize\n",
        "  w_train = prepare_for_word_to_vec(train_texts)\n",
        "  w_test = prepare_for_word_to_vec(test_texts)\n",
        "  model_w = Word2Vec(w_train+w_test,size=embed_dim_w,sg=1,iter = 15)\n",
        "\n",
        "\n",
        "# load weights\n",
        "if(glob.glob('w2v_weights_200.pkl')):\n",
        "  print(\"loading w2v weights\")\n",
        "  w2v_weights = np.load('w2v_weights_200.pkl', allow_pickle=True)\n",
        "  # vocab_size_w=vocab_size+1\n",
        "\n",
        "else:\n",
        "  # get weights\n",
        "  w2v_weights = get_w2v_matrix(tokenizer.word_index,embed_dim_w)\n",
        "  # save weights\n",
        "  pth = PATH+'w2v_weights_200.pkl'\n",
        "  with open(pth, 'wb+') as f:\n",
        "      pickle.dump(w2v_weights, f)\n",
        "\n",
        "vocab_size_w=vocab_size+1\n",
        "\n",
        "\n",
        "w2v_weights.shape\n",
        "print(vocab_size_w)\n"
      ],
      "execution_count": 0,
      "outputs": []
    },
    {
      "cell_type": "markdown",
      "metadata": {
        "id": "JQkufQxFqF1R",
        "colab_type": "text"
      },
      "source": [
        "# Glove"
      ]
    },
    {
      "cell_type": "code",
      "metadata": {
        "id": "grGp8eLoj1IK",
        "colab_type": "code",
        "outputId": "2125b40e-6f84-427c-b899-9da2d348f239",
        "colab": {
          "base_uri": "https://localhost:8080/",
          "height": 51
        }
      },
      "source": [
        "save_embedding_matrix_path = PATH + 'embedding_matrix_truncated.pkl'\n",
        "\n",
        "if(glob.glob(save_embedding_matrix_path)):\n",
        "  print('Embedding matrix found. Loading ...')\n",
        "  with open(save_embedding_matrix_path, 'rb') as f:\n",
        "    embedding_matrix = pickle.load(f)\n",
        "\n",
        "  print('Done.')\n",
        "\n",
        "else:\n",
        "  embedding_matrix = get_embedding_matrix(word2ix, GLOVE_PATH, embed_dim)\n",
        "  with open(save_embedding_matrix_path, 'wb+') as f:\n",
        "    pickle.dump(embedding_matrix, f)\n"
      ],
      "execution_count": 7,
      "outputs": [
        {
          "output_type": "stream",
          "text": [
            "Embedding matrix found. Loading ...\n",
            "Done.\n"
          ],
          "name": "stdout"
        }
      ]
    },
    {
      "cell_type": "code",
      "metadata": {
        "id": "1SMWdnN1x2UY",
        "colab_type": "code",
        "outputId": "42cb2a3d-7def-4466-8575-c629feb22b17",
        "colab": {
          "base_uri": "https://localhost:8080/",
          "height": 51
        }
      },
      "source": [
        "save_embedding_matrix_path = PATH + 'embedding_matrix_w2vec.pkl'\n",
        "\n",
        "if(glob.glob(save_embedding_matrix_path)):\n",
        "  print('Embedding matrix found. Loading ...')\n",
        "  with open(save_embedding_matrix_path, 'rb') as f:\n",
        "    embedding_matrix = pickle.load(f)\n",
        "\n",
        "  print('Done.')\n",
        "\n",
        "else:\n",
        "  embedding_matrix = get_w2v_matrix(tokenizer.word_index, embed_dim_w)\n",
        "  with open(save_embedding_matrix_path, 'wb+') as f:\n",
        "    pickle.dump(embedding_matrix, f)\n"
      ],
      "execution_count": 0,
      "outputs": [
        {
          "output_type": "stream",
          "text": [
            "Embedding matrix found. Loading ...\n",
            "Done.\n"
          ],
          "name": "stdout"
        }
      ]
    },
    {
      "cell_type": "code",
      "metadata": {
        "id": "fKJRdWgJt8MM",
        "colab_type": "code",
        "outputId": "222c0f22-ed4a-4eeb-9303-54f3a9083316",
        "colab": {
          "base_uri": "https://localhost:8080/",
          "height": 85
        }
      },
      "source": [
        "print(train_tokenized_seq.shape)\n",
        "print(train_labels.shape)\n",
        "\n",
        "print(embedding_matrix.shape)\n",
        "print(vocab_size)"
      ],
      "execution_count": 8,
      "outputs": [
        {
          "output_type": "stream",
          "text": [
            "(11314, 300)\n",
            "(11314, 20)\n",
            "(40440, 300)\n",
            "40439\n"
          ],
          "name": "stdout"
        }
      ]
    },
    {
      "cell_type": "markdown",
      "metadata": {
        "id": "FzOx9UXS6Zjh",
        "colab_type": "text"
      },
      "source": [
        "# Models"
      ]
    },
    {
      "cell_type": "markdown",
      "metadata": {
        "id": "wRAETz0q0CzP",
        "colab_type": "text"
      },
      "source": [
        "## WRNN (with LSTM unit)"
      ]
    },
    {
      "cell_type": "code",
      "metadata": {
        "id": "LHlUe2k2izJ_",
        "colab_type": "code",
        "outputId": "ef981325-5a0f-4fb4-fb85-80844711354d",
        "colab": {
          "base_uri": "https://localhost:8080/",
          "height": 1000
        }
      },
      "source": [
        "# architecture \n",
        "inp = Input(shape=(sl,))\n",
        "embed = Embedding(input_dim=vocab_size+1, output_dim=embed_dim, weights=[embedding_matrix], input_length=sl, trainable=True)(inp)\n",
        "lstm = LSTM(hidden_dim, return_sequences=True, recurrent_dropout=0.2, dropout=0.2)(embed) # o/p 300x128\n",
        "# Note o/p of a rnn cel or lstm cell gives prob of each word - (300,)\n",
        "# conv 1d inp shape - (128,300) -- reshape needed\n",
        "# r2 = Reshape((hidden_dim, sl))(lstm)\n",
        "conv1d = Conv1D(128,1, activation='relu')(lstm)\n",
        "gp = GlobalMaxPooling1D()(conv1d)\n",
        "d = Dense(hidden_dim, activation='relu')(gp)\n",
        "d = Dropout(0.1)(d)\n",
        "out = Dense(output_dim, activation='softmax', activity_regularizer=l1_l2(0.01,0.01))(d)\n",
        "model_wrnn = Model(input = inp, outputs = out)\n",
        "model_wrnn.summary()\n",
        "\n",
        "# training\n",
        "history = run_model(model_wrnn, train_tokenized_seq, train_labels, epochs, batch_size, vsplit)\n",
        "training_plots(history, 'wrnn.png', model_wrnn)\n",
        "\n",
        "# evaluation\n",
        "print(\"Evaluating...\")\n",
        "evaluate(model_wrnn, test_tokenized_seq, test_labels, batch_size)"
      ],
      "execution_count": 9,
      "outputs": [
        {
          "output_type": "stream",
          "text": [
            "WARNING:tensorflow:From /tensorflow-1.15.2/python3.6/tensorflow_core/python/ops/resource_variable_ops.py:1630: calling BaseResourceVariable.__init__ (from tensorflow.python.ops.resource_variable_ops) with constraint is deprecated and will be removed in a future version.\n",
            "Instructions for updating:\n",
            "If using Keras pass *_constraint arguments to layers.\n"
          ],
          "name": "stdout"
        },
        {
          "output_type": "stream",
          "text": [
            "/usr/local/lib/python3.6/dist-packages/ipykernel_launcher.py:12: UserWarning: Update your `Model` call to the Keras 2 API: `Model(outputs=Tensor(\"de..., inputs=Tensor(\"in...)`\n",
            "  if sys.path[0] == '':\n"
          ],
          "name": "stderr"
        },
        {
          "output_type": "stream",
          "text": [
            "Model: \"model_1\"\n",
            "_________________________________________________________________\n",
            "Layer (type)                 Output Shape              Param #   \n",
            "=================================================================\n",
            "input_1 (InputLayer)         (None, 300)               0         \n",
            "_________________________________________________________________\n",
            "embedding_1 (Embedding)      (None, 300, 300)          12132000  \n",
            "_________________________________________________________________\n",
            "lstm_1 (LSTM)                (None, 300, 128)          219648    \n",
            "_________________________________________________________________\n",
            "conv1d_1 (Conv1D)            (None, 300, 128)          16512     \n",
            "_________________________________________________________________\n",
            "global_max_pooling1d_1 (Glob (None, 128)               0         \n",
            "_________________________________________________________________\n",
            "dense_1 (Dense)              (None, 128)               16512     \n",
            "_________________________________________________________________\n",
            "dropout_1 (Dropout)          (None, 128)               0         \n",
            "_________________________________________________________________\n",
            "dense_2 (Dense)              (None, 20)                2580      \n",
            "=================================================================\n",
            "Total params: 12,387,252\n",
            "Trainable params: 12,387,252\n",
            "Non-trainable params: 0\n",
            "_________________________________________________________________\n",
            "START TRAINING\n",
            "WARNING:tensorflow:From /usr/local/lib/python3.6/dist-packages/keras/backend/tensorflow_backend.py:422: The name tf.global_variables is deprecated. Please use tf.compat.v1.global_variables instead.\n",
            "\n",
            "Train on 10748 samples, validate on 566 samples\n",
            "Epoch 1/10\n",
            "10748/10748 [==============================] - 31s 3ms/step - loss: 3.9783 - categorical_accuracy: 0.1963 - val_loss: 3.1138 - val_categorical_accuracy: 0.4982\n",
            "Epoch 2/10\n",
            "10748/10748 [==============================] - 25s 2ms/step - loss: 2.9450 - categorical_accuracy: 0.6328 - val_loss: 2.6674 - val_categorical_accuracy: 0.7332\n",
            "\n",
            "Epoch 00002: val_categorical_accuracy improved from -inf to 0.73322, saving model to 02_0.73.h5\n",
            "Epoch 3/10\n",
            "10748/10748 [==============================] - 24s 2ms/step - loss: 2.5763 - categorical_accuracy: 0.8320 - val_loss: 2.5706 - val_categorical_accuracy: 0.7845\n",
            "Epoch 4/10\n",
            "10748/10748 [==============================] - 24s 2ms/step - loss: 2.4475 - categorical_accuracy: 0.9164 - val_loss: 2.5305 - val_categorical_accuracy: 0.8145\n",
            "\n",
            "Epoch 00004: val_categorical_accuracy improved from 0.73322 to 0.81449, saving model to 04_0.81.h5\n",
            "Epoch 5/10\n",
            "10748/10748 [==============================] - 25s 2ms/step - loss: 2.4005 - categorical_accuracy: 0.9519 - val_loss: 2.4786 - val_categorical_accuracy: 0.8198\n",
            "Epoch 6/10\n",
            "10748/10748 [==============================] - 22s 2ms/step - loss: 2.3720 - categorical_accuracy: 0.9723 - val_loss: 2.4734 - val_categorical_accuracy: 0.8375\n",
            "\n",
            "Epoch 00006: val_categorical_accuracy improved from 0.81449 to 0.83746, saving model to 06_0.84.h5\n",
            "Epoch 7/10\n",
            "10748/10748 [==============================] - 22s 2ms/step - loss: 2.3532 - categorical_accuracy: 0.9820 - val_loss: 2.4640 - val_categorical_accuracy: 0.8498\n",
            "Epoch 8/10\n",
            "10748/10748 [==============================] - 22s 2ms/step - loss: 2.3463 - categorical_accuracy: 0.9866 - val_loss: 2.4543 - val_categorical_accuracy: 0.8587\n",
            "\n",
            "Epoch 00008: val_categorical_accuracy improved from 0.83746 to 0.85866, saving model to 08_0.86.h5\n",
            "Epoch 9/10\n",
            "10748/10748 [==============================] - 22s 2ms/step - loss: 2.3372 - categorical_accuracy: 0.9898 - val_loss: 2.4718 - val_categorical_accuracy: 0.8481\n",
            "Epoch 10/10\n",
            "10748/10748 [==============================] - 22s 2ms/step - loss: 2.3332 - categorical_accuracy: 0.9906 - val_loss: 2.4390 - val_categorical_accuracy: 0.8799\n",
            "\n",
            "Epoch 00010: val_categorical_accuracy improved from 0.85866 to 0.87986, saving model to 10_0.88.h5\n",
            "Training fininshed\n",
            "Average Time per epoch:  24.630123472213747\n"
          ],
          "name": "stdout"
        },
        {
          "output_type": "display_data",
          "data": {
            "image/png": "[encoded data removed]",
            "text/plain": [
              "<Figure size 432x288 with 1 Axes>"
            ]
          },
          "metadata": {
            "tags": [],
            "needs_background": "light"
          }
        },
        {
          "output_type": "display_data",
          "data": {
            "image/png": "[encoded data removed]",
            "text/plain": [
              "<Figure size 432x288 with 1 Axes>"
            ]
          },
          "metadata": {
            "tags": [],
            "needs_background": "light"
          }
        },
        {
          "output_type": "stream",
          "text": [
            "Evaluating...\n",
            "7532/7532 [==============================] - 6s 793us/step\n",
            "\n",
            " Model Accuracy :  0.7606213688850403\n",
            "\n",
            " Confusion Matrix: \n",
            " [[186   0   0   2   0   0   0   9   2   0   1   2   9   1   6  40  11   1\n",
            "    4  45]\n",
            " [  0 267  15  26  14  16  13   3   0   0   1   4  14   9   6   1   0   0\n",
            "    0   0]\n",
            " [  0  15 263  44  13   5   5   7   0   0   0   0  33   0   4   0   4   1\n",
            "    0   0]\n",
            " [  0   8  25 285  20   3  23   1   0   0   0   1  26   0   0   0   0   0\n",
            "    0   0]\n",
            " [  0   6   4  40 291   1  14   3   0   0   0   0  24   0   1   0   1   0\n",
            "    0   0]\n",
            " [  0  31  28  10   5 305   4   3   1   0   0   1   6   0   0   0   0   1\n",
            "    0   0]\n",
            " [  0   4   3  16   7   1 340   2   1   0   1   1  11   1   2   0   0   0\n",
            "    0   0]\n",
            " [  2   1   1   2   4   1  27 291  12   1   4   1  41   2   4   0   0   0\n",
            "    1   1]\n",
            " [  1   2   0   1   0   1  14  12 349   0   1   0   8   2   6   0   1   0\n",
            "    0   0]\n",
            " [  0   5   1   0   0   0  10   4   2 333  21   0   6   6   5   1   0   0\n",
            "    2   1]\n",
            " [  0   0   0   0   1   0  21   4   0  13 348   0   8   1   2   0   0   0\n",
            "    0   1]\n",
            " [  0   0   1   3   1   1   3  11   0   0   0 349  16   2   1   0   6   0\n",
            "    2   0]\n",
            " [  0   4   4  47   9   2  19   8   5   1   0   6 277   5   4   0   2   0\n",
            "    0   0]\n",
            " [  3   8   1   5   0   2  11   3   3   3   1   2  48 283   7   3   4   0\n",
            "    9   0]\n",
            " [  0   3   0   0   4   5   2   2   0   1   0   3  13   9 342   1   3   0\n",
            "    6   0]\n",
            " [  7   0   1   1   0   2   0   3   0   2   1   0   1   0   2 331   6   0\n",
            "    6  35]\n",
            " [  0   1   0   0   0   0   0   3   0   0   1  11  14   0   3   1 301   1\n",
            "   15  13]\n",
            " [ 12   0   0   0   0   0   0   3   1   1   1   3   4   5   5   6  17 278\n",
            "    7  33]\n",
            " [  2   0   0   0   1   0   1   7   0   1   0   4  10   9   1   4  75   0\n",
            "  168  27]\n",
            " [ 23   0   0   0   0   0   1   5   0   0   1   2   6   0   3  46  17   1\n",
            "    4 142]]\n",
            "\n",
            "Classification Report\n",
            "                precision    recall  f1-score   support\n",
            "\n",
            "           0       0.79      0.58      0.67       319\n",
            "           1       0.75      0.69      0.72       389\n",
            "           2       0.76      0.67      0.71       394\n",
            "           3       0.59      0.73      0.65       392\n",
            "           4       0.79      0.76      0.77       385\n",
            "           5       0.88      0.77      0.82       395\n",
            "           6       0.67      0.87      0.76       390\n",
            "           7       0.76      0.73      0.75       396\n",
            "           8       0.93      0.88      0.90       398\n",
            "           9       0.94      0.84      0.88       397\n",
            "          10       0.91      0.87      0.89       399\n",
            "          11       0.89      0.88      0.89       396\n",
            "          12       0.48      0.70      0.57       393\n",
            "          13       0.84      0.71      0.77       396\n",
            "          14       0.85      0.87      0.86       394\n",
            "          15       0.76      0.83      0.80       398\n",
            "          16       0.67      0.83      0.74       364\n",
            "          17       0.98      0.74      0.84       376\n",
            "          18       0.75      0.54      0.63       310\n",
            "          19       0.48      0.57      0.52       251\n",
            "\n",
            "    accuracy                           0.76      7532\n",
            "   macro avg       0.77      0.75      0.76      7532\n",
            "weighted avg       0.78      0.76      0.76      7532\n",
            "\n"
          ],
          "name": "stdout"
        }
      ]
    },
    {
      "cell_type": "markdown",
      "metadata": {
        "id": "-VAspm57zATT",
        "colab_type": "text"
      },
      "source": [
        "## WRNN (with GRU unit)"
      ]
    },
    {
      "cell_type": "code",
      "metadata": {
        "id": "PcbtznfpymnN",
        "colab_type": "code",
        "outputId": "fd494714-bc99-4217-9bec-8625751ea3f4",
        "colab": {
          "base_uri": "https://localhost:8080/",
          "height": 1000
        }
      },
      "source": [
        "# architecture \n",
        "inp = Input(shape=(sl,))\n",
        "embed = Embedding(input_dim=vocab_size+1, output_dim=embed_dim, weights= [embedding_matrix], input_length=sl, trainable = True )(inp)\n",
        "lstm = GRU(hidden_dim, return_sequences=True, dropout=0.2)(embed) # o/p 300x128\n",
        "# Note o/p of a rnn cel or lstm cell gives prob of each word - (300,)\n",
        "# conv 1d inp shape - (128,300) -- reshape needed\n",
        "# r2 = Reshape((hidden_dim, sl))(lstm)\n",
        "conv1d = Conv1D(128,1, activation='relu')(lstm)\n",
        "gp = GlobalMaxPooling1D()(conv1d)\n",
        "d = Dense(hidden_dim, activation='relu')(gp)\n",
        "d = Dropout(0.1)(d)\n",
        "out = Dense(output_dim, activation='softmax', activity_regularizer=l1_l2(0.01,0.01))(d)\n",
        "model_wrnn = Model(input = inp, outputs = out)\n",
        "model_wrnn.summary()\n",
        "\n",
        "# training\n",
        "history = run_model(model_wrnn, train_tokenized_seq, train_labels, epochs, batch_size, vsplit)\n",
        "\n",
        "# evaluation\n",
        "print(\"Evaluating...\")\n",
        "evaluate(model_wrnn, test_tokenized_seq, test_labels, batch_size)\n",
        "# plot curves\n",
        "training_plots(history, 'wrnn.png', model_wrnn)"
      ],
      "execution_count": 0,
      "outputs": [
        {
          "output_type": "stream",
          "text": [
            "/usr/local/lib/python3.6/dist-packages/ipykernel_launcher.py:12: UserWarning: Update your `Model` call to the Keras 2 API: `Model(outputs=Tensor(\"de..., inputs=Tensor(\"in...)`\n",
            "  if sys.path[0] == '':\n"
          ],
          "name": "stderr"
        },
        {
          "output_type": "stream",
          "text": [
            "Model: \"model_9\"\n",
            "_________________________________________________________________\n",
            "Layer (type)                 Output Shape              Param #   \n",
            "=================================================================\n",
            "input_10 (InputLayer)        (None, 300)               0         \n",
            "_________________________________________________________________\n",
            "embedding_10 (Embedding)     (None, 300, 300)          12132000  \n",
            "_________________________________________________________________\n",
            "gru_3 (GRU)                  (None, 300, 128)          164736    \n",
            "_________________________________________________________________\n",
            "conv1d_9 (Conv1D)            (None, 300, 128)          16512     \n",
            "_________________________________________________________________\n",
            "global_max_pooling1d_9 (Glob (None, 128)               0         \n",
            "_________________________________________________________________\n",
            "dense_17 (Dense)             (None, 128)               16512     \n",
            "_________________________________________________________________\n",
            "dropout_8 (Dropout)          (None, 128)               0         \n",
            "_________________________________________________________________\n",
            "dense_18 (Dense)             (None, 20)                2580      \n",
            "=================================================================\n",
            "Total params: 12,332,340\n",
            "Trainable params: 12,332,340\n",
            "Non-trainable params: 0\n",
            "_________________________________________________________________\n",
            "START TRAINING\n",
            "Train on 10748 samples, validate on 566 samples\n",
            "Epoch 1/10\n",
            "10748/10748 [==============================] - 37s 3ms/step - loss: 3.8849 - categorical_accuracy: 0.2470 - val_loss: 2.9285 - val_categorical_accuracy: 0.6095\n",
            "Epoch 2/10\n",
            "10748/10748 [==============================] - 36s 3ms/step - loss: 2.7763 - categorical_accuracy: 0.7294 - val_loss: 2.6080 - val_categorical_accuracy: 0.7933\n",
            "\n",
            "Epoch 00002: val_categorical_accuracy improved from -inf to 0.79329, saving model to 02_0.79.h5\n",
            "Epoch 3/10\n",
            "10748/10748 [==============================] - 36s 3ms/step - loss: 2.4981 - categorical_accuracy: 0.8879 - val_loss: 2.5378 - val_categorical_accuracy: 0.8216\n",
            "Epoch 4/10\n",
            "10748/10748 [==============================] - 36s 3ms/step - loss: 2.4089 - categorical_accuracy: 0.9464 - val_loss: 2.5050 - val_categorical_accuracy: 0.8339\n",
            "\n",
            "Epoch 00004: val_categorical_accuracy improved from 0.79329 to 0.83392, saving model to 04_0.83.h5\n",
            "Epoch 5/10\n",
            "10748/10748 [==============================] - 36s 3ms/step - loss: 2.3697 - categorical_accuracy: 0.9710 - val_loss: 2.4737 - val_categorical_accuracy: 0.8339\n",
            "Epoch 6/10\n",
            "10748/10748 [==============================] - 36s 3ms/step - loss: 2.3473 - categorical_accuracy: 0.9837 - val_loss: 2.4418 - val_categorical_accuracy: 0.8498\n",
            "\n",
            "Epoch 00006: val_categorical_accuracy improved from 0.83392 to 0.84982, saving model to 06_0.85.h5\n",
            "Epoch 7/10\n",
            "10748/10748 [==============================] - 36s 3ms/step - loss: 2.3326 - categorical_accuracy: 0.9905 - val_loss: 2.4451 - val_categorical_accuracy: 0.8640\n",
            "Epoch 8/10\n",
            "10748/10748 [==============================] - 36s 3ms/step - loss: 2.3257 - categorical_accuracy: 0.9931 - val_loss: 2.4492 - val_categorical_accuracy: 0.8463\n",
            "\n",
            "Epoch 00008: val_categorical_accuracy did not improve from 0.84982\n",
            "Epoch 9/10\n",
            "10748/10748 [==============================] - 36s 3ms/step - loss: 2.3201 - categorical_accuracy: 0.9959 - val_loss: 2.4434 - val_categorical_accuracy: 0.8551\n",
            "Epoch 10/10\n",
            "10748/10748 [==============================] - 36s 3ms/step - loss: 2.3147 - categorical_accuracy: 0.9967 - val_loss: 2.4151 - val_categorical_accuracy: 0.8746\n",
            "\n",
            "Epoch 00010: val_categorical_accuracy improved from 0.84982 to 0.87456, saving model to 10_0.87.h5\n",
            "Training fininshed\n"
          ],
          "name": "stdout"
        },
        {
          "output_type": "display_data",
          "data": {
            "image/png": "[encoded data removed]",
            "text/plain": [
              "<Figure size 432x288 with 1 Axes>"
            ]
          },
          "metadata": {
            "tags": [],
            "needs_background": "light"
          }
        },
        {
          "output_type": "display_data",
          "data": {
            "image/png": "[encoded data removed]",
            "text/plain": [
              "<Figure size 432x288 with 1 Axes>"
            ]
          },
          "metadata": {
            "tags": [],
            "needs_background": "light"
          }
        },
        {
          "output_type": "stream",
          "text": [
            "Evaluating...\n",
            "7532/7532 [==============================] - 12s 2ms/step\n",
            "\n",
            " Model Accuracy :  0.7867764234542847\n",
            "\n",
            " Confusion Matrix: \n",
            " [[212   0   2   1   0   2   2   4   2   5   3   2   4   5   5  34   1   0\n",
            "    4  31]\n",
            " [  2 260  16  23   9  30   8   8   3   1   0   4  13   9   2   0   0   0\n",
            "    1   0]\n",
            " [  0  17 273  40  13   8   1   2   8   2   0   3   5   5   8   2   3   0\n",
            "    2   2]\n",
            " [  0  12  16 308  14   2  18   2   1   1   0   0  16   1   0   0   1   0\n",
            "    0   0]\n",
            " [  0   6   6  33 303   0   7   7   0   0   0   0  21   0   1   0   0   1\n",
            "    0   0]\n",
            " [  0  33  23   1   4 322   7   0   0   0   0   0   1   3   0   0   1   0\n",
            "    0   0]\n",
            " [  0   2   4  16   9   1 326   6   3   0   2   0  17   2   2   0   0   0\n",
            "    0   0]\n",
            " [  0   4   5   5   2   0  11 334   8   0   0   0  23   1   0   1   0   0\n",
            "    2   0]\n",
            " [  0   1   2   2   4   0   9  15 358   1   0   2   3   1   0   0   0   0\n",
            "    0   0]\n",
            " [  0   0   1   1   0   1   9   3   1 342  22   1   4   6   1   0   0   0\n",
            "    2   3]\n",
            " [  0   0   0   0   0   0   4   1   0  16 372   0   2   3   1   0   0   0\n",
            "    0   0]\n",
            " [  0   0   1   3   1   0   4   0   0   1   1 343  14   2   4   0   6   0\n",
            "   13   3]\n",
            " [  1   3   9  32   9   2  25   6   3   1   1   7 269  20   1   0   3   0\n",
            "    0   1]\n",
            " [  4   6   2   2   1   5  19  13   2   3   7   0  13 297   2   7   1   3\n",
            "    7   2]\n",
            " [  2   3   2   2   2   1   2   1   0   0   1   0   7   6 354   1   3   1\n",
            "    6   0]\n",
            " [ 18   2   0   0   0   0   1   4   0   1   0   1   1   7   1 334   2   1\n",
            "    0  25]\n",
            " [  0   0   1   1   1   0   0   4   2   0   0   7   0   1   4   0 320   1\n",
            "   12  10]\n",
            " [ 20   0   0   0   0   3   0   2   0   4   3   2   0  14   1   7   6 295\n",
            "   13   6]\n",
            " [  4   0   3   1   0   0   3   3   3   0   2   5   1   7   3   4 100   7\n",
            "  159   5]\n",
            " [ 31   0   0   0   1   1   0   8   0   6   0   0   0   5   3  23  19   0\n",
            "    9 145]]\n",
            "\n",
            "Classification Report\n",
            "                precision    recall  f1-score   support\n",
            "\n",
            "           0       0.72      0.66      0.69       319\n",
            "           1       0.74      0.67      0.70       389\n",
            "           2       0.75      0.69      0.72       394\n",
            "           3       0.65      0.79      0.71       392\n",
            "           4       0.81      0.79      0.80       385\n",
            "           5       0.85      0.82      0.83       395\n",
            "           6       0.71      0.84      0.77       390\n",
            "           7       0.79      0.84      0.82       396\n",
            "           8       0.91      0.90      0.90       398\n",
            "           9       0.89      0.86      0.88       397\n",
            "          10       0.90      0.93      0.92       399\n",
            "          11       0.91      0.87      0.89       396\n",
            "          12       0.65      0.68      0.67       393\n",
            "          13       0.75      0.75      0.75       396\n",
            "          14       0.90      0.90      0.90       394\n",
            "          15       0.81      0.84      0.82       398\n",
            "          16       0.69      0.88      0.77       364\n",
            "          17       0.95      0.78      0.86       376\n",
            "          18       0.69      0.51      0.59       310\n",
            "          19       0.62      0.58      0.60       251\n",
            "\n",
            "    accuracy                           0.79      7532\n",
            "   macro avg       0.79      0.78      0.78      7532\n",
            "weighted avg       0.79      0.79      0.79      7532\n",
            "\n"
          ],
          "name": "stdout"
        }
      ]
    },
    {
      "cell_type": "markdown",
      "metadata": {
        "id": "EDQCVLzrhobu",
        "colab_type": "text"
      },
      "source": [
        "## w2v"
      ]
    },
    {
      "cell_type": "code",
      "metadata": {
        "id": "asjCZPhL6MnI",
        "colab_type": "code",
        "colab": {}
      },
      "source": [
        "# # W2V \n",
        "\n",
        "\n",
        "# inp = Input(shape= (sl,))\n",
        "# embed = Embedding(input_dim=vocab_size_w, output_dim=embed_dim_w, weights= [w2v_weights], input_length=sl, trainable = True )(inp)\n",
        "# # embed = Embedding(input_dim=vocab_size, output_dim=embed_dim_w,  input_length=sl, trainable = True )(inp)\n",
        "# # embed = Embedding(input_dim=vocab_size, output_dim=embed_dim, input_length=sl )(inp)\n",
        "# lstm = LSTM(hidden_dim,return_sequences=True,recurrent_dropout=0.2,dropout=0.2)(embed) # o/p 300x128\n",
        "# # Note o/p of a rnn cel or lstm cell gives prob of each word - (300,)\n",
        "# # conv 1d inp shape - (128,300) -- reshape needed\n",
        "# f1 = Flatten()(lstm)\n",
        "# r2 = Reshape((hidden_dim,sl))(f1)\n",
        "# conv1d = Conv1D(128,1, activation='relu' )(r2)\n",
        "# gp = GlobalMaxPooling1D()(conv1d)\n",
        "# # dense = Dense(1,activation='relu')(conv1d)\n",
        "# # f = Flatten()(gp)\n",
        "# d = Dense(hidden_dim,activation='relu')(gp)\n",
        "# out = Dense(output_dim, activation='softmax', activity_regularizer=l1_l2(0.01,0.01))(d)\n",
        "# model = Model(input = inp, outputs = out)\n",
        "# model.summary()\n"
      ],
      "execution_count": 0,
      "outputs": []
    },
    {
      "cell_type": "code",
      "metadata": {
        "id": "Hng23UmrEo5a",
        "colab_type": "code",
        "colab": {}
      },
      "source": [
        "# # bidirectional 0.88\n",
        "\n",
        "\n",
        "# inp = Input(shape= (sl,))\n",
        "# embed = Embedding(input_dim=vocab_size, output_dim=embed_dim, weights= [embedding_matrix], input_length=sl, trainable = True )(inp)\n",
        "# # embed = Embedding(input_dim=vocab_size, output_dim=embed_dim, input_length=sl )(inp)\n",
        "# lstm = Bidirectional(LSTM(hidden_dim,return_sequences=True,recurrent_dropout=0.2,dropout=0.2))(embed) # o/p 300x256\n",
        "# # Note o/p of a rnn cel or lstm cell gives prob of each word - (300,)\n",
        "# # conv 1d inp shape - (128,300) -- reshape needed\n",
        "# f1 = Flatten()(lstm)\n",
        "# r2 = Reshape((2*hidden_dim,sl))(f1)\n",
        "# conv1d = Conv1D(hidden_dim,1, activation='relu' )(r2)\n",
        "# # gp = MaxPooling1D(32)(conv1d)\n",
        "# gp = GlobalMaxPooling1D()(conv1d)\n",
        "# # dense = Dense(1,activation='relu')(conv1d)\n",
        "# # f = Flatten()(gp)\n",
        "# d = Dense(hidden_dim,activation='relu')(gp)\n",
        "# out = Dense(output_dim, activation='softmax', activity_regularizer=l1_l2(0.01,0.01))(d)\n",
        "# model = Model(input = inp, outputs = out)\n",
        "# model.summary()\n"
      ],
      "execution_count": 0,
      "outputs": []
    },
    {
      "cell_type": "markdown",
      "metadata": {
        "id": "8GxXaNXuhqbC",
        "colab_type": "text"
      },
      "source": [
        "## 2) Simple  GRU"
      ]
    },
    {
      "cell_type": "code",
      "metadata": {
        "id": "6AJsF2y8YJuT",
        "colab_type": "code",
        "outputId": "9401c13b-a558-44b9-c1a0-6d0843a06b31",
        "colab": {
          "base_uri": "https://localhost:8080/",
          "height": 1000
        }
      },
      "source": [
        "model_gru = Sequential([Embedding(input_dim=vocab_size+1, output_dim=embed_dim, weights= [embedding_matrix], input_length=sl, trainable = True ),\n",
        "                        GRU(hidden_dim,dropout=0.2),\n",
        "                        Dense(hidden_dim,activation='relu'),\n",
        "                        Dense(output_dim,activation='softmax')])\n",
        "\n",
        "history_gru = run_model(model_gru, train_tokenized_seq, train_labels, epochs, batch_size, vsplit)\n",
        "\n",
        "print(\"Evaluating...\")\n",
        "evaluate(model_gru, test_tokenized_seq, test_labels, batch_size)\n",
        "# plot curves\n",
        "training_plots(history_gru, 'simple_gru.png', model_gru)"
      ],
      "execution_count": 10,
      "outputs": [
        {
          "output_type": "stream",
          "text": [
            "START TRAINING\n",
            "Train on 10748 samples, validate on 566 samples\n",
            "Epoch 1/10\n",
            "10748/10748 [==============================] - 25s 2ms/step - loss: 2.4259 - categorical_accuracy: 0.2733 - val_loss: 1.7328 - val_categorical_accuracy: 0.4417\n",
            "Epoch 2/10\n",
            "10748/10748 [==============================] - 25s 2ms/step - loss: 0.8983 - categorical_accuracy: 0.7125 - val_loss: 0.7239 - val_categorical_accuracy: 0.7915\n",
            "\n",
            "Epoch 00002: val_categorical_accuracy improved from -inf to 0.79152, saving model to 02_0.79.h5\n",
            "Epoch 3/10\n",
            "10748/10748 [==============================] - 25s 2ms/step - loss: 0.2312 - categorical_accuracy: 0.9281 - val_loss: 0.7695 - val_categorical_accuracy: 0.7968\n",
            "Epoch 4/10\n",
            "10748/10748 [==============================] - 25s 2ms/step - loss: 0.0774 - categorical_accuracy: 0.9765 - val_loss: 0.7449 - val_categorical_accuracy: 0.8216\n",
            "\n",
            "Epoch 00004: val_categorical_accuracy improved from 0.79152 to 0.82155, saving model to 04_0.82.h5\n",
            "Epoch 5/10\n",
            "10748/10748 [==============================] - 25s 2ms/step - loss: 0.0448 - categorical_accuracy: 0.9887 - val_loss: 0.7688 - val_categorical_accuracy: 0.8233\n",
            "Epoch 6/10\n",
            "10748/10748 [==============================] - 25s 2ms/step - loss: 0.0301 - categorical_accuracy: 0.9929 - val_loss: 0.8417 - val_categorical_accuracy: 0.8074\n",
            "\n",
            "Epoch 00006: val_categorical_accuracy did not improve from 0.82155\n",
            "Epoch 00006: early stopping\n",
            "Training fininshed\n",
            "Average Time per epoch:  15.39748456478119\n",
            "Evaluating...\n",
            "7532/7532 [==============================] - 7s 913us/step\n",
            "\n",
            " Model Accuracy :  0.7221189737319946\n",
            "\n",
            " Confusion Matrix: \n",
            " [[189   4   0   2   1   3   1   5   0   2   1   8   1   5   4  16   6   8\n",
            "   10  53]\n",
            " [  4 211  28  18  14  66   8   8   1   1   1   7   9   5   3   1   1   0\n",
            "    2   1]\n",
            " [  2   9 258  28  19  22   5   1   1   1   0   4   5   1  15  11   1   3\n",
            "    6   2]\n",
            " [  1  10  43 227  29  16  22   1   0   0   0   1  37   1   1   3   0   0\n",
            "    0   0]\n",
            " [  2  12  11  18 280  11  11   5   0   0   0   5  20   2   2   1   0   0\n",
            "    3   2]\n",
            " [  2  22  38  10   0 301   3   3   1   2   1   3   3   3   2   1   0   0\n",
            "    0   0]\n",
            " [  0   2   2  22   7   2 304  18   1   2   2   0  15   3   4   0   1   1\n",
            "    3   1]\n",
            " [  3   1   1   4   1   4   3 332  13   4   0   1  10   6   9   0   1   0\n",
            "    3   0]\n",
            " [  2   1   1   0   0   1   0  17 360   2   0   0   1   5   1   1   1   0\n",
            "    1   4]\n",
            " [  0   1   0   0   1   1   3   5   2 333  13   2   4  10   4   4   3   0\n",
            "    5   6]\n",
            " [  0   0   2   0   1   0   0   2   3  18 358   0   1   1   6   0   2   0\n",
            "    4   1]\n",
            " [  2   3   0   2   1   5   1   2   0   1   0 338  13   5   2   1   3   1\n",
            "   10   6]\n",
            " [  2   5   9  25  14  10  17  12   4   3   0   4 256   4  23   1   0   2\n",
            "    2   0]\n",
            " [ 15   8   0   7   6   8   6  19   3   6   0   3  11 254   5  11   6   0\n",
            "   14  14]\n",
            " [  4   3   1   0   2   4   5   1   0   1   0   4  14   0 343   2   4   0\n",
            "    5   1]\n",
            " [ 12   3   2   1   0   0   0   1   0   2   1   0   0   6   2 266   4   0\n",
            "   16  82]\n",
            " [  3   0   0   0   0   0   1   2   0   3   1   8   1   3   7   4 279   3\n",
            "   25  24]\n",
            " [ 10   0   1   0   0   1   1   2   1   5   3   1   0   1  10  13  13 251\n",
            "   36  27]\n",
            " [ 15   0   1   0   1   1   0   0   0   1   0   7   4   5  12   6  51   9\n",
            "  160  37]\n",
            " [ 39   0   1   0   1   2   0   5   0   1   0   2   2   6   2  18   9   6\n",
            "   18 139]]\n",
            "\n",
            "Classification Report\n",
            "                precision    recall  f1-score   support\n",
            "\n",
            "           0       0.62      0.59      0.60       319\n",
            "           1       0.72      0.54      0.62       389\n",
            "           2       0.65      0.65      0.65       394\n",
            "           3       0.62      0.58      0.60       392\n",
            "           4       0.74      0.73      0.73       385\n",
            "           5       0.66      0.76      0.71       395\n",
            "           6       0.78      0.78      0.78       390\n",
            "           7       0.75      0.84      0.79       396\n",
            "           8       0.92      0.90      0.91       398\n",
            "           9       0.86      0.84      0.85       397\n",
            "          10       0.94      0.90      0.92       399\n",
            "          11       0.85      0.85      0.85       396\n",
            "          12       0.63      0.65      0.64       393\n",
            "          13       0.78      0.64      0.70       396\n",
            "          14       0.75      0.87      0.81       394\n",
            "          15       0.74      0.67      0.70       398\n",
            "          16       0.72      0.77      0.74       364\n",
            "          17       0.88      0.67      0.76       376\n",
            "          18       0.50      0.52      0.51       310\n",
            "          19       0.35      0.55      0.43       251\n",
            "\n",
            "    accuracy                           0.72      7532\n",
            "   macro avg       0.72      0.72      0.72      7532\n",
            "weighted avg       0.73      0.72      0.72      7532\n",
            "\n"
          ],
          "name": "stdout"
        },
        {
          "output_type": "display_data",
          "data": {
            "image/png": "[encoded data removed]",
            "text/plain": [
              "<Figure size 432x288 with 1 Axes>"
            ]
          },
          "metadata": {
            "tags": [],
            "needs_background": "light"
          }
        },
        {
          "output_type": "display_data",
          "data": {
            "image/png": "[encoded data removed]",
            "text/plain": [
              "<Figure size 432x288 with 1 Axes>"
            ]
          },
          "metadata": {
            "tags": [],
            "needs_background": "light"
          }
        }
      ]
    },
    {
      "cell_type": "markdown",
      "metadata": {
        "id": "r32iako05TDd",
        "colab_type": "text"
      },
      "source": [
        "## 3) BiGRU"
      ]
    },
    {
      "cell_type": "code",
      "metadata": {
        "id": "JmbYmhnY5Skd",
        "colab_type": "code",
        "outputId": "2512dc62-4f1d-4cd5-be76-44f6a109ed9c",
        "colab": {
          "base_uri": "https://localhost:8080/",
          "height": 1000
        }
      },
      "source": [
        "model_BiGRU = Sequential([Embedding(input_dim=vocab_size+1, output_dim=embed_dim, weights= [embedding_matrix], input_length=sl, trainable = True ),\n",
        "                        Bidirectional(GRU(hidden_dim,dropout=0.2)),\n",
        "                        Dense(hidden_dim,activation='relu'),\n",
        "                        Dense(output_dim,activation='softmax')])\n",
        "\n",
        "history_bigru = run_model(model_BiGRU, train_tokenized_seq, train_labels, epochs, batch_size, vsplit)\n",
        "\n",
        "print(\"Evaluating...\")\n",
        "evaluate(model_BiGRU, test_tokenized_seq, test_labels, batch_size)\n",
        "# plot curves\n",
        "training_plots(history_bigru, 'BiGRU.png', model_BiGRU)"
      ],
      "execution_count": 15,
      "outputs": [
        {
          "output_type": "stream",
          "text": [
            "START TRAINING\n",
            "Train on 10748 samples, validate on 566 samples\n",
            "Epoch 1/10\n",
            "10748/10748 [==============================] - 50s 5ms/step - loss: 2.6817 - categorical_accuracy: 0.1807 - val_loss: 2.1036 - val_categorical_accuracy: 0.3163\n",
            "Epoch 2/10\n",
            "10748/10748 [==============================] - 49s 5ms/step - loss: 1.3289 - categorical_accuracy: 0.5591 - val_loss: 0.9143 - val_categorical_accuracy: 0.7279\n",
            "\n",
            "Epoch 00002: val_categorical_accuracy improved from -inf to 0.72792, saving model to 02_0.73.h5\n",
            "Epoch 3/10\n",
            "10748/10748 [==============================] - 49s 5ms/step - loss: 0.4534 - categorical_accuracy: 0.8584 - val_loss: 0.7164 - val_categorical_accuracy: 0.8110\n",
            "Epoch 4/10\n",
            "10748/10748 [==============================] - 49s 5ms/step - loss: 0.1938 - categorical_accuracy: 0.9387 - val_loss: 0.7809 - val_categorical_accuracy: 0.8269\n",
            "\n",
            "Epoch 00004: val_categorical_accuracy improved from 0.72792 to 0.82686, saving model to 04_0.83.h5\n",
            "Epoch 5/10\n",
            "10748/10748 [==============================] - 49s 5ms/step - loss: 0.1144 - categorical_accuracy: 0.9674 - val_loss: 0.8821 - val_categorical_accuracy: 0.7986\n",
            "Epoch 6/10\n",
            "10748/10748 [==============================] - 49s 5ms/step - loss: 0.0966 - categorical_accuracy: 0.9717 - val_loss: 0.8966 - val_categorical_accuracy: 0.8145\n",
            "\n",
            "Epoch 00006: val_categorical_accuracy did not improve from 0.82686\n",
            "Epoch 7/10\n",
            "10748/10748 [==============================] - 49s 5ms/step - loss: 0.1100 - categorical_accuracy: 0.9673 - val_loss: 0.9402 - val_categorical_accuracy: 0.8110\n",
            "Epoch 00007: early stopping\n",
            "Training fininshed\n",
            "Average Time per epoch:  49.81815225737436\n",
            "Evaluating...\n",
            "7532/7532 [==============================] - 14s 2ms/step\n",
            "\n",
            " Model Accuracy :  0.7185342311859131\n",
            "\n",
            " Confusion Matrix: \n",
            " [[222   1   0   1   3   0   0   3   1   1   4   5   2   7   6  26   4   1\n",
            "    1  31]\n",
            " [  3 264  24  17   4  25   1  11   7   0   2   4  17   1   3   1   1   0\n",
            "    3   1]\n",
            " [  2  48 229  43  11  18   8   3   4   0   2   1   7  11   3   0   0   1\n",
            "    2   1]\n",
            " [  0  23  33 252  21   3  25   4   1   2   0   0  22   1   2   2   0   0\n",
            "    1   0]\n",
            " [  1  12   6  37 272   7  14   4   3   1   1   0  18   6   3   0   0   0\n",
            "    0   0]\n",
            " [  1  31  25   9   4 303   4   2   4   0   2   2   6   1   0   0   0   0\n",
            "    1   0]\n",
            " [  0   3   8  19   8   0 311  16   1   2   1   1  13   4   1   1   0   0\n",
            "    1   0]\n",
            " [  1   4   6   3   2   1   7 323   8   4   2   0  23   2   2   1   2   0\n",
            "    5   0]\n",
            " [  7   4   0   3   1   1   2   7 362   0   0   1   5   1   0   1   1   0\n",
            "    1   1]\n",
            " [ 10   0   1   0   1   0  11   4   0 329  25   0   0   2   1   2   0   4\n",
            "    5   2]\n",
            " [  4   3   4   0   0   0   6   0   0  15 359   0   2   4   0   1   0   0\n",
            "    0   1]\n",
            " [  9   0   2   1   3   9   0   1   4   0   1 329  10   2   1   3  12   0\n",
            "    9   0]\n",
            " [  7  15  13  27  13  14  21  16  11   1   2   7 232   2   6   4   1   0\n",
            "    1   0]\n",
            " [ 10   5   7  12   9   3  16  12   5   2  19   1  12 248   7   3   3   5\n",
            "    8   9]\n",
            " [  4  10  12   2   4  11   0  10   1   1   3   6  21  12 272   0   5   4\n",
            "   14   2]\n",
            " [ 17   2   0   0   2   0   1   1   0   3   0   0   0   5   1 313   0   0\n",
            "    4  49]\n",
            " [  4   1   0   1   1   0   1   6   8   1   0   4   2   8   3   5 254   5\n",
            "   30  30]\n",
            " [ 29   0   1   0   3   0   1   2   1  11   3   0   4  10   7   9   9 242\n",
            "   23  21]\n",
            " [ 12   2   1   1   1   0   0   8   3   5   3   2   1   7   3   4  51   6\n",
            "  176  24]\n",
            " [ 55   0   0   0   0   1   1   6   1   4   2   1   1   4   1  29  13   2\n",
            "   10 120]]\n",
            "\n",
            "Classification Report\n",
            "                precision    recall  f1-score   support\n",
            "\n",
            "           0       0.56      0.70      0.62       319\n",
            "           1       0.62      0.68      0.65       389\n",
            "           2       0.62      0.58      0.60       394\n",
            "           3       0.59      0.64      0.61       392\n",
            "           4       0.75      0.71      0.73       385\n",
            "           5       0.77      0.77      0.77       395\n",
            "           6       0.72      0.80      0.76       390\n",
            "           7       0.74      0.82      0.77       396\n",
            "           8       0.85      0.91      0.88       398\n",
            "           9       0.86      0.83      0.84       397\n",
            "          10       0.83      0.90      0.87       399\n",
            "          11       0.90      0.83      0.87       396\n",
            "          12       0.58      0.59      0.59       393\n",
            "          13       0.73      0.63      0.68       396\n",
            "          14       0.84      0.69      0.76       394\n",
            "          15       0.77      0.79      0.78       398\n",
            "          16       0.71      0.70      0.71       364\n",
            "          17       0.90      0.64      0.75       376\n",
            "          18       0.60      0.57      0.58       310\n",
            "          19       0.41      0.48      0.44       251\n",
            "\n",
            "    accuracy                           0.72      7532\n",
            "   macro avg       0.72      0.71      0.71      7532\n",
            "weighted avg       0.73      0.72      0.72      7532\n",
            "\n"
          ],
          "name": "stdout"
        },
        {
          "output_type": "display_data",
          "data": {
            "image/png": "[encoded data removed]",
            "text/plain": [
              "<Figure size 432x288 with 1 Axes>"
            ]
          },
          "metadata": {
            "tags": [],
            "needs_background": "light"
          }
        },
        {
          "output_type": "display_data",
          "data": {
            "image/png": "[encoded data removed]",
            "text/plain": [
              "<Figure size 432x288 with 1 Axes>"
            ]
          },
          "metadata": {
            "tags": [],
            "needs_background": "light"
          }
        }
      ]
    },
    {
      "cell_type": "code",
      "metadata": {
        "id": "RqgTGAMW4lOb",
        "colab_type": "code",
        "colab": {}
      },
      "source": [
        ""
      ],
      "execution_count": 0,
      "outputs": []
    }
  ]
}